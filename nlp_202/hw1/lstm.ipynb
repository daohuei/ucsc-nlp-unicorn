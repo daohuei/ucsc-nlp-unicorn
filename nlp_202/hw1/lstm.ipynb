{
 "cells": [
  {
   "cell_type": "code",
   "execution_count": 8,
   "metadata": {},
   "outputs": [],
   "source": [
    "import torch\n",
    "\n",
    "device = torch.device(\"cuda\" if torch.cuda.is_available() else \"cpu\")"
   ]
  },
  {
   "cell_type": "code",
   "execution_count": 9,
   "metadata": {},
   "outputs": [],
   "source": [
    "SEED = 1234\n",
    "# same seed generator\n",
    "torch.manual_seed(SEED)\n",
    "\n",
    "# to make sure input output are fixed/deterministic\n",
    "torch.backends.cudnn.deterministic = True"
   ]
  },
  {
   "cell_type": "code",
   "execution_count": 10,
   "metadata": {},
   "outputs": [],
   "source": [
    "from torchtext import datasets"
   ]
  },
  {
   "cell_type": "code",
   "execution_count": 11,
   "metadata": {},
   "outputs": [],
   "source": [
    "all_train_data, test_data = datasets.IMDB(split=(\"train\", \"test\"))"
   ]
  },
  {
   "cell_type": "code",
   "execution_count": 12,
   "metadata": {},
   "outputs": [
    {
     "name": "stdout",
     "output_type": "stream",
     "text": [
      "Number of training examples: 25000\n",
      "Number of testing examples: 25000\n"
     ]
    }
   ],
   "source": [
    "print(f\"Number of training examples: {len(all_train_data)}\")\n",
    "print(f\"Number of testing examples: {len(test_data)}\")"
   ]
  },
  {
   "cell_type": "code",
   "execution_count": 13,
   "metadata": {},
   "outputs": [],
   "source": [
    "all_train_data = [data for data in all_train_data]\n",
    "test_data = [data for data in test_data]"
   ]
  },
  {
   "cell_type": "code",
   "execution_count": 14,
   "metadata": {},
   "outputs": [],
   "source": [
    "from torch.utils.data import Dataset, random_split\n",
    "from spacy.lang.en import English\n",
    "\n",
    "nlp = English()\n",
    "# Create a Tokenizer with the default settings for English\n",
    "# including punctuation rules and exceptions\n",
    "tokenizer = nlp.tokenizer\n",
    "\n",
    "\n",
    "class IMDbDataset(Dataset):\n",
    "    def __init__(self, iterable_dataset):\n",
    "        datas = [data for data in iterable_dataset]\n",
    "        self.X = [\n",
    "            [token.text.lower() for token in tokenizer(data[1])] for data in datas\n",
    "        ]\n",
    "        self.y = [data[0] for data in datas]\n",
    "\n",
    "    # Must have\n",
    "    def __len__(self):\n",
    "        return len(self.y)\n",
    "\n",
    "    # Must have\n",
    "    def __getitem__(self, index):\n",
    "        return (self.X[index], self.y[index], index)"
   ]
  },
  {
   "cell_type": "code",
   "execution_count": 15,
   "metadata": {},
   "outputs": [],
   "source": [
    "all_train_data = IMDbDataset(all_train_data)\n",
    "test_data = IMDbDataset(test_data)"
   ]
  },
  {
   "cell_type": "code",
   "execution_count": 16,
   "metadata": {},
   "outputs": [
    {
     "name": "stdout",
     "output_type": "stream",
     "text": [
      "Number of training examples: 17500\n",
      "Number of validation examples: 7500\n",
      "Number of testing examples: 25000\n"
     ]
    }
   ],
   "source": [
    "import random\n",
    "\n",
    "# split the data into train set and valid set with random seed\n",
    "train_data, valid_data = random_split(\n",
    "    all_train_data, [17500, 7500], generator=torch.Generator().manual_seed(SEED)\n",
    ")\n",
    "print(f\"Number of training examples: {len(train_data)}\")\n",
    "print(f\"Number of validation examples: {len(valid_data)}\")\n",
    "print(f\"Number of testing examples: {len(test_data)}\")"
   ]
  },
  {
   "cell_type": "code",
   "execution_count": 17,
   "metadata": {},
   "outputs": [],
   "source": [
    "from collections import Counter\n",
    "\n",
    "\n",
    "class Vocab:\n",
    "    def __init__(self, tokens, specials=[], max_size=None):\n",
    "        self.word2idx = {}\n",
    "        self.idx2word = []\n",
    "        for special in specials:\n",
    "            self.insert(special)\n",
    "        self.freq = Counter(tokens)\n",
    "        for word, _ in sorted(\n",
    "            self.freq.items(), key=lambda item: item[1], reverse=True\n",
    "        ):\n",
    "            if max_size is not None and len(self.idx2word) >= max_size + 2:\n",
    "                break\n",
    "            self.insert(word)\n",
    "\n",
    "    def insert(self, token):\n",
    "        if token in self.word2idx.keys():\n",
    "            return\n",
    "        self.idx2word.append(token)\n",
    "        self.word2idx[token] = self.idx2word.index(token)\n",
    "\n",
    "    def lookup_index(self, word):\n",
    "        if word not in self.word2idx.keys():\n",
    "            word = \"<unk>\"\n",
    "        return self.word2idx[word]\n",
    "\n",
    "    def lookup_word(self, idx):\n",
    "        return self.idx2word[idx]\n",
    "\n",
    "    def __len__(self):\n",
    "        return len(self.word2idx)\n",
    "\n",
    "    def __repr__(self):\n",
    "        return str(self.word2idx)"
   ]
  },
  {
   "cell_type": "code",
   "execution_count": 18,
   "metadata": {},
   "outputs": [
    {
     "name": "stdout",
     "output_type": "stream",
     "text": [
      "Unique tokens in input vocabulary: 25002\n",
      "Unique tokens in output vocabulary: 2\n"
     ]
    }
   ],
   "source": [
    "# Building Vocabulary\n",
    "MAX_VOCAB_SIZE = 25000\n",
    "\n",
    "\n",
    "input_vocab = Vocab(\n",
    "    tokens=[token for data in train_data for token in data[0]],\n",
    "    specials=[\"<pad>\", \"<unk>\"],\n",
    "    max_size=MAX_VOCAB_SIZE,\n",
    ")\n",
    "output_vocab = Vocab(tokens=[data[1] for data in train_data])\n",
    "\n",
    "print(f\"Unique tokens in input vocabulary: {len(input_vocab)}\")\n",
    "print(f\"Unique tokens in output vocabulary: {len(output_vocab)}\")\n",
    "\n",
    "# Do not use BucketIterator in your implementation because you are required to implement the padding and masking yourself.\n",
    "# this is just for verify single instance result\n",
    "# train_iterator, valid_iterator, test_iterator = torchtext.legacy.data.BucketIterator.splits(\n",
    "#     (train_data, valid_data, test_data), batch_size=1, device=device\n",
    "# )"
   ]
  },
  {
   "cell_type": "code",
   "execution_count": 19,
   "metadata": {},
   "outputs": [],
   "source": [
    "from torch.utils.data import DataLoader\n",
    "from torch.nn.utils.rnn import pad_sequence"
   ]
  },
  {
   "cell_type": "code",
   "execution_count": 139,
   "metadata": {},
   "outputs": [],
   "source": [
    "# label preprocess pipeline\n",
    "def label_pipeline(label):\n",
    "    return output_vocab.lookup_index(label)\n",
    "\n",
    "\n",
    "# text preprocess pipeline\n",
    "def text_pipeline(text):\n",
    "    return [input_vocab.lookup_index(str(token)) for token in text]\n",
    "\n",
    "\n",
    "# preprocess batch data before loading each batch\n",
    "def collate_batch(batch):\n",
    "    label_list, text_list, idx_list, len_list = [], [], [], []\n",
    "    for _text, _label, _index in batch:\n",
    "        label_list.append(label_pipeline(_label))\n",
    "        processed_text = torch.tensor(text_pipeline(_text), dtype=torch.int64)\n",
    "        text_list.append(processed_text)\n",
    "        len_list.append(len(processed_text))\n",
    "        idx_list.append(_index)\n",
    "    label_list = torch.tensor(label_list, dtype=torch.int64)\n",
    "    len_list = torch.tensor(len_list, dtype=torch.int64)\n",
    "    text_list = pad_sequence(text_list, batch_first=True, padding_value=0)\n",
    "    return text_list.to(device), label_list.to(device), len_list.to(device), idx_list"
   ]
  },
  {
   "cell_type": "code",
   "execution_count": 140,
   "metadata": {},
   "outputs": [],
   "source": [
    "from torch.nn.utils.rnn import pack_padded_sequence, pad_packed_sequence"
   ]
  },
  {
   "cell_type": "code",
   "execution_count": 141,
   "metadata": {},
   "outputs": [],
   "source": [
    "import torch.nn as nn\n",
    "\n",
    "# define LSTM Classifier model class\n",
    "class LSTMClassifier(nn.Module):\n",
    "    def __init__(self, input_dim, embedding_dim, output_dim, hidden_dim):\n",
    "        super().__init__()\n",
    "        # the word vector for index 0 will be set to zero\n",
    "        self.embedding = nn.Embedding(\n",
    "            input_dim, embedding_dim, padding_idx=0\n",
    "        )\n",
    "        # LSTM layer\n",
    "        self.lstm = nn.LSTM(embedding_dim, hidden_dim)\n",
    "        self.fc = nn.Linear(\n",
    "            hidden_dim, output_dim\n",
    "        )\n",
    "\n",
    "    def forward(self, text, lens):\n",
    "\n",
    "        embedded = self.embedding(text)\n",
    "        embedded = pack_padded_sequence(\n",
    "            embedded, lens, enforce_sorted=False,\n",
    "            batch_first= True\n",
    "        )\n",
    "        \n",
    "        out, h_n = self.lstm(embedded)\n",
    "        out, seq_lengths = pad_packed_sequence(\n",
    "            out\n",
    "        )\n",
    "        \n",
    "        out = torch.stack(\n",
    "            [torch.mean(out[: length, i, :], 0) for i, length in enumerate(lens)]\n",
    "        )\n",
    "        out = self.fc(out)\n",
    "        return out"
   ]
  },
  {
   "cell_type": "code",
   "execution_count": 142,
   "metadata": {},
   "outputs": [],
   "source": [
    "INPUT_DIM = len(input_vocab)\n",
    "EMBEDDING_DIM = 100\n",
    "OUTPUT_DIM = 1\n",
    "HIDDEN_DIM = 4\n",
    "# define the mini-batch size => tunable\n",
    "batch_size = 1\n",
    "\n",
    "lstm_model = LSTMClassifier(INPUT_DIM, EMBEDDING_DIM, OUTPUT_DIM, HIDDEN_DIM)"
   ]
  },
  {
   "cell_type": "code",
   "execution_count": 143,
   "metadata": {},
   "outputs": [],
   "source": [
    "# Binary Cross Entropy with sigmoid layer\n",
    "criterion = nn.BCEWithLogitsLoss()\n",
    "criterion = criterion.to(device)"
   ]
  },
  {
   "cell_type": "code",
   "execution_count": 144,
   "metadata": {},
   "outputs": [],
   "source": [
    "def binary_accuracy(preds, y):\n",
    "    \"\"\"\n",
    "    Returns accuracy per batch, i.e. if you get 8/10 right, this returns 0.8, NOT 8\n",
    "    \"\"\"\n",
    "\n",
    "    # round predictions to the closest integer\n",
    "    rounded_preds = torch.round(torch.sigmoid(preds))\n",
    "    correct = (rounded_preds == y).float()  # convert into float for division\n",
    "    acc = correct.sum() / len(correct)\n",
    "\n",
    "    return acc"
   ]
  },
  {
   "cell_type": "code",
   "execution_count": 177,
   "metadata": {},
   "outputs": [],
   "source": [
    "from tqdm import tqdm\n",
    "\n",
    "\n",
    "def train(model, optimizer, criterion, dataloader):\n",
    "    # init epoch loss and accuracy\n",
    "    epoch_loss = 0\n",
    "    epoch_acc = 0\n",
    "\n",
    "    # set to the train mode\n",
    "    model.train()\n",
    "\n",
    "    # iterations count for this epoch\n",
    "    iter_num = 0\n",
    "\n",
    "    # mini-batch\n",
    "    data_size = len(dataloader.dataset)\n",
    "    for X, true_y, lens, _ in tqdm(dataloader, desc=\"Training...\", total=len(dataloader)):\n",
    "\n",
    "        optimizer.zero_grad()\n",
    "        \n",
    "        predictions = model(X, lens)\n",
    "\n",
    "        loss = criterion(predictions.squeeze(1), true_y.float())\n",
    "\n",
    "        acc = binary_accuracy(predictions.squeeze(1), true_y)\n",
    "\n",
    "        loss.backward()\n",
    "\n",
    "        optimizer.step()\n",
    "\n",
    "        epoch_loss += loss.item()\n",
    "        epoch_acc += acc.item() * X.shape[0]\n",
    "        \n",
    "    return epoch_loss / data_size, epoch_acc / data_size"
   ]
  },
  {
   "cell_type": "code",
   "execution_count": 178,
   "metadata": {},
   "outputs": [],
   "source": [
    "def evaluate(model, criterion, iterator=None, dataloader=None):\n",
    "\n",
    "    epoch_loss = 0\n",
    "    epoch_acc = 0\n",
    "\n",
    "    model.eval()\n",
    "\n",
    "    with torch.no_grad():\n",
    "\n",
    "        # mini-batch\n",
    "        data_size = len(dataloader.dataset)\n",
    "        for X, true_y, lens, _ in dataloader:\n",
    "\n",
    "            predictions = model(X, lens)\n",
    "\n",
    "            loss = criterion(predictions.squeeze(1), true_y.float())\n",
    "\n",
    "            acc = binary_accuracy(predictions.squeeze(1), true_y)\n",
    "\n",
    "            epoch_loss += loss.item()\n",
    "            epoch_acc += acc.item() * X.shape[0]\n",
    "            \n",
    "        return epoch_loss / data_size, epoch_acc / data_size"
   ]
  },
  {
   "cell_type": "code",
   "execution_count": 179,
   "metadata": {},
   "outputs": [],
   "source": [
    "import time\n",
    "\n",
    "\n",
    "def epoch_time(start_time, end_time):\n",
    "    elapsed_time = end_time - start_time\n",
    "    elapsed_mins = int(elapsed_time / 60)\n",
    "    elapsed_secs = int(elapsed_time - (elapsed_mins * 60))\n",
    "    return elapsed_mins, elapsed_secs"
   ]
  },
  {
   "cell_type": "code",
   "execution_count": 180,
   "metadata": {},
   "outputs": [],
   "source": [
    "import torch.optim as optim\n",
    "\n",
    "def experiment(\n",
    "    train_data,\n",
    "    valid_data,\n",
    "    batch_size=1,\n",
    "    learning_rate=1e-3,\n",
    "    num_epoch=1,\n",
    "    name=\"experiment_name\",\n",
    "):\n",
    "\n",
    "    # use data loader for batching data\n",
    "    train_loader = DataLoader(\n",
    "        dataset=train_data,\n",
    "        batch_size=batch_size,\n",
    "        collate_fn=collate_batch,\n",
    "        shuffle=False,\n",
    "    )\n",
    "    valid_loader = DataLoader(\n",
    "        dataset=valid_data,\n",
    "        batch_size=batch_size,\n",
    "        collate_fn=collate_batch,\n",
    "        shuffle=False,\n",
    "    )\n",
    "\n",
    "    lstm_model = LSTMClassifier(INPUT_DIM, EMBEDDING_DIM, OUTPUT_DIM, HIDDEN_DIM)\n",
    "\n",
    "    # init the optimizer with stochastic gradient descent for each model\n",
    "    optimizer = optim.SGD(lstm_model.parameters(), lr=learning_rate)\n",
    "\n",
    "    # Binary Cross Entropy with sigmoid layer\n",
    "    criterion = nn.BCEWithLogitsLoss()\n",
    "\n",
    "    # send modules to the GPU/CPU device\n",
    "    lstm_model = lstm_model.to(device)\n",
    "    criterion = criterion.to(device)\n",
    "\n",
    "    # for recording the training time\n",
    "    train_time = 0\n",
    "    best_valid_loss = float(\"inf\")\n",
    "    best_valid_accu = 0\n",
    "    for epoch in range(num_epoch):\n",
    "\n",
    "        start_time = time.time()\n",
    "\n",
    "        train_loss, train_acc = train(\n",
    "            lstm_model, optimizer, criterion, dataloader=train_loader\n",
    "        )\n",
    "\n",
    "        valid_loss, valid_acc = evaluate(lstm_model, criterion, dataloader=valid_loader)\n",
    "        end_time = time.time()\n",
    "\n",
    "        epoch_mins, epoch_secs = epoch_time(start_time, end_time)\n",
    "        train_time += end_time - start_time\n",
    "\n",
    "        if valid_loss < best_valid_loss:\n",
    "            best_valid_loss = valid_loss\n",
    "            best_valid_accu = valid_acc\n",
    "            torch.save(lstm_model.state_dict(), f\"model-lstm-{name}.pt\")\n",
    "\n",
    "        print(f\"Epoch: {epoch+1:02} | Epoch Time: {epoch_mins}m {epoch_secs}s\")\n",
    "        print(f\"\\tTrain Loss: {train_loss:.3f} | Train Acc: {train_acc*100:.2f}%\")\n",
    "        print(f\"\\t Val. Loss: {valid_loss:.3f} |  Val. Acc: {valid_acc*100:.2f}%\")\n",
    "    return lstm_model, train_time, best_valid_accu"
   ]
  },
  {
   "cell_type": "code",
   "execution_count": 182,
   "metadata": {},
   "outputs": [
    {
     "name": "stderr",
     "output_type": "stream",
     "text": [
      "Training...: 100%|██████████| 17500/17500 [14:21<00:00, 20.32it/s]\n",
      "Training...:   0%|          | 3/17500 [00:00<11:15, 25.90it/s]"
     ]
    },
    {
     "name": "stdout",
     "output_type": "stream",
     "text": [
      "Epoch: 01 | Epoch Time: 15m 12s\n",
      "\tTrain Loss: 0.694 | Train Acc: 50.75%\n",
      "\t Val. Loss: 0.693 |  Val. Acc: 52.09%\n"
     ]
    },
    {
     "name": "stderr",
     "output_type": "stream",
     "text": [
      "Training...: 100%|██████████| 17500/17500 [14:37<00:00, 19.94it/s]\n"
     ]
    },
    {
     "name": "stdout",
     "output_type": "stream",
     "text": [
      "Epoch: 02 | Epoch Time: 15m 34s\n",
      "\tTrain Loss: 0.693 | Train Acc: 51.78%\n",
      "\t Val. Loss: 0.693 |  Val. Acc: 53.12%\n"
     ]
    },
    {
     "data": {
      "text/plain": [
       "(LSTMClassifier(\n",
       "   (embedding): Embedding(25002, 100, padding_idx=0)\n",
       "   (lstm): LSTM(100, 4)\n",
       "   (fc): Linear(in_features=4, out_features=1, bias=True)\n",
       " ),\n",
       " 1847.4969103336334,\n",
       " 0.5312)"
      ]
     },
     "execution_count": 182,
     "metadata": {},
     "output_type": "execute_result"
    }
   ],
   "source": [
    "experiment(train_data, valid_data, num_epoch=2, name=\"mb-test\")"
   ]
  },
  {
   "cell_type": "code",
   "execution_count": 183,
   "metadata": {},
   "outputs": [
    {
     "name": "stdout",
     "output_type": "stream",
     "text": [
      "Test Loss: 0.001 | Test Acc: 53.67%\n"
     ]
    }
   ],
   "source": [
    "lstm_model.load_state_dict(torch.load('model-lstm-mb-test.pt'))\n",
    "\n",
    "test_loader = DataLoader(\n",
    "    dataset=test_data,\n",
    "    batch_size=batch_size,\n",
    "    collate_fn=collate_batch,\n",
    "    shuffle=False,\n",
    ")\n",
    "\n",
    "# Binary Cross Entropy with sigmoid layer\n",
    "criterion = nn.BCEWithLogitsLoss()\n",
    "\n",
    "test_loss, test_acc = evaluate(lstm_model, criterion, dataloader=test_loader)\n",
    "\n",
    "print(f'Test Loss: {test_loss:.3f} | Test Acc: {test_acc*100:.2f}%')"
   ]
  },
  {
   "cell_type": "code",
   "execution_count": 184,
   "metadata": {},
   "outputs": [
    {
     "name": "stderr",
     "output_type": "stream",
     "text": [
      "Training...: 100%|██████████| 547/547 [02:13<00:00,  4.09it/s]\n",
      "Training...:   0%|          | 0/547 [00:00<?, ?it/s]"
     ]
    },
    {
     "name": "stdout",
     "output_type": "stream",
     "text": [
      "Epoch: 01 | Epoch Time: 2m 22s\n",
      "\tTrain Loss: 0.022 | Train Acc: 49.89%\n",
      "\t Val. Loss: 0.022 |  Val. Acc: 50.13%\n"
     ]
    },
    {
     "name": "stderr",
     "output_type": "stream",
     "text": [
      "Training...: 100%|██████████| 547/547 [02:12<00:00,  4.12it/s]\n",
      "Training...:   0%|          | 1/547 [00:00<00:55,  9.85it/s]"
     ]
    },
    {
     "name": "stdout",
     "output_type": "stream",
     "text": [
      "Epoch: 02 | Epoch Time: 2m 21s\n",
      "\tTrain Loss: 0.022 | Train Acc: 49.89%\n",
      "\t Val. Loss: 0.022 |  Val. Acc: 50.03%\n"
     ]
    },
    {
     "name": "stderr",
     "output_type": "stream",
     "text": [
      "Training...: 100%|██████████| 547/547 [02:13<00:00,  4.08it/s]\n",
      "Training...:   0%|          | 1/547 [00:00<01:10,  7.76it/s]"
     ]
    },
    {
     "name": "stdout",
     "output_type": "stream",
     "text": [
      "Epoch: 03 | Epoch Time: 2m 23s\n",
      "\tTrain Loss: 0.022 | Train Acc: 49.86%\n",
      "\t Val. Loss: 0.022 |  Val. Acc: 50.13%\n"
     ]
    },
    {
     "name": "stderr",
     "output_type": "stream",
     "text": [
      "Training...: 100%|██████████| 547/547 [02:16<00:00,  4.02it/s]\n",
      "Training...:   0%|          | 1/547 [00:00<00:56,  9.74it/s]"
     ]
    },
    {
     "name": "stdout",
     "output_type": "stream",
     "text": [
      "Epoch: 04 | Epoch Time: 2m 25s\n",
      "\tTrain Loss: 0.022 | Train Acc: 49.85%\n",
      "\t Val. Loss: 0.022 |  Val. Acc: 50.07%\n"
     ]
    },
    {
     "name": "stderr",
     "output_type": "stream",
     "text": [
      "Training...: 100%|██████████| 547/547 [02:15<00:00,  4.03it/s]\n",
      "Training...:   0%|          | 0/274 [00:00<?, ?it/s]"
     ]
    },
    {
     "name": "stdout",
     "output_type": "stream",
     "text": [
      "Epoch: 05 | Epoch Time: 2m 24s\n",
      "\tTrain Loss: 0.022 | Train Acc: 49.62%\n",
      "\t Val. Loss: 0.022 |  Val. Acc: 50.00%\n"
     ]
    },
    {
     "name": "stderr",
     "output_type": "stream",
     "text": [
      "Training...: 100%|██████████| 274/274 [01:35<00:00,  2.87it/s]\n",
      "Training...:   0%|          | 0/274 [00:00<?, ?it/s]"
     ]
    },
    {
     "name": "stdout",
     "output_type": "stream",
     "text": [
      "Epoch: 01 | Epoch Time: 1m 42s\n",
      "\tTrain Loss: 0.011 | Train Acc: 49.90%\n",
      "\t Val. Loss: 0.011 |  Val. Acc: 50.23%\n"
     ]
    },
    {
     "name": "stderr",
     "output_type": "stream",
     "text": [
      "Training...: 100%|██████████| 274/274 [01:33<00:00,  2.94it/s]\n",
      "Training...:   0%|          | 0/274 [00:00<?, ?it/s]"
     ]
    },
    {
     "name": "stdout",
     "output_type": "stream",
     "text": [
      "Epoch: 02 | Epoch Time: 1m 39s\n",
      "\tTrain Loss: 0.011 | Train Acc: 49.90%\n",
      "\t Val. Loss: 0.011 |  Val. Acc: 50.23%\n"
     ]
    },
    {
     "name": "stderr",
     "output_type": "stream",
     "text": [
      "Training...: 100%|██████████| 274/274 [01:37<00:00,  2.81it/s]\n",
      "Training...:   0%|          | 0/274 [00:00<?, ?it/s]"
     ]
    },
    {
     "name": "stdout",
     "output_type": "stream",
     "text": [
      "Epoch: 03 | Epoch Time: 1m 44s\n",
      "\tTrain Loss: 0.011 | Train Acc: 49.90%\n",
      "\t Val. Loss: 0.011 |  Val. Acc: 50.23%\n"
     ]
    },
    {
     "name": "stderr",
     "output_type": "stream",
     "text": [
      "Training...: 100%|██████████| 274/274 [01:34<00:00,  2.91it/s]\n",
      "Training...:   0%|          | 0/274 [00:00<?, ?it/s]"
     ]
    },
    {
     "name": "stdout",
     "output_type": "stream",
     "text": [
      "Epoch: 04 | Epoch Time: 1m 40s\n",
      "\tTrain Loss: 0.011 | Train Acc: 49.90%\n",
      "\t Val. Loss: 0.011 |  Val. Acc: 50.23%\n"
     ]
    },
    {
     "name": "stderr",
     "output_type": "stream",
     "text": [
      "Training...: 100%|██████████| 274/274 [01:59<00:00,  2.29it/s]\n",
      "Training...:   0%|          | 0/137 [00:00<?, ?it/s]"
     ]
    },
    {
     "name": "stdout",
     "output_type": "stream",
     "text": [
      "Epoch: 05 | Epoch Time: 2m 7s\n",
      "\tTrain Loss: 0.011 | Train Acc: 49.90%\n",
      "\t Val. Loss: 0.011 |  Val. Acc: 50.23%\n"
     ]
    },
    {
     "name": "stderr",
     "output_type": "stream",
     "text": [
      "Training...: 100%|██████████| 137/137 [01:39<00:00,  1.38it/s]\n",
      "Training...:   0%|          | 0/137 [00:00<?, ?it/s]"
     ]
    },
    {
     "name": "stdout",
     "output_type": "stream",
     "text": [
      "Epoch: 01 | Epoch Time: 1m 45s\n",
      "\tTrain Loss: 0.005 | Train Acc: 50.10%\n",
      "\t Val. Loss: 0.005 |  Val. Acc: 49.77%\n"
     ]
    },
    {
     "name": "stderr",
     "output_type": "stream",
     "text": [
      "Training...: 100%|██████████| 137/137 [01:34<00:00,  1.44it/s]\n",
      "Training...:   0%|          | 0/137 [00:00<?, ?it/s]"
     ]
    },
    {
     "name": "stdout",
     "output_type": "stream",
     "text": [
      "Epoch: 02 | Epoch Time: 1m 40s\n",
      "\tTrain Loss: 0.005 | Train Acc: 50.10%\n",
      "\t Val. Loss: 0.005 |  Val. Acc: 49.77%\n"
     ]
    },
    {
     "name": "stderr",
     "output_type": "stream",
     "text": [
      "Training...: 100%|██████████| 137/137 [01:22<00:00,  1.66it/s]\n",
      "Training...:   0%|          | 0/137 [00:00<?, ?it/s]"
     ]
    },
    {
     "name": "stdout",
     "output_type": "stream",
     "text": [
      "Epoch: 03 | Epoch Time: 1m 28s\n",
      "\tTrain Loss: 0.005 | Train Acc: 50.10%\n",
      "\t Val. Loss: 0.005 |  Val. Acc: 49.77%\n"
     ]
    },
    {
     "name": "stderr",
     "output_type": "stream",
     "text": [
      "Training...: 100%|██████████| 137/137 [01:19<00:00,  1.73it/s]\n",
      "Training...:   0%|          | 0/137 [00:00<?, ?it/s]"
     ]
    },
    {
     "name": "stdout",
     "output_type": "stream",
     "text": [
      "Epoch: 04 | Epoch Time: 1m 24s\n",
      "\tTrain Loss: 0.005 | Train Acc: 50.10%\n",
      "\t Val. Loss: 0.005 |  Val. Acc: 49.77%\n"
     ]
    },
    {
     "name": "stderr",
     "output_type": "stream",
     "text": [
      "Training...: 100%|██████████| 137/137 [01:22<00:00,  1.66it/s]\n",
      "Training...:   0%|          | 0/69 [00:00<?, ?it/s]"
     ]
    },
    {
     "name": "stdout",
     "output_type": "stream",
     "text": [
      "Epoch: 05 | Epoch Time: 1m 28s\n",
      "\tTrain Loss: 0.005 | Train Acc: 50.10%\n",
      "\t Val. Loss: 0.005 |  Val. Acc: 49.77%\n"
     ]
    },
    {
     "name": "stderr",
     "output_type": "stream",
     "text": [
      "Training...: 100%|██████████| 69/69 [02:20<00:00,  2.04s/it]\n",
      "Training...:   0%|          | 0/69 [00:00<?, ?it/s]"
     ]
    },
    {
     "name": "stdout",
     "output_type": "stream",
     "text": [
      "Epoch: 01 | Epoch Time: 2m 24s\n",
      "\tTrain Loss: 0.003 | Train Acc: 49.90%\n",
      "\t Val. Loss: 0.003 |  Val. Acc: 50.23%\n"
     ]
    },
    {
     "name": "stderr",
     "output_type": "stream",
     "text": [
      "Training...: 100%|██████████| 69/69 [02:13<00:00,  1.94s/it]\n",
      "Training...:   0%|          | 0/69 [00:00<?, ?it/s]"
     ]
    },
    {
     "name": "stdout",
     "output_type": "stream",
     "text": [
      "Epoch: 02 | Epoch Time: 2m 18s\n",
      "\tTrain Loss: 0.003 | Train Acc: 49.90%\n",
      "\t Val. Loss: 0.003 |  Val. Acc: 50.23%\n"
     ]
    },
    {
     "name": "stderr",
     "output_type": "stream",
     "text": [
      "Training...: 100%|██████████| 69/69 [02:21<00:00,  2.05s/it]\n",
      "Training...:   0%|          | 0/69 [00:00<?, ?it/s]"
     ]
    },
    {
     "name": "stdout",
     "output_type": "stream",
     "text": [
      "Epoch: 03 | Epoch Time: 2m 25s\n",
      "\tTrain Loss: 0.003 | Train Acc: 49.90%\n",
      "\t Val. Loss: 0.003 |  Val. Acc: 50.23%\n"
     ]
    },
    {
     "name": "stderr",
     "output_type": "stream",
     "text": [
      "Training...: 100%|██████████| 69/69 [02:22<00:00,  2.07s/it]\n",
      "Training...:   0%|          | 0/69 [00:00<?, ?it/s]"
     ]
    },
    {
     "name": "stdout",
     "output_type": "stream",
     "text": [
      "Epoch: 04 | Epoch Time: 2m 26s\n",
      "\tTrain Loss: 0.003 | Train Acc: 49.90%\n",
      "\t Val. Loss: 0.003 |  Val. Acc: 50.23%\n"
     ]
    },
    {
     "name": "stderr",
     "output_type": "stream",
     "text": [
      "Training...: 100%|██████████| 69/69 [02:21<00:00,  2.05s/it]\n",
      "Training...:   0%|          | 0/35 [00:00<?, ?it/s]"
     ]
    },
    {
     "name": "stdout",
     "output_type": "stream",
     "text": [
      "Epoch: 05 | Epoch Time: 2m 25s\n",
      "\tTrain Loss: 0.003 | Train Acc: 49.90%\n",
      "\t Val. Loss: 0.003 |  Val. Acc: 50.23%\n"
     ]
    },
    {
     "name": "stderr",
     "output_type": "stream",
     "text": [
      "Training...: 100%|██████████| 35/35 [03:22<00:00,  5.78s/it]\n",
      "Training...:   0%|          | 0/35 [00:00<?, ?it/s]"
     ]
    },
    {
     "name": "stdout",
     "output_type": "stream",
     "text": [
      "Epoch: 01 | Epoch Time: 3m 26s\n",
      "\tTrain Loss: 0.001 | Train Acc: 50.10%\n",
      "\t Val. Loss: 0.001 |  Val. Acc: 49.77%\n"
     ]
    },
    {
     "name": "stderr",
     "output_type": "stream",
     "text": [
      "Training...: 100%|██████████| 35/35 [03:21<00:00,  5.75s/it]\n",
      "Training...:   0%|          | 0/35 [00:00<?, ?it/s]"
     ]
    },
    {
     "name": "stdout",
     "output_type": "stream",
     "text": [
      "Epoch: 02 | Epoch Time: 3m 25s\n",
      "\tTrain Loss: 0.001 | Train Acc: 50.10%\n",
      "\t Val. Loss: 0.001 |  Val. Acc: 49.77%\n"
     ]
    },
    {
     "name": "stderr",
     "output_type": "stream",
     "text": [
      "Training...: 100%|██████████| 35/35 [03:21<00:00,  5.76s/it]\n",
      "Training...:   0%|          | 0/35 [00:00<?, ?it/s]"
     ]
    },
    {
     "name": "stdout",
     "output_type": "stream",
     "text": [
      "Epoch: 03 | Epoch Time: 3m 25s\n",
      "\tTrain Loss: 0.001 | Train Acc: 50.10%\n",
      "\t Val. Loss: 0.001 |  Val. Acc: 49.77%\n"
     ]
    },
    {
     "name": "stderr",
     "output_type": "stream",
     "text": [
      "Training...: 100%|██████████| 35/35 [03:21<00:00,  5.76s/it]\n",
      "Training...:   0%|          | 0/35 [00:00<?, ?it/s]"
     ]
    },
    {
     "name": "stdout",
     "output_type": "stream",
     "text": [
      "Epoch: 04 | Epoch Time: 3m 25s\n",
      "\tTrain Loss: 0.001 | Train Acc: 50.10%\n",
      "\t Val. Loss: 0.001 |  Val. Acc: 49.77%\n"
     ]
    },
    {
     "name": "stderr",
     "output_type": "stream",
     "text": [
      "Training...: 100%|██████████| 35/35 [03:22<00:00,  5.79s/it]\n"
     ]
    },
    {
     "name": "stdout",
     "output_type": "stream",
     "text": [
      "Epoch: 05 | Epoch Time: 3m 26s\n",
      "\tTrain Loss: 0.001 | Train Acc: 50.10%\n",
      "\t Val. Loss: 0.001 |  Val. Acc: 49.77%\n"
     ]
    }
   ],
   "source": [
    "batch_sizes = [32, 64, 128, 256, 512]\n",
    "train_times, valid_accus, models = [], [], []\n",
    "for batch_size in batch_sizes:\n",
    "    model, train_time, best_valid_accu = experiment(\n",
    "        train_data,\n",
    "        valid_data,\n",
    "        batch_size=batch_size,\n",
    "        num_epoch=5,\n",
    "        name=f\"batch-{batch_size}\",\n",
    "    )\n",
    "    train_times.append(train_time)\n",
    "    valid_accus.append(best_valid_accu)\n",
    "    models.append(model)"
   ]
  },
  {
   "cell_type": "code",
   "execution_count": 185,
   "metadata": {},
   "outputs": [],
   "source": [
    "from sklearn import preprocessing\n",
    "\n",
    "normalized_times = preprocessing.normalize([train_times])[0]\n",
    "normalized_accus = preprocessing.normalize([valid_accus])[0]"
   ]
  },
  {
   "cell_type": "code",
   "execution_count": 186,
   "metadata": {},
   "outputs": [],
   "source": [
    "time_accu_ratio = [\n",
    "    time / normalized_accus[i] for i, time in enumerate(normalized_times)\n",
    "]\n",
    "best_batch_idx = time_accu_ratio.index(min(time_accu_ratio))\n",
    "best_batch_size = batch_sizes[best_batch_idx]"
   ]
  },
  {
   "cell_type": "code",
   "execution_count": 187,
   "metadata": {},
   "outputs": [
    {
     "data": {
      "text/plain": [
       "([718.4843471050262,\n",
       "  534.4424893856049,\n",
       "  467.1400079727173,\n",
       "  720.7049136161804,\n",
       "  1029.92040848732],\n",
       " [0.5,\n",
       "  0.5022666666666666,\n",
       "  0.4977333335240682,\n",
       "  0.5022666667779286,\n",
       "  0.4977333339055379],\n",
       " [0.9963245720428082,\n",
       "  0.7377685807424146,\n",
       "  0.6507345590236747,\n",
       "  0.9948936540321985,\n",
       "  1.434697929730667])"
      ]
     },
     "execution_count": 187,
     "metadata": {},
     "output_type": "execute_result"
    }
   ],
   "source": [
    "train_times, valid_accus, time_accu_ratio"
   ]
  },
  {
   "cell_type": "code",
   "execution_count": 189,
   "metadata": {},
   "outputs": [
    {
     "name": "stderr",
     "output_type": "stream",
     "text": [
      "Training...: 100%|██████████| 137/137 [01:18<00:00,  1.74it/s]\n",
      "Training...:   0%|          | 0/137 [00:00<?, ?it/s]"
     ]
    },
    {
     "name": "stdout",
     "output_type": "stream",
     "text": [
      "Epoch: 01 | Epoch Time: 1m 24s\n",
      "\tTrain Loss: 0.006 | Train Acc: 49.90%\n",
      "\t Val. Loss: 0.006 |  Val. Acc: 50.23%\n"
     ]
    },
    {
     "name": "stderr",
     "output_type": "stream",
     "text": [
      "Training...: 100%|██████████| 137/137 [01:20<00:00,  1.70it/s]\n",
      "Training...:   0%|          | 0/137 [00:00<?, ?it/s]"
     ]
    },
    {
     "name": "stdout",
     "output_type": "stream",
     "text": [
      "Epoch: 02 | Epoch Time: 1m 26s\n",
      "\tTrain Loss: 0.006 | Train Acc: 49.90%\n",
      "\t Val. Loss: 0.006 |  Val. Acc: 50.23%\n"
     ]
    },
    {
     "name": "stderr",
     "output_type": "stream",
     "text": [
      "Training...: 100%|██████████| 137/137 [01:18<00:00,  1.75it/s]\n",
      "Training...:   0%|          | 0/137 [00:00<?, ?it/s]"
     ]
    },
    {
     "name": "stdout",
     "output_type": "stream",
     "text": [
      "Epoch: 03 | Epoch Time: 1m 23s\n",
      "\tTrain Loss: 0.006 | Train Acc: 49.90%\n",
      "\t Val. Loss: 0.006 |  Val. Acc: 50.23%\n"
     ]
    },
    {
     "name": "stderr",
     "output_type": "stream",
     "text": [
      "Training...: 100%|██████████| 137/137 [01:18<00:00,  1.74it/s]\n",
      "Training...:   0%|          | 0/137 [00:00<?, ?it/s]"
     ]
    },
    {
     "name": "stdout",
     "output_type": "stream",
     "text": [
      "Epoch: 04 | Epoch Time: 1m 24s\n",
      "\tTrain Loss: 0.006 | Train Acc: 49.90%\n",
      "\t Val. Loss: 0.006 |  Val. Acc: 50.23%\n"
     ]
    },
    {
     "name": "stderr",
     "output_type": "stream",
     "text": [
      "Training...: 100%|██████████| 137/137 [01:17<00:00,  1.77it/s]\n",
      "Training...:   0%|          | 0/137 [00:00<?, ?it/s]"
     ]
    },
    {
     "name": "stdout",
     "output_type": "stream",
     "text": [
      "Epoch: 05 | Epoch Time: 1m 23s\n",
      "\tTrain Loss: 0.006 | Train Acc: 49.90%\n",
      "\t Val. Loss: 0.006 |  Val. Acc: 50.23%\n"
     ]
    },
    {
     "name": "stderr",
     "output_type": "stream",
     "text": [
      "Training...: 100%|██████████| 137/137 [01:18<00:00,  1.74it/s]\n",
      "Training...:   0%|          | 0/137 [00:00<?, ?it/s]"
     ]
    },
    {
     "name": "stdout",
     "output_type": "stream",
     "text": [
      "Epoch: 01 | Epoch Time: 1m 24s\n",
      "\tTrain Loss: 0.005 | Train Acc: 50.07%\n",
      "\t Val. Loss: 0.005 |  Val. Acc: 49.84%\n"
     ]
    },
    {
     "name": "stderr",
     "output_type": "stream",
     "text": [
      "Training...: 100%|██████████| 137/137 [01:19<00:00,  1.73it/s]\n",
      "Training...:   0%|          | 0/137 [00:00<?, ?it/s]"
     ]
    },
    {
     "name": "stdout",
     "output_type": "stream",
     "text": [
      "Epoch: 02 | Epoch Time: 1m 24s\n",
      "\tTrain Loss: 0.005 | Train Acc: 50.07%\n",
      "\t Val. Loss: 0.005 |  Val. Acc: 49.84%\n"
     ]
    },
    {
     "name": "stderr",
     "output_type": "stream",
     "text": [
      "Training...: 100%|██████████| 137/137 [01:19<00:00,  1.72it/s]\n",
      "Training...:   0%|          | 0/137 [00:00<?, ?it/s]"
     ]
    },
    {
     "name": "stdout",
     "output_type": "stream",
     "text": [
      "Epoch: 03 | Epoch Time: 1m 25s\n",
      "\tTrain Loss: 0.005 | Train Acc: 50.07%\n",
      "\t Val. Loss: 0.005 |  Val. Acc: 49.87%\n"
     ]
    },
    {
     "name": "stderr",
     "output_type": "stream",
     "text": [
      "Training...: 100%|██████████| 137/137 [01:20<00:00,  1.70it/s]\n",
      "Training...:   0%|          | 0/137 [00:00<?, ?it/s]"
     ]
    },
    {
     "name": "stdout",
     "output_type": "stream",
     "text": [
      "Epoch: 04 | Epoch Time: 1m 25s\n",
      "\tTrain Loss: 0.005 | Train Acc: 50.08%\n",
      "\t Val. Loss: 0.005 |  Val. Acc: 49.87%\n"
     ]
    },
    {
     "name": "stderr",
     "output_type": "stream",
     "text": [
      "Training...: 100%|██████████| 137/137 [01:21<00:00,  1.68it/s]\n",
      "Training...:   0%|          | 0/137 [00:00<?, ?it/s]"
     ]
    },
    {
     "name": "stdout",
     "output_type": "stream",
     "text": [
      "Epoch: 05 | Epoch Time: 1m 27s\n",
      "\tTrain Loss: 0.005 | Train Acc: 50.08%\n",
      "\t Val. Loss: 0.005 |  Val. Acc: 49.87%\n"
     ]
    },
    {
     "name": "stderr",
     "output_type": "stream",
     "text": [
      "Training...: 100%|██████████| 137/137 [01:21<00:00,  1.69it/s]\n",
      "Training...:   0%|          | 0/137 [00:00<?, ?it/s]"
     ]
    },
    {
     "name": "stdout",
     "output_type": "stream",
     "text": [
      "Epoch: 01 | Epoch Time: 1m 26s\n",
      "\tTrain Loss: 0.005 | Train Acc: 50.10%\n",
      "\t Val. Loss: 0.005 |  Val. Acc: 49.77%\n"
     ]
    },
    {
     "name": "stderr",
     "output_type": "stream",
     "text": [
      "Training...: 100%|██████████| 137/137 [01:20<00:00,  1.69it/s]\n",
      "Training...:   0%|          | 0/137 [00:00<?, ?it/s]"
     ]
    },
    {
     "name": "stdout",
     "output_type": "stream",
     "text": [
      "Epoch: 02 | Epoch Time: 1m 26s\n",
      "\tTrain Loss: 0.005 | Train Acc: 50.10%\n",
      "\t Val. Loss: 0.005 |  Val. Acc: 49.77%\n"
     ]
    },
    {
     "name": "stderr",
     "output_type": "stream",
     "text": [
      "Training...: 100%|██████████| 137/137 [01:20<00:00,  1.71it/s]\n",
      "Training...:   0%|          | 0/137 [00:00<?, ?it/s]"
     ]
    },
    {
     "name": "stdout",
     "output_type": "stream",
     "text": [
      "Epoch: 03 | Epoch Time: 1m 25s\n",
      "\tTrain Loss: 0.005 | Train Acc: 50.10%\n",
      "\t Val. Loss: 0.005 |  Val. Acc: 49.77%\n"
     ]
    },
    {
     "name": "stderr",
     "output_type": "stream",
     "text": [
      "Training...: 100%|██████████| 137/137 [01:19<00:00,  1.73it/s]\n",
      "Training...:   0%|          | 0/137 [00:00<?, ?it/s]"
     ]
    },
    {
     "name": "stdout",
     "output_type": "stream",
     "text": [
      "Epoch: 04 | Epoch Time: 1m 24s\n",
      "\tTrain Loss: 0.005 | Train Acc: 50.10%\n",
      "\t Val. Loss: 0.005 |  Val. Acc: 49.79%\n"
     ]
    },
    {
     "name": "stderr",
     "output_type": "stream",
     "text": [
      "Training...: 100%|██████████| 137/137 [01:20<00:00,  1.70it/s]\n",
      "Training...:   0%|          | 0/137 [00:00<?, ?it/s]"
     ]
    },
    {
     "name": "stdout",
     "output_type": "stream",
     "text": [
      "Epoch: 05 | Epoch Time: 1m 25s\n",
      "\tTrain Loss: 0.005 | Train Acc: 50.10%\n",
      "\t Val. Loss: 0.005 |  Val. Acc: 49.79%\n"
     ]
    },
    {
     "name": "stderr",
     "output_type": "stream",
     "text": [
      "Training...: 100%|██████████| 137/137 [01:21<00:00,  1.68it/s]\n",
      "Training...:   0%|          | 0/137 [00:00<?, ?it/s]"
     ]
    },
    {
     "name": "stdout",
     "output_type": "stream",
     "text": [
      "Epoch: 01 | Epoch Time: 1m 26s\n",
      "\tTrain Loss: 0.005 | Train Acc: 49.90%\n",
      "\t Val. Loss: 0.005 |  Val. Acc: 50.23%\n"
     ]
    },
    {
     "name": "stderr",
     "output_type": "stream",
     "text": [
      "Training...: 100%|██████████| 137/137 [01:20<00:00,  1.70it/s]\n",
      "Training...:   0%|          | 0/137 [00:00<?, ?it/s]"
     ]
    },
    {
     "name": "stdout",
     "output_type": "stream",
     "text": [
      "Epoch: 02 | Epoch Time: 1m 26s\n",
      "\tTrain Loss: 0.005 | Train Acc: 49.91%\n",
      "\t Val. Loss: 0.005 |  Val. Acc: 50.24%\n"
     ]
    },
    {
     "name": "stderr",
     "output_type": "stream",
     "text": [
      "Training...: 100%|██████████| 137/137 [01:21<00:00,  1.67it/s]\n",
      "Training...:   0%|          | 0/137 [00:00<?, ?it/s]"
     ]
    },
    {
     "name": "stdout",
     "output_type": "stream",
     "text": [
      "Epoch: 03 | Epoch Time: 1m 27s\n",
      "\tTrain Loss: 0.005 | Train Acc: 49.95%\n",
      "\t Val. Loss: 0.005 |  Val. Acc: 50.19%\n"
     ]
    },
    {
     "name": "stderr",
     "output_type": "stream",
     "text": [
      "Training...: 100%|██████████| 137/137 [01:20<00:00,  1.70it/s]\n",
      "Training...:   0%|          | 0/137 [00:00<?, ?it/s]"
     ]
    },
    {
     "name": "stdout",
     "output_type": "stream",
     "text": [
      "Epoch: 04 | Epoch Time: 1m 25s\n",
      "\tTrain Loss: 0.005 | Train Acc: 50.10%\n",
      "\t Val. Loss: 0.005 |  Val. Acc: 50.37%\n"
     ]
    },
    {
     "name": "stderr",
     "output_type": "stream",
     "text": [
      "Training...: 100%|██████████| 137/137 [01:20<00:00,  1.71it/s]\n",
      "Training...:   0%|          | 0/137 [00:00<?, ?it/s]"
     ]
    },
    {
     "name": "stdout",
     "output_type": "stream",
     "text": [
      "Epoch: 05 | Epoch Time: 1m 25s\n",
      "\tTrain Loss: 0.005 | Train Acc: 50.25%\n",
      "\t Val. Loss: 0.005 |  Val. Acc: 51.12%\n"
     ]
    },
    {
     "name": "stderr",
     "output_type": "stream",
     "text": [
      "Training...: 100%|██████████| 137/137 [01:20<00:00,  1.69it/s]\n",
      "Training...:   0%|          | 0/137 [00:00<?, ?it/s]"
     ]
    },
    {
     "name": "stdout",
     "output_type": "stream",
     "text": [
      "Epoch: 01 | Epoch Time: 1m 26s\n",
      "\tTrain Loss: 0.005 | Train Acc: 50.97%\n",
      "\t Val. Loss: 0.005 |  Val. Acc: 51.67%\n"
     ]
    },
    {
     "name": "stderr",
     "output_type": "stream",
     "text": [
      "Training...: 100%|██████████| 137/137 [01:20<00:00,  1.70it/s]\n",
      "Training...:   0%|          | 0/137 [00:00<?, ?it/s]"
     ]
    },
    {
     "name": "stdout",
     "output_type": "stream",
     "text": [
      "Epoch: 02 | Epoch Time: 1m 26s\n",
      "\tTrain Loss: 0.005 | Train Acc: 52.60%\n",
      "\t Val. Loss: 0.005 |  Val. Acc: 52.92%\n"
     ]
    },
    {
     "name": "stderr",
     "output_type": "stream",
     "text": [
      "Training...: 100%|██████████| 137/137 [01:22<00:00,  1.66it/s]\n",
      "Training...:   0%|          | 0/137 [00:00<?, ?it/s]"
     ]
    },
    {
     "name": "stdout",
     "output_type": "stream",
     "text": [
      "Epoch: 03 | Epoch Time: 1m 28s\n",
      "\tTrain Loss: 0.005 | Train Acc: 53.25%\n",
      "\t Val. Loss: 0.005 |  Val. Acc: 53.75%\n"
     ]
    },
    {
     "name": "stderr",
     "output_type": "stream",
     "text": [
      "Training...: 100%|██████████| 137/137 [01:33<00:00,  1.46it/s]\n",
      "Training...:   0%|          | 0/137 [00:00<?, ?it/s]"
     ]
    },
    {
     "name": "stdout",
     "output_type": "stream",
     "text": [
      "Epoch: 04 | Epoch Time: 1m 39s\n",
      "\tTrain Loss: 0.005 | Train Acc: 54.09%\n",
      "\t Val. Loss: 0.005 |  Val. Acc: 54.23%\n"
     ]
    },
    {
     "name": "stderr",
     "output_type": "stream",
     "text": [
      "Training...: 100%|██████████| 137/137 [01:32<00:00,  1.48it/s]\n"
     ]
    },
    {
     "name": "stdout",
     "output_type": "stream",
     "text": [
      "Epoch: 05 | Epoch Time: 1m 38s\n",
      "\tTrain Loss: 0.005 | Train Acc: 54.79%\n",
      "\t Val. Loss: 0.005 |  Val. Acc: 54.79%\n"
     ]
    }
   ],
   "source": [
    "import numpy as np\n",
    "learning_rates = np.logspace(-5, -1, num=5)\n",
    "lr_tuning_valid_accus, lr_tuning_models = [], []\n",
    "for lr in learning_rates:\n",
    "    model, _, best_valid_accu = experiment(\n",
    "        train_data,\n",
    "        valid_data,\n",
    "        learning_rate=lr,\n",
    "        batch_size=best_batch_size,\n",
    "        num_epoch=5,\n",
    "        name=f\"lr-{lr}\",\n",
    "    )\n",
    "    lr_tuning_valid_accus.append(best_valid_accu)\n",
    "    lr_tuning_models.append(model)"
   ]
  },
  {
   "cell_type": "code",
   "execution_count": 190,
   "metadata": {},
   "outputs": [
    {
     "data": {
      "text/plain": [
       "[0.5022666667779286,\n",
       " 0.4986666668574015,\n",
       " 0.49786666685740155,\n",
       " 0.5112000001907349,\n",
       " 0.5478666664441426]"
      ]
     },
     "execution_count": 190,
     "metadata": {},
     "output_type": "execute_result"
    }
   ],
   "source": [
    "lr_tuning_valid_accus"
   ]
  },
  {
   "cell_type": "code",
   "execution_count": 191,
   "metadata": {},
   "outputs": [],
   "source": [
    "best_lr_idx = lr_tuning_valid_accus.index(max(lr_tuning_valid_accus))\n",
    "best_lr = learning_rates[best_lr_idx]"
   ]
  },
  {
   "cell_type": "code",
   "execution_count": 192,
   "metadata": {},
   "outputs": [
    {
     "name": "stderr",
     "output_type": "stream",
     "text": [
      "<ipython-input-192-7eede5d10490>:7: MatplotlibDeprecationWarning: The 'basex' parameter of __init__() has been renamed 'base' since Matplotlib 3.3; support for the old name will be dropped two minor releases later.\n",
      "  time_vs_batch_ax.set_xscale(\"log\", basex=2)\n",
      "<ipython-input-192-7eede5d10490>:14: MatplotlibDeprecationWarning: The 'basex' parameter of __init__() has been renamed 'base' since Matplotlib 3.3; support for the old name will be dropped two minor releases later.\n",
      "  accu_vs_batch_ax.set_xscale(\"log\", basex=2)\n"
     ]
    },
    {
     "data": {
      "image/png": "[encoded data removed]",
      "text/plain": [
       "<Figure size 1080x360 with 2 Axes>"
      ]
     },
     "metadata": {
      "needs_background": "light"
     },
     "output_type": "display_data"
    }
   ],
   "source": [
    "from matplotlib import pyplot as plt\n",
    "\n",
    "batch_fig, axes = plt.subplots(1, 2, figsize=(15, 5))\n",
    "time_vs_batch_ax, accu_vs_batch_ax = axes[0], axes[1]\n",
    "\n",
    "# Plot the comparison between training time and batch size\n",
    "time_vs_batch_ax.set_xscale(\"log\", basex=2)\n",
    "time_vs_batch_ax.set_xlabel(\"Batch Size\")\n",
    "time_vs_batch_ax.set_ylabel(\"Training Time\")\n",
    "time_vs_batch_ax.set_title(\"Training Time v.s. Batch Size\")\n",
    "time_vs_batch_ax.plot(batch_sizes, train_times)\n",
    "\n",
    "# Plot the comparison between Dev set accuracy and batch size\n",
    "accu_vs_batch_ax.set_xscale(\"log\", basex=2)\n",
    "accu_vs_batch_ax.set_xlabel(\"Batch Size\")\n",
    "accu_vs_batch_ax.set_ylabel(\"Accuracy on Dev\")\n",
    "accu_vs_batch_ax.set_title(\"Accuracy v.s. Batch Size\")\n",
    "accu_vs_batch_ax.plot(batch_sizes, valid_accus)\n",
    "\n",
    "batch_fig.savefig(\"lstm_batch_fig.jpg\")"
   ]
  },
  {
   "cell_type": "code",
   "execution_count": 193,
   "metadata": {},
   "outputs": [
    {
     "data": {
      "image/png": "[encoded data removed]",
      "text/plain": [
       "<Figure size 432x288 with 1 Axes>"
      ]
     },
     "metadata": {
      "needs_background": "light"
     },
     "output_type": "display_data"
    }
   ],
   "source": [
    "# Plot the comparison between Dev set accuracy and learning rate\n",
    "lr_fig, accu_vs_lr_ax = plt.subplots()\n",
    "accu_vs_lr_ax.set_xscale(\"log\")\n",
    "accu_vs_lr_ax.set_xlabel(\"Learning Rate\")\n",
    "accu_vs_lr_ax.set_ylabel(\"Accuracy on Dev\")\n",
    "accu_vs_lr_ax.set_title(\"Accuracy v.s. Learning Rate\")\n",
    "accu_vs_lr_ax.plot(learning_rates, lr_tuning_valid_accus)\n",
    "\n",
    "lr_fig.savefig(\"lstm_lr_fig.jpg\")"
   ]
  },
  {
   "cell_type": "code",
   "execution_count": 194,
   "metadata": {},
   "outputs": [
    {
     "name": "stderr",
     "output_type": "stream",
     "text": [
      "Training...: 100%|██████████| 196/196 [02:07<00:00,  1.54it/s]\n",
      "Training...:   0%|          | 0/196 [00:00<?, ?it/s]"
     ]
    },
    {
     "name": "stdout",
     "output_type": "stream",
     "text": [
      "Epoch: 01 | Epoch Time: 2m 23s\n",
      "\tTrain Loss: 0.003 | Train Acc: 84.30%\n",
      "\t Val. Loss: 0.008 |  Val. Acc: 50.00%\n"
     ]
    },
    {
     "name": "stderr",
     "output_type": "stream",
     "text": [
      "Training...: 100%|██████████| 196/196 [02:11<00:00,  1.49it/s]\n",
      "Training...:   0%|          | 0/196 [00:00<?, ?it/s]"
     ]
    },
    {
     "name": "stdout",
     "output_type": "stream",
     "text": [
      "Epoch: 02 | Epoch Time: 2m 28s\n",
      "\tTrain Loss: 0.004 | Train Acc: 72.85%\n",
      "\t Val. Loss: 0.008 |  Val. Acc: 50.00%\n"
     ]
    },
    {
     "name": "stderr",
     "output_type": "stream",
     "text": [
      "Training...: 100%|██████████| 196/196 [02:03<00:00,  1.58it/s]\n",
      "Training...:   0%|          | 0/196 [00:00<?, ?it/s]"
     ]
    },
    {
     "name": "stdout",
     "output_type": "stream",
     "text": [
      "Epoch: 03 | Epoch Time: 2m 20s\n",
      "\tTrain Loss: 0.004 | Train Acc: 72.54%\n",
      "\t Val. Loss: 0.008 |  Val. Acc: 50.00%\n"
     ]
    },
    {
     "name": "stderr",
     "output_type": "stream",
     "text": [
      "Training...: 100%|██████████| 196/196 [02:23<00:00,  1.37it/s]\n",
      "Training...:   0%|          | 0/196 [00:00<?, ?it/s]"
     ]
    },
    {
     "name": "stdout",
     "output_type": "stream",
     "text": [
      "Epoch: 04 | Epoch Time: 2m 41s\n",
      "\tTrain Loss: 0.004 | Train Acc: 72.54%\n",
      "\t Val. Loss: 0.008 |  Val. Acc: 50.00%\n"
     ]
    },
    {
     "name": "stderr",
     "output_type": "stream",
     "text": [
      "Training...: 100%|██████████| 196/196 [02:28<00:00,  1.32it/s]\n"
     ]
    },
    {
     "name": "stdout",
     "output_type": "stream",
     "text": [
      "Epoch: 05 | Epoch Time: 2m 44s\n",
      "\tTrain Loss: 0.004 | Train Acc: 72.54%\n",
      "\t Val. Loss: 0.008 |  Val. Acc: 50.00%\n"
     ]
    }
   ],
   "source": [
    "# Traing on all training data\n",
    "model, _, best_valid_accu = experiment(\n",
    "    all_train_data,\n",
    "    all_train_data,\n",
    "    learning_rate=best_lr,\n",
    "    batch_size=best_batch_size,\n",
    "    num_epoch=5,\n",
    "    name=f\"best\",\n",
    ")"
   ]
  },
  {
   "cell_type": "code",
   "execution_count": 196,
   "metadata": {},
   "outputs": [
    {
     "name": "stdout",
     "output_type": "stream",
     "text": [
      "Test Loss: 0.008 | Test Acc: 50.00%\n"
     ]
    }
   ],
   "source": [
    "# load the best model and evaluate the test set\n",
    "model.load_state_dict(torch.load(\"model-lstm-best.pt\"))\n",
    "\n",
    "test_loader = DataLoader(\n",
    "    dataset=test_data, batch_size=best_batch_size, collate_fn=collate_batch, shuffle=False\n",
    ")\n",
    "test_loss, test_acc = evaluate(model, criterion, dataloader=test_loader)\n",
    "print(f\"Test Loss: {test_loss:.3f} | Test Acc: {test_acc*100:.2f}%\")"
   ]
  },
  {
   "cell_type": "code",
   "execution_count": 197,
   "metadata": {},
   "outputs": [],
   "source": [
    "# for mapping indexes to seq/labels\n",
    "def idx2word_seq(raw_indexes, dataset):\n",
    "    batch_seq = []\n",
    "    for idx in raw_indexes:\n",
    "        batch_seq.append(\" \".join(dataset.X[idx]))\n",
    "    return batch_seq\n",
    "\n",
    "\n",
    "def idx2labels(indexes):\n",
    "    batch_seq = []\n",
    "    for idx in indexes:\n",
    "        batch_seq.append(output_vocab.lookup_word(idx))\n",
    "    return batch_seq"
   ]
  },
  {
   "cell_type": "code",
   "execution_count": 198,
   "metadata": {},
   "outputs": [],
   "source": [
    "\n",
    "valid_loader = DataLoader(\n",
    "    dataset=valid_data,\n",
    "    batch_size=best_batch_size,\n",
    "    collate_fn=collate_batch,\n",
    "    shuffle=False,\n",
    ")"
   ]
  },
  {
   "cell_type": "code",
   "execution_count": 199,
   "metadata": {},
   "outputs": [
    {
     "name": "stderr",
     "output_type": "stream",
     "text": [
      "100%|██████████| 59/59 [00:07<00:00,  7.58it/s]\n",
      "100%|██████████| 196/196 [00:26<00:00,  7.44it/s]\n"
     ]
    }
   ],
   "source": [
    "# generate output for val set and test set with the best model\n",
    "valid_text, valid_label, valid_correct = [], [], []\n",
    "test_text, test_label, test_correct = [], [], []\n",
    "for X, y, lens, idx in tqdm(valid_loader):\n",
    "    predictions = model(X, lens)\n",
    "    rounded_preds = torch.round(torch.sigmoid(predictions.squeeze(1)))\n",
    "    correct = rounded_preds == y.T\n",
    "    valid_text += idx2word_seq(idx, test_data)\n",
    "    valid_label += idx2labels(rounded_preds.int().squeeze().cpu().detach().numpy())\n",
    "    valid_correct += [c.item() for c in correct]\n",
    "    \n",
    "for X, y, lens, idx in tqdm(test_loader):\n",
    "    predictions = model(X, lens)\n",
    "    rounded_preds = torch.round(torch.sigmoid(predictions.squeeze(1)))\n",
    "    correct = rounded_preds == y.T\n",
    "    test_text += idx2word_seq(idx, test_data)\n",
    "    test_label += idx2labels(rounded_preds.int().squeeze().cpu().detach().numpy())\n",
    "    test_correct += [c.item() for c in correct]"
   ]
  },
  {
   "cell_type": "code",
   "execution_count": 200,
   "metadata": {},
   "outputs": [],
   "source": [
    "import pandas as pd\n",
    "\n",
    "# output the prediction results as csv files\n",
    "\n",
    "lr_dev_pred_df = pd.DataFrame(data={\n",
    "    \"text\": valid_text,\n",
    "    \"label\": valid_label,\n",
    "    \"correctness\": valid_correct\n",
    "})\n",
    "\n",
    "lr_test_pred_df = pd.DataFrame(data={\n",
    "    \"text\": test_text,\n",
    "    \"label\": test_label,\n",
    "    \"correctness\": test_correct\n",
    "})\n",
    "lr_dev_pred_df.to_csv(\"lstm_dev_output.csv\", index=False)\n",
    "lr_test_pred_df.to_csv(\"lstm_test_output.csv\", index=False)"
   ]
  },
  {
   "cell_type": "code",
   "execution_count": null,
   "metadata": {},
   "outputs": [],
   "source": []
  }
 ],
 "metadata": {
  "kernelspec": {
   "display_name": "Python 3",
   "language": "python",
   "name": "python3"
  },
  "language_info": {
   "codemirror_mode": {
    "name": "ipython",
    "version": 3
   },
   "file_extension": ".py",
   "mimetype": "text/x-python",
   "name": "python",
   "nbconvert_exporter": "python",
   "pygments_lexer": "ipython3",
   "version": "3.8.2"
  }
 },
 "nbformat": 4,
 "nbformat_minor": 4
}
