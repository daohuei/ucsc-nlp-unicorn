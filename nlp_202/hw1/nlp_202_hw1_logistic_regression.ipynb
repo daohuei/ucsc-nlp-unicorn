{
 "cells": [
  {
   "cell_type": "code",
   "execution_count": 1,
   "metadata": {},
   "outputs": [],
   "source": [
    "import torch\n",
    "\n",
    "device = torch.device(\"cuda\" if torch.cuda.is_available() else \"cpu\")"
   ]
  },
  {
   "cell_type": "code",
   "execution_count": 2,
   "metadata": {},
   "outputs": [],
   "source": [
    "SEED = 1234\n",
    "# same seed generator\n",
    "torch.manual_seed(SEED)\n",
    "\n",
    "# to make sure input output are fixed/deterministic\n",
    "torch.backends.cudnn.deterministic = True"
   ]
  },
  {
   "cell_type": "code",
   "execution_count": 70,
   "metadata": {},
   "outputs": [],
   "source": [
    "from torchtext import datasets"
   ]
  },
  {
   "cell_type": "code",
   "execution_count": 71,
   "metadata": {},
   "outputs": [],
   "source": [
    "all_train_data, test_data = datasets.IMDB(split=(\"train\", \"test\"))"
   ]
  },
  {
   "cell_type": "code",
   "execution_count": 72,
   "metadata": {},
   "outputs": [
    {
     "name": "stdout",
     "output_type": "stream",
     "text": [
      "Number of training examples: 25000\n",
      "Number of testing examples: 25000\n"
     ]
    }
   ],
   "source": [
    "print(f\"Number of training examples: {len(all_train_data)}\")\n",
    "print(f\"Number of testing examples: {len(test_data)}\")"
   ]
  },
  {
   "cell_type": "code",
   "execution_count": 73,
   "metadata": {},
   "outputs": [],
   "source": [
    "all_train_data = [data for data in all_train_data]\n",
    "test_data = [data for data in test_data]"
   ]
  },
  {
   "cell_type": "code",
   "execution_count": 74,
   "metadata": {},
   "outputs": [],
   "source": [
    "from torch.utils.data import Dataset, random_split\n",
    "from spacy.lang.en import English\n",
    "\n",
    "nlp = English()\n",
    "# Create a Tokenizer with the default settings for English\n",
    "# including punctuation rules and exceptions\n",
    "tokenizer = nlp.tokenizer\n",
    "\n",
    "\n",
    "class IMDbDataset(Dataset):\n",
    "    def __init__(self, iterable_dataset):\n",
    "        datas = [data for data in iterable_dataset]\n",
    "        self.X = [\n",
    "            [token.text.lower() for token in tokenizer(data[1])] for data in datas\n",
    "        ]\n",
    "        self.y = [data[0] for data in datas]\n",
    "\n",
    "    # Must have\n",
    "    def __len__(self):\n",
    "        return len(self.y)\n",
    "\n",
    "    # Must have\n",
    "    def __getitem__(self, index):\n",
    "        return (self.X[index], self.y[index], index)"
   ]
  },
  {
   "cell_type": "code",
   "execution_count": 75,
   "metadata": {},
   "outputs": [],
   "source": [
    "all_train_data = IMDbDataset(all_train_data)\n",
    "test_data = IMDbDataset(test_data)"
   ]
  },
  {
   "cell_type": "code",
   "execution_count": 76,
   "metadata": {},
   "outputs": [
    {
     "name": "stdout",
     "output_type": "stream",
     "text": [
      "Number of training examples: 17500\n",
      "Number of validation examples: 7500\n",
      "Number of testing examples: 25000\n"
     ]
    }
   ],
   "source": [
    "import random\n",
    "\n",
    "# split the data into train set and valid set with random seed\n",
    "train_data, valid_data = random_split(\n",
    "    all_train_data, [17500, 7500], generator=torch.Generator().manual_seed(SEED)\n",
    ")\n",
    "print(f\"Number of training examples: {len(train_data)}\")\n",
    "print(f\"Number of validation examples: {len(valid_data)}\")\n",
    "print(f\"Number of testing examples: {len(test_data)}\")"
   ]
  },
  {
   "cell_type": "code",
   "execution_count": 77,
   "metadata": {},
   "outputs": [],
   "source": [
    "from collections import Counter\n",
    "\n",
    "\n",
    "class Vocab:\n",
    "    def __init__(self, tokens, specials=[], max_size=None):\n",
    "        self.word2idx = {}\n",
    "        self.idx2word = []\n",
    "        for special in specials:\n",
    "            self.insert(special)\n",
    "        self.freq = Counter(tokens)\n",
    "        for word, _ in sorted(\n",
    "            self.freq.items(), key=lambda item: item[1], reverse=True\n",
    "        ):\n",
    "            if max_size is not None and len(self.idx2word) >= max_size + 2:\n",
    "                break\n",
    "            self.insert(word)\n",
    "\n",
    "    def insert(self, token):\n",
    "        if token in self.word2idx.keys():\n",
    "            return\n",
    "        self.idx2word.append(token)\n",
    "        self.word2idx[token] = self.idx2word.index(token)\n",
    "\n",
    "    def lookup_index(self, word):\n",
    "        if word not in self.word2idx.keys():\n",
    "            word = \"<unk>\"\n",
    "        return self.word2idx[word]\n",
    "\n",
    "    def lookup_word(self, idx):\n",
    "        return self.idx2word[idx]\n",
    "\n",
    "    def __len__(self):\n",
    "        return len(self.word2idx)\n",
    "\n",
    "    def __repr__(self):\n",
    "        return str(self.word2idx)"
   ]
  },
  {
   "cell_type": "code",
   "execution_count": 79,
   "metadata": {},
   "outputs": [
    {
     "name": "stdout",
     "output_type": "stream",
     "text": [
      "Unique tokens in input vocabulary: 25002\n",
      "Unique tokens in output vocabulary: 2\n"
     ]
    }
   ],
   "source": [
    "# Building Vocabulary\n",
    "MAX_VOCAB_SIZE = 25000\n",
    "\n",
    "\n",
    "input_vocab = Vocab(\n",
    "    tokens=[token for data in train_data for token in data[0]],\n",
    "    specials=[\"<pad>\", \"<unk>\"],\n",
    "    max_size=MAX_VOCAB_SIZE,\n",
    ")\n",
    "output_vocab = Vocab(tokens=[data[1] for data in train_data])\n",
    "\n",
    "print(f\"Unique tokens in input vocabulary: {len(input_vocab)}\")\n",
    "print(f\"Unique tokens in output vocabulary: {len(output_vocab)}\")\n",
    "\n",
    "# Do not use BucketIterator in your implementation because you are required to implement the padding and masking yourself.\n",
    "# this is just for verify single instance result\n",
    "# train_iterator, valid_iterator, test_iterator = data.BucketIterator.splits(\n",
    "#     (train_data, valid_data, test_data), batch_size=1, device=device\n",
    "# )"
   ]
  },
  {
   "cell_type": "code",
   "execution_count": 80,
   "metadata": {},
   "outputs": [],
   "source": [
    "# define the mini-batch size => tunable\n",
    "batch_size = 4"
   ]
  },
  {
   "cell_type": "code",
   "execution_count": 81,
   "metadata": {},
   "outputs": [],
   "source": [
    "from torch.utils.data import DataLoader\n",
    "from torch.nn.utils.rnn import pad_sequence"
   ]
  },
  {
   "cell_type": "code",
   "execution_count": 82,
   "metadata": {},
   "outputs": [],
   "source": [
    "# label preprocess pipeline\n",
    "def label_pipeline(label):\n",
    "    return output_vocab.lookup_index(label)\n",
    "\n",
    "\n",
    "# text preprocess pipeline\n",
    "def text_pipeline(text):\n",
    "    return [input_vocab.lookup_index(str(token)) for token in text]\n",
    "\n",
    "\n",
    "# preprocess batch data before loading each batch\n",
    "def collate_batch(batch):\n",
    "    label_list, text_list, idx_list = [], [], []\n",
    "    for _text, _label, _index in batch:\n",
    "        label_list.append(label_pipeline(_label))\n",
    "        processed_text = torch.tensor(text_pipeline(_text), dtype=torch.int64)\n",
    "        text_list.append(processed_text)\n",
    "        idx_list.append(_index)\n",
    "    label_list = torch.tensor(label_list, dtype=torch.int64)\n",
    "    text_list = pad_sequence(text_list, batch_first=True, padding_value=0)\n",
    "    return text_list.to(device), label_list.to(device), idx_list"
   ]
  },
  {
   "cell_type": "code",
   "execution_count": 83,
   "metadata": {},
   "outputs": [],
   "source": [
    "# use data loader for batching data\n",
    "train_loader = DataLoader(\n",
    "    dataset=train_data, batch_size=batch_size, collate_fn=collate_batch\n",
    ")\n",
    "valid_loader = DataLoader(\n",
    "    dataset=valid_data, batch_size=batch_size, collate_fn=collate_batch\n",
    ")\n",
    "test_loader = DataLoader(\n",
    "    dataset=test_data, batch_size=batch_size, collate_fn=collate_batch\n",
    ")"
   ]
  },
  {
   "cell_type": "code",
   "execution_count": 16,
   "metadata": {},
   "outputs": [],
   "source": [
    "from torch.nn.utils.rnn import pack_padded_sequence"
   ]
  },
  {
   "cell_type": "code",
   "execution_count": 17,
   "metadata": {},
   "outputs": [],
   "source": [
    "import torch.nn as nn\n",
    "\n",
    "# define logistic regression model class\n",
    "class LR(nn.Module):\n",
    "    def __init__(self, input_dim, embedding_dim, output_dim):\n",
    "        super().__init__()\n",
    "        self.embedding = nn.Embedding(input_dim, embedding_dim, padding_idx=0)\n",
    "        self.fc = nn.Linear(embedding_dim, output_dim)\n",
    "\n",
    "    def forward(self, text):\n",
    "        embedded = self.embedding(text)\n",
    "        # if seq_lens is not None:\n",
    "        #     embedded = pack_padded_sequence(embedded, seq_lens, batch_first=True, enforce_sorted=False)\n",
    "\n",
    "        # sum up the word vector in the scale of sequence\n",
    "        out = embedded.sum(1)\n",
    "\n",
    "        return self.fc(out)"
   ]
  },
  {
   "cell_type": "code",
   "execution_count": 18,
   "metadata": {},
   "outputs": [],
   "source": [
    "import copy"
   ]
  },
  {
   "cell_type": "code",
   "execution_count": 19,
   "metadata": {},
   "outputs": [
    {
     "data": {
      "text/plain": [
       "<All keys matched successfully>"
      ]
     },
     "execution_count": 19,
     "metadata": {},
     "output_type": "execute_result"
    }
   ],
   "source": [
    "INPUT_DIM = len(input_vocab)\n",
    "EMBEDDING_DIM = 100\n",
    "OUTPUT_DIM = 1\n",
    "\n",
    "# vocab_len x 100 x 1 => a binary LR classifier\n",
    "model_si = LR(INPUT_DIM, EMBEDDING_DIM, OUTPUT_DIM)\n",
    "model_mb = LR(INPUT_DIM, EMBEDDING_DIM, OUTPUT_DIM)\n",
    "\n",
    "# copy the same parameters initialization as the single instance model\n",
    "model_mb.load_state_dict(copy.deepcopy(model_si.state_dict()))"
   ]
  },
  {
   "cell_type": "code",
   "execution_count": null,
   "metadata": {},
   "outputs": [],
   "source": []
  },
  {
   "cell_type": "code",
   "execution_count": 20,
   "metadata": {},
   "outputs": [
    {
     "name": "stdout",
     "output_type": "stream",
     "text": [
      "The single instance model has 2,500,301 trainable parameters\n",
      "The mini batch model has 2,500,301 trainable parameters\n"
     ]
    }
   ],
   "source": [
    "def count_parameters(model):\n",
    "    return sum(p.numel() for p in model.parameters() if p.requires_grad)\n",
    "\n",
    "\n",
    "print(\n",
    "    f\"The single instance model has {count_parameters(model_si):,} trainable parameters\"\n",
    ")\n",
    "print(f\"The mini batch model has {count_parameters(model_mb):,} trainable parameters\")"
   ]
  },
  {
   "cell_type": "code",
   "execution_count": 21,
   "metadata": {},
   "outputs": [],
   "source": [
    "import torch.optim as optim\n",
    "\n",
    "# init the optimizer with stochastic gradient descent for each model\n",
    "# optimizer_si = optim.SGD(model_si.parameters(), lr=1e-3)\n",
    "# optimizer_mb = optim.SGD(model_mb.parameters(), lr=1e-3)"
   ]
  },
  {
   "cell_type": "code",
   "execution_count": 22,
   "metadata": {},
   "outputs": [],
   "source": [
    "# Binary Cross Entropy with sigmoid layer\n",
    "criterion = nn.BCEWithLogitsLoss()"
   ]
  },
  {
   "cell_type": "code",
   "execution_count": 23,
   "metadata": {},
   "outputs": [],
   "source": [
    "# send modules to the GPU/CPU device\n",
    "# model_si = model_si.to(device)\n",
    "# model_mb = model_mb.to(device)\n",
    "criterion = criterion.to(device)"
   ]
  },
  {
   "cell_type": "code",
   "execution_count": 24,
   "metadata": {},
   "outputs": [],
   "source": [
    "def binary_accuracy(preds, y):\n",
    "    \"\"\"\n",
    "    Returns accuracy per batch, i.e. if you get 8/10 right, this returns 0.8, NOT 8\n",
    "    \"\"\"\n",
    "\n",
    "    # round predictions to the closest integer\n",
    "    rounded_preds = torch.round(torch.sigmoid(preds))\n",
    "    correct = (rounded_preds == y).float()  # convert into float for division\n",
    "    acc = correct.sum() / len(correct)\n",
    "\n",
    "    return acc"
   ]
  },
  {
   "cell_type": "code",
   "execution_count": 25,
   "metadata": {},
   "outputs": [],
   "source": [
    "from tqdm import tqdm\n",
    "\n",
    "\n",
    "def train(model, optimizer, criterion, iterator=None, dataloader=None):\n",
    "    assert (\n",
    "        dataloader != None or iterator != None\n",
    "    )  # make sure either dataloader or iterator has been passed into the function\n",
    "\n",
    "    # init epoch loss and accuracy\n",
    "    epoch_loss = 0\n",
    "    epoch_acc = 0\n",
    "\n",
    "    # set to the train mode\n",
    "    model.train()\n",
    "\n",
    "    # iterations count for this epoch\n",
    "    iter_num = 0\n",
    "\n",
    "    if iterator:\n",
    "        # single instance\n",
    "        data_size = len(iterator)\n",
    "        for instance in tqdm(iterator, desc=\"Training...\", total=len(iterator)):\n",
    "\n",
    "            optimizer.zero_grad()\n",
    "\n",
    "            predictions = model(instance.text.T)\n",
    "\n",
    "            loss = criterion(predictions.squeeze(1), instance.label)\n",
    "\n",
    "            acc = binary_accuracy(predictions.squeeze(1), instance.label)\n",
    "\n",
    "            loss.backward()\n",
    "\n",
    "            optimizer.step()\n",
    "\n",
    "            epoch_loss += loss.item()\n",
    "            epoch_acc += acc.item()\n",
    "\n",
    "    else:\n",
    "        # mini-batch\n",
    "        data_size = len(dataloader.dataset)\n",
    "        for X, true_y, _ in tqdm(dataloader, desc=\"Training...\", total=len(dataloader)):\n",
    "\n",
    "            optimizer.zero_grad()\n",
    "\n",
    "            predictions = model(X)\n",
    "\n",
    "            loss = criterion(predictions.squeeze(1), true_y.float())\n",
    "\n",
    "            acc = binary_accuracy(predictions.squeeze(1), true_y)\n",
    "\n",
    "            loss.backward()\n",
    "\n",
    "            optimizer.step()\n",
    "\n",
    "            epoch_loss += loss.item()\n",
    "            epoch_acc += acc.item() * X.shape[0]\n",
    "    return epoch_loss / data_size, epoch_acc / data_size"
   ]
  },
  {
   "cell_type": "code",
   "execution_count": 26,
   "metadata": {},
   "outputs": [],
   "source": [
    "def evaluate(model, criterion, iterator=None, dataloader=None):\n",
    "\n",
    "    epoch_loss = 0\n",
    "    epoch_acc = 0\n",
    "\n",
    "    model.eval()\n",
    "\n",
    "    with torch.no_grad():\n",
    "\n",
    "        if iterator:\n",
    "            # single instance\n",
    "            data_size = len(iterator)\n",
    "            for instance in iterator:\n",
    "\n",
    "                predictions = model(instance.text.T)\n",
    "\n",
    "                loss = criterion(predictions.squeeze(1), instance.label)\n",
    "\n",
    "                acc = binary_accuracy(predictions.squeeze(1), instance.label)\n",
    "\n",
    "                epoch_loss += loss.item()\n",
    "                epoch_acc += acc.item()\n",
    "        else:\n",
    "            # mini-batch\n",
    "            data_size = len(dataloader.dataset)\n",
    "            for X, true_y, _ in dataloader:\n",
    "\n",
    "                predictions = model(X)\n",
    "\n",
    "                loss = criterion(predictions.squeeze(1), true_y.float())\n",
    "\n",
    "                acc = binary_accuracy(predictions.squeeze(1), true_y)\n",
    "\n",
    "                epoch_loss += loss.item()\n",
    "                epoch_acc += acc.item() * X.shape[0]\n",
    "        return epoch_loss / data_size, epoch_acc / data_size"
   ]
  },
  {
   "cell_type": "code",
   "execution_count": 27,
   "metadata": {},
   "outputs": [],
   "source": [
    "import time\n",
    "\n",
    "\n",
    "def epoch_time(start_time, end_time):\n",
    "    elapsed_time = end_time - start_time\n",
    "    elapsed_mins = int(elapsed_time / 60)\n",
    "    elapsed_secs = int(elapsed_time - (elapsed_mins * 60))\n",
    "    return elapsed_mins, elapsed_secs"
   ]
  },
  {
   "cell_type": "code",
   "execution_count": 28,
   "metadata": {},
   "outputs": [],
   "source": [
    "# Single Instance Training\n",
    "\n",
    "# N_EPOCHS = 5\n",
    "\n",
    "# best_valid_loss = float(\"inf\")\n",
    "\n",
    "# for epoch in range(N_EPOCHS):\n",
    "\n",
    "#     start_time = time.time()\n",
    "\n",
    "#     train_loss, train_acc = train(\n",
    "#         model_si, optimizer_si, criterion, iterator=train_iterator\n",
    "#     )\n",
    "#     valid_loss, valid_acc = evaluate(model_si, criterion, iterator=valid_iterator)\n",
    "\n",
    "#     end_time = time.time()\n",
    "\n",
    "#     epoch_mins, epoch_secs = epoch_time(start_time, end_time)\n",
    "\n",
    "#     if valid_loss < best_valid_loss:\n",
    "#         best_valid_loss = valid_loss\n",
    "#         torch.save(model_si.state_dict(), \"model-si.pt\")\n",
    "\n",
    "#     print(f\"Epoch: {epoch+1:02} | Epoch Time: {epoch_mins}m {epoch_secs}s\")\n",
    "#     print(f\"\\tTrain Loss: {train_loss:.3f} | Train Acc: {train_acc*100:.2f}%\")\n",
    "#     print(f\"\\t Val. Loss: {valid_loss:.3f} |  Val. Acc: {valid_acc*100:.2f}%\")"
   ]
  },
  {
   "cell_type": "code",
   "execution_count": 29,
   "metadata": {},
   "outputs": [],
   "source": [
    "# Mini-Batch Training\n",
    "\n",
    "# best_valid_loss = float(\"inf\")\n",
    "\n",
    "# for epoch in range(N_EPOCHS):\n",
    "\n",
    "#     start_time = time.time()\n",
    "\n",
    "#     train_loss, train_acc = train(\n",
    "#         model_mb, optimizer_mb, criterion, dataloader=train_loader\n",
    "#     )\n",
    "#     valid_loss, valid_acc = evaluate(model_mb, criterion, dataloader=valid_loader)\n",
    "\n",
    "#     end_time = time.time()\n",
    "\n",
    "#     epoch_mins, epoch_secs = epoch_time(start_time, end_time)\n",
    "\n",
    "#     if valid_loss < best_valid_loss:\n",
    "#         best_valid_loss = valid_loss\n",
    "#         torch.save(model_mb.state_dict(), \"model-mb.pt\")\n",
    "\n",
    "#     print(f\"Epoch: {epoch+1:02} | Epoch Time: {epoch_mins}m {epoch_secs}s\")\n",
    "#     print(f\"\\tTrain Loss: {train_loss:.3f} | Train Acc: {train_acc*100:.2f}%\")\n",
    "#     print(f\"\\t Val. Loss: {valid_loss:.3f} |  Val. Acc: {valid_acc*100:.2f}%\")"
   ]
  },
  {
   "cell_type": "code",
   "execution_count": 30,
   "metadata": {},
   "outputs": [],
   "source": [
    "# load the state for the single instance\n",
    "# model_si.load_state_dict(torch.load(\"model-si.pt\"))\n",
    "# test_loss, test_acc = evaluate(model_si, criterion, iterator=test_iterator)\n",
    "# print(f\"Test Loss: {test_loss:.3f} | Test Acc: {test_acc*100:.2f}%\")"
   ]
  },
  {
   "cell_type": "code",
   "execution_count": 31,
   "metadata": {},
   "outputs": [],
   "source": [
    "# load the state for the mini-batch\n",
    "# model_mb.load_state_dict(torch.load(\"model-mb.pt\"))\n",
    "# test_loss, test_acc = evaluate(model_mb, criterion, dataloader=test_loader)\n",
    "# print(f\"Test Loss: {test_loss:.3f} | Test Acc: {test_acc*100:.2f}%\")"
   ]
  },
  {
   "cell_type": "code",
   "execution_count": 32,
   "metadata": {},
   "outputs": [],
   "source": [
    "# Test of model correctness\n",
    "# max_n_test_instances = 5\n",
    "# i = 1\n",
    "# for instance in valid_iterator:\n",
    "#     score_si = model_si(instance.text.T)\n",
    "#     score_mb = model_mb(instance.text.T)\n",
    "#     print(score_si, score_mb)\n",
    "#     if i >= max_n_test_instances:\n",
    "#         break\n",
    "#     else:\n",
    "#         i += 1"
   ]
  },
  {
   "cell_type": "code",
   "execution_count": 33,
   "metadata": {},
   "outputs": [],
   "source": [
    "def experiment(\n",
    "    train_data,\n",
    "    valid_data,\n",
    "    batch_size=1,\n",
    "    learning_rate=1e-3,\n",
    "    num_epoch=1,\n",
    "    name=\"experiment_name\",\n",
    "):\n",
    "\n",
    "    # use data loader for batching data\n",
    "    train_loader = DataLoader(\n",
    "        dataset=train_data,\n",
    "        batch_size=batch_size,\n",
    "        collate_fn=collate_batch,\n",
    "        shuffle=True,\n",
    "    )\n",
    "    valid_loader = DataLoader(\n",
    "        dataset=valid_data,\n",
    "        batch_size=batch_size,\n",
    "        collate_fn=collate_batch,\n",
    "        shuffle=True,\n",
    "    )\n",
    "\n",
    "    INPUT_DIM = len(input_vocab)\n",
    "    EMBEDDING_DIM = 100\n",
    "    OUTPUT_DIM = 1\n",
    "\n",
    "    # vocab_len x 100 x 1 => a binary LR classifier\n",
    "    model_lr = LR(INPUT_DIM, EMBEDDING_DIM, OUTPUT_DIM)\n",
    "\n",
    "    # init the optimizer with stochastic gradient descent for each model\n",
    "    optimizer = optim.SGD(model_lr.parameters(), lr=learning_rate)\n",
    "\n",
    "    # Binary Cross Entropy with sigmoid layer\n",
    "    criterion = nn.BCEWithLogitsLoss()\n",
    "\n",
    "    # send modules to the GPU/CPU device\n",
    "    model_lr = model_lr.to(device)\n",
    "    criterion = criterion.to(device)\n",
    "\n",
    "    # for recording the training time\n",
    "    train_time = 0\n",
    "    best_valid_loss = float(\"inf\")\n",
    "    best_valid_accu = 0\n",
    "    for epoch in range(num_epoch):\n",
    "\n",
    "        start_time = time.time()\n",
    "\n",
    "        train_loss, train_acc = train(\n",
    "            model_lr, optimizer, criterion, dataloader=train_loader\n",
    "        )\n",
    "\n",
    "        valid_loss, valid_acc = evaluate(model_lr, criterion, dataloader=valid_loader)\n",
    "        end_time = time.time()\n",
    "\n",
    "        epoch_mins, epoch_secs = epoch_time(start_time, end_time)\n",
    "        train_time += end_time - start_time\n",
    "\n",
    "        if valid_loss < best_valid_loss:\n",
    "            best_valid_loss = valid_loss\n",
    "            best_valid_accu = valid_acc\n",
    "            torch.save(model_lr.state_dict(), f\"model-{name}.pt\")\n",
    "\n",
    "        print(f\"Epoch: {epoch+1:02} | Epoch Time: {epoch_mins}m {epoch_secs}s\")\n",
    "        print(f\"\\tTrain Loss: {train_loss:.3f} | Train Acc: {train_acc*100:.2f}%\")\n",
    "        print(f\"\\t Val. Loss: {valid_loss:.3f} |  Val. Acc: {valid_acc*100:.2f}%\")\n",
    "    return model_lr, train_time, best_valid_accu"
   ]
  },
  {
   "cell_type": "code",
   "execution_count": 34,
   "metadata": {},
   "outputs": [
    {
     "name": "stderr",
     "output_type": "stream",
     "text": [
      "Training...: 100%|██████████| 17500/17500 [00:43<00:00, 400.89it/s]\n",
      "Training...:   0%|          | 40/17500 [00:00<00:44, 395.20it/s]"
     ]
    },
    {
     "name": "stdout",
     "output_type": "stream",
     "text": [
      "Epoch: 01 | Epoch Time: 0m 47s\n",
      "\tTrain Loss: 12.335 | Train Acc: 60.60%\n",
      "\t Val. Loss: 7.474 |  Val. Acc: 64.40%\n"
     ]
    },
    {
     "name": "stderr",
     "output_type": "stream",
     "text": [
      "Training...: 100%|██████████| 17500/17500 [00:43<00:00, 400.34it/s]\n",
      "Training...:   0%|          | 40/17500 [00:00<00:44, 394.94it/s]"
     ]
    },
    {
     "name": "stdout",
     "output_type": "stream",
     "text": [
      "Epoch: 02 | Epoch Time: 0m 47s\n",
      "\tTrain Loss: 8.029 | Train Acc: 64.82%\n",
      "\t Val. Loss: 8.469 |  Val. Acc: 64.24%\n"
     ]
    },
    {
     "name": "stderr",
     "output_type": "stream",
     "text": [
      "Training...: 100%|██████████| 17500/17500 [00:43<00:00, 398.52it/s]\n",
      "Training...:   0%|          | 39/17500 [00:00<00:45, 381.42it/s]"
     ]
    },
    {
     "name": "stdout",
     "output_type": "stream",
     "text": [
      "Epoch: 03 | Epoch Time: 0m 47s\n",
      "\tTrain Loss: 7.274 | Train Acc: 66.84%\n",
      "\t Val. Loss: 6.731 |  Val. Acc: 66.97%\n"
     ]
    },
    {
     "name": "stderr",
     "output_type": "stream",
     "text": [
      "Training...: 100%|██████████| 17500/17500 [00:43<00:00, 398.67it/s]\n",
      "Training...:   0%|          | 38/17500 [00:00<00:46, 375.80it/s]"
     ]
    },
    {
     "name": "stdout",
     "output_type": "stream",
     "text": [
      "Epoch: 04 | Epoch Time: 0m 47s\n",
      "\tTrain Loss: 6.593 | Train Acc: 69.15%\n",
      "\t Val. Loss: 7.116 |  Val. Acc: 68.95%\n"
     ]
    },
    {
     "name": "stderr",
     "output_type": "stream",
     "text": [
      "Training...: 100%|██████████| 17500/17500 [00:43<00:00, 397.85it/s]\n",
      "Training...:   0%|          | 36/8750 [00:00<00:24, 354.07it/s]"
     ]
    },
    {
     "name": "stdout",
     "output_type": "stream",
     "text": [
      "Epoch: 05 | Epoch Time: 0m 47s\n",
      "\tTrain Loss: 5.887 | Train Acc: 70.12%\n",
      "\t Val. Loss: 5.590 |  Val. Acc: 70.31%\n"
     ]
    },
    {
     "name": "stderr",
     "output_type": "stream",
     "text": [
      "Training...: 100%|██████████| 8750/8750 [00:23<00:00, 376.52it/s]\n",
      "Training...:   0%|          | 36/8750 [00:00<00:24, 351.66it/s]"
     ]
    },
    {
     "name": "stdout",
     "output_type": "stream",
     "text": [
      "Epoch: 01 | Epoch Time: 0m 25s\n",
      "\tTrain Loss: 4.906 | Train Acc: 59.95%\n",
      "\t Val. Loss: 2.559 |  Val. Acc: 63.52%\n"
     ]
    },
    {
     "name": "stderr",
     "output_type": "stream",
     "text": [
      "Training...: 100%|██████████| 8750/8750 [00:23<00:00, 374.10it/s]\n",
      "Training...:   0%|          | 31/8750 [00:00<00:28, 303.36it/s]"
     ]
    },
    {
     "name": "stdout",
     "output_type": "stream",
     "text": [
      "Epoch: 02 | Epoch Time: 0m 25s\n",
      "\tTrain Loss: 2.480 | Train Acc: 61.49%\n",
      "\t Val. Loss: 2.249 |  Val. Acc: 62.49%\n"
     ]
    },
    {
     "name": "stderr",
     "output_type": "stream",
     "text": [
      "Training...: 100%|██████████| 8750/8750 [00:23<00:00, 372.78it/s]\n",
      "Training...:   0%|          | 32/8750 [00:00<00:27, 317.14it/s]"
     ]
    },
    {
     "name": "stdout",
     "output_type": "stream",
     "text": [
      "Epoch: 03 | Epoch Time: 0m 25s\n",
      "\tTrain Loss: 2.142 | Train Acc: 63.17%\n",
      "\t Val. Loss: 2.120 |  Val. Acc: 62.71%\n"
     ]
    },
    {
     "name": "stderr",
     "output_type": "stream",
     "text": [
      "Training...: 100%|██████████| 8750/8750 [00:23<00:00, 373.17it/s]\n",
      "Training...:   0%|          | 36/8750 [00:00<00:24, 354.70it/s]"
     ]
    },
    {
     "name": "stdout",
     "output_type": "stream",
     "text": [
      "Epoch: 04 | Epoch Time: 0m 25s\n",
      "\tTrain Loss: 1.964 | Train Acc: 63.53%\n",
      "\t Val. Loss: 2.245 |  Val. Acc: 64.40%\n"
     ]
    },
    {
     "name": "stderr",
     "output_type": "stream",
     "text": [
      "Training...: 100%|██████████| 8750/8750 [00:23<00:00, 377.22it/s]\n",
      "Training...:   1%|          | 32/4375 [00:00<00:13, 318.87it/s]"
     ]
    },
    {
     "name": "stdout",
     "output_type": "stream",
     "text": [
      "Epoch: 05 | Epoch Time: 0m 25s\n",
      "\tTrain Loss: 1.973 | Train Acc: 64.16%\n",
      "\t Val. Loss: 2.226 |  Val. Acc: 61.40%\n"
     ]
    },
    {
     "name": "stderr",
     "output_type": "stream",
     "text": [
      "Training...: 100%|██████████| 4375/4375 [00:12<00:00, 336.54it/s]\n",
      "Training...:   1%|          | 32/4375 [00:00<00:13, 316.36it/s]"
     ]
    },
    {
     "name": "stdout",
     "output_type": "stream",
     "text": [
      "Epoch: 01 | Epoch Time: 0m 14s\n",
      "\tTrain Loss: 2.656 | Train Acc: 59.96%\n",
      "\t Val. Loss: 1.962 |  Val. Acc: 59.20%\n"
     ]
    },
    {
     "name": "stderr",
     "output_type": "stream",
     "text": [
      "Training...: 100%|██████████| 4375/4375 [00:13<00:00, 332.99it/s]\n",
      "Training...:   1%|          | 32/4375 [00:00<00:13, 313.65it/s]"
     ]
    },
    {
     "name": "stdout",
     "output_type": "stream",
     "text": [
      "Epoch: 02 | Epoch Time: 0m 14s\n",
      "\tTrain Loss: 1.501 | Train Acc: 61.41%\n",
      "\t Val. Loss: 1.113 |  Val. Acc: 61.13%\n"
     ]
    },
    {
     "name": "stderr",
     "output_type": "stream",
     "text": [
      "Training...: 100%|██████████| 4375/4375 [00:13<00:00, 334.20it/s]\n",
      "Training...:   1%|          | 32/4375 [00:00<00:13, 313.67it/s]"
     ]
    },
    {
     "name": "stdout",
     "output_type": "stream",
     "text": [
      "Epoch: 03 | Epoch Time: 0m 14s\n",
      "\tTrain Loss: 1.031 | Train Acc: 62.10%\n",
      "\t Val. Loss: 0.667 |  Val. Acc: 64.99%\n"
     ]
    },
    {
     "name": "stderr",
     "output_type": "stream",
     "text": [
      "Training...: 100%|██████████| 4375/4375 [00:12<00:00, 337.25it/s]\n",
      "Training...:   1%|          | 32/4375 [00:00<00:13, 315.48it/s]"
     ]
    },
    {
     "name": "stdout",
     "output_type": "stream",
     "text": [
      "Epoch: 04 | Epoch Time: 0m 14s\n",
      "\tTrain Loss: 0.803 | Train Acc: 61.97%\n",
      "\t Val. Loss: 0.676 |  Val. Acc: 64.13%\n"
     ]
    },
    {
     "name": "stderr",
     "output_type": "stream",
     "text": [
      "Training...: 100%|██████████| 4375/4375 [00:13<00:00, 336.33it/s]\n",
      "Training...:   1%|          | 25/2188 [00:00<00:08, 248.99it/s]"
     ]
    },
    {
     "name": "stdout",
     "output_type": "stream",
     "text": [
      "Epoch: 05 | Epoch Time: 0m 14s\n",
      "\tTrain Loss: 0.683 | Train Acc: 62.78%\n",
      "\t Val. Loss: 0.834 |  Val. Acc: 59.43%\n"
     ]
    },
    {
     "name": "stderr",
     "output_type": "stream",
     "text": [
      "Training...: 100%|██████████| 2188/2188 [00:08<00:00, 265.12it/s]\n",
      "Training...:   1%|          | 25/2188 [00:00<00:08, 249.69it/s]"
     ]
    },
    {
     "name": "stdout",
     "output_type": "stream",
     "text": [
      "Epoch: 01 | Epoch Time: 0m 9s\n",
      "\tTrain Loss: 0.971 | Train Acc: 60.36%\n",
      "\t Val. Loss: 1.943 |  Val. Acc: 51.76%\n"
     ]
    },
    {
     "name": "stderr",
     "output_type": "stream",
     "text": [
      "Training...: 100%|██████████| 2188/2188 [00:08<00:00, 266.30it/s]\n",
      "Training...:   1%|          | 25/2188 [00:00<00:08, 246.06it/s]"
     ]
    },
    {
     "name": "stdout",
     "output_type": "stream",
     "text": [
      "Epoch: 02 | Epoch Time: 0m 9s\n",
      "\tTrain Loss: 0.741 | Train Acc: 61.75%\n",
      "\t Val. Loss: 0.528 |  Val. Acc: 63.16%\n"
     ]
    },
    {
     "name": "stderr",
     "output_type": "stream",
     "text": [
      "Training...: 100%|██████████| 2188/2188 [00:08<00:00, 265.65it/s]\n",
      "Training...:   1%|          | 25/2188 [00:00<00:08, 245.06it/s]"
     ]
    },
    {
     "name": "stdout",
     "output_type": "stream",
     "text": [
      "Epoch: 03 | Epoch Time: 0m 9s\n",
      "\tTrain Loss: 0.595 | Train Acc: 62.17%\n",
      "\t Val. Loss: 0.428 |  Val. Acc: 64.35%\n"
     ]
    },
    {
     "name": "stderr",
     "output_type": "stream",
     "text": [
      "Training...: 100%|██████████| 2188/2188 [00:08<00:00, 265.67it/s]\n",
      "Training...:   1%|          | 25/2188 [00:00<00:08, 249.69it/s]"
     ]
    },
    {
     "name": "stdout",
     "output_type": "stream",
     "text": [
      "Epoch: 04 | Epoch Time: 0m 9s\n",
      "\tTrain Loss: 0.470 | Train Acc: 62.50%\n",
      "\t Val. Loss: 0.455 |  Val. Acc: 62.29%\n"
     ]
    },
    {
     "name": "stderr",
     "output_type": "stream",
     "text": [
      "Training...: 100%|██████████| 2188/2188 [00:08<00:00, 265.62it/s]\n",
      "Training...:   2%|▏         | 18/1094 [00:00<00:06, 178.76it/s]"
     ]
    },
    {
     "name": "stdout",
     "output_type": "stream",
     "text": [
      "Epoch: 05 | Epoch Time: 0m 9s\n",
      "\tTrain Loss: 0.421 | Train Acc: 62.21%\n",
      "\t Val. Loss: 0.394 |  Val. Acc: 61.08%\n"
     ]
    },
    {
     "name": "stderr",
     "output_type": "stream",
     "text": [
      "Training...: 100%|██████████| 1094/1094 [00:05<00:00, 189.13it/s]\n",
      "Training...:   2%|▏         | 18/1094 [00:00<00:06, 173.85it/s]"
     ]
    },
    {
     "name": "stdout",
     "output_type": "stream",
     "text": [
      "Epoch: 01 | Epoch Time: 0m 6s\n",
      "\tTrain Loss: 0.330 | Train Acc: 60.74%\n",
      "\t Val. Loss: 0.209 |  Val. Acc: 62.08%\n"
     ]
    },
    {
     "name": "stderr",
     "output_type": "stream",
     "text": [
      "Training...: 100%|██████████| 1094/1094 [00:05<00:00, 187.08it/s]\n",
      "Training...:   2%|▏         | 17/1094 [00:00<00:06, 165.69it/s]"
     ]
    },
    {
     "name": "stdout",
     "output_type": "stream",
     "text": [
      "Epoch: 02 | Epoch Time: 0m 6s\n",
      "\tTrain Loss: 0.285 | Train Acc: 61.82%\n",
      "\t Val. Loss: 0.141 |  Val. Acc: 65.99%\n"
     ]
    },
    {
     "name": "stderr",
     "output_type": "stream",
     "text": [
      "Training...: 100%|██████████| 1094/1094 [00:05<00:00, 184.63it/s]\n",
      "Training...:   2%|▏         | 17/1094 [00:00<00:06, 166.42it/s]"
     ]
    },
    {
     "name": "stdout",
     "output_type": "stream",
     "text": [
      "Epoch: 03 | Epoch Time: 0m 7s\n",
      "\tTrain Loss: 0.263 | Train Acc: 61.05%\n",
      "\t Val. Loss: 0.134 |  Val. Acc: 67.01%\n"
     ]
    },
    {
     "name": "stderr",
     "output_type": "stream",
     "text": [
      "Training...: 100%|██████████| 1094/1094 [00:05<00:00, 188.53it/s]\n",
      "Training...:   2%|▏         | 19/1094 [00:00<00:05, 185.27it/s]"
     ]
    },
    {
     "name": "stdout",
     "output_type": "stream",
     "text": [
      "Epoch: 04 | Epoch Time: 0m 6s\n",
      "\tTrain Loss: 0.232 | Train Acc: 61.99%\n",
      "\t Val. Loss: 0.107 |  Val. Acc: 67.07%\n"
     ]
    },
    {
     "name": "stderr",
     "output_type": "stream",
     "text": [
      "Training...: 100%|██████████| 1094/1094 [00:05<00:00, 185.21it/s]\n",
      "Training...:   2%|▏         | 10/547 [00:00<00:06, 89.41it/s]"
     ]
    },
    {
     "name": "stdout",
     "output_type": "stream",
     "text": [
      "Epoch: 05 | Epoch Time: 0m 6s\n",
      "\tTrain Loss: 0.209 | Train Acc: 62.26%\n",
      "\t Val. Loss: 0.119 |  Val. Acc: 66.99%\n"
     ]
    },
    {
     "name": "stderr",
     "output_type": "stream",
     "text": [
      "Training...: 100%|██████████| 547/547 [00:05<00:00, 106.84it/s]\n",
      "Training...:   2%|▏         | 11/547 [00:00<00:04, 107.46it/s]"
     ]
    },
    {
     "name": "stdout",
     "output_type": "stream",
     "text": [
      "Epoch: 01 | Epoch Time: 0m 6s\n",
      "\tTrain Loss: 0.167 | Train Acc: 58.36%\n",
      "\t Val. Loss: 0.243 |  Val. Acc: 52.61%\n"
     ]
    },
    {
     "name": "stderr",
     "output_type": "stream",
     "text": [
      "Training...: 100%|██████████| 547/547 [00:04<00:00, 110.90it/s]\n",
      "Training...:   2%|▏         | 12/547 [00:00<00:04, 115.64it/s]"
     ]
    },
    {
     "name": "stdout",
     "output_type": "stream",
     "text": [
      "Epoch: 02 | Epoch Time: 0m 6s\n",
      "\tTrain Loss: 0.143 | Train Acc: 60.29%\n",
      "\t Val. Loss: 0.448 |  Val. Acc: 50.51%\n"
     ]
    },
    {
     "name": "stderr",
     "output_type": "stream",
     "text": [
      "Training...: 100%|██████████| 547/547 [00:04<00:00, 109.86it/s]\n",
      "Training...:   2%|▏         | 11/547 [00:00<00:05, 104.90it/s]"
     ]
    },
    {
     "name": "stdout",
     "output_type": "stream",
     "text": [
      "Epoch: 03 | Epoch Time: 0m 6s\n",
      "\tTrain Loss: 0.133 | Train Acc: 60.59%\n",
      "\t Val. Loss: 0.067 |  Val. Acc: 64.92%\n"
     ]
    },
    {
     "name": "stderr",
     "output_type": "stream",
     "text": [
      "Training...: 100%|██████████| 547/547 [00:04<00:00, 111.46it/s]\n",
      "Training...:   2%|▏         | 11/547 [00:00<00:05, 105.09it/s]"
     ]
    },
    {
     "name": "stdout",
     "output_type": "stream",
     "text": [
      "Epoch: 04 | Epoch Time: 0m 6s\n",
      "\tTrain Loss: 0.133 | Train Acc: 59.63%\n",
      "\t Val. Loss: 0.221 |  Val. Acc: 54.48%\n"
     ]
    },
    {
     "name": "stderr",
     "output_type": "stream",
     "text": [
      "Training...: 100%|██████████| 547/547 [00:04<00:00, 111.43it/s]\n",
      "Training...:   3%|▎         | 7/274 [00:00<00:04, 61.31it/s]"
     ]
    },
    {
     "name": "stdout",
     "output_type": "stream",
     "text": [
      "Epoch: 05 | Epoch Time: 0m 6s\n",
      "\tTrain Loss: 0.120 | Train Acc: 60.74%\n",
      "\t Val. Loss: 0.058 |  Val. Acc: 65.56%\n"
     ]
    },
    {
     "name": "stderr",
     "output_type": "stream",
     "text": [
      "Training...: 100%|██████████| 274/274 [00:04<00:00, 58.66it/s]\n",
      "Training...:   1%|▏         | 4/274 [00:00<00:06, 39.17it/s]"
     ]
    },
    {
     "name": "stdout",
     "output_type": "stream",
     "text": [
      "Epoch: 01 | Epoch Time: 0m 5s\n",
      "\tTrain Loss: 0.069 | Train Acc: 58.09%\n",
      "\t Val. Loss: 0.032 |  Val. Acc: 65.97%\n"
     ]
    },
    {
     "name": "stderr",
     "output_type": "stream",
     "text": [
      "Training...: 100%|██████████| 274/274 [00:04<00:00, 58.02it/s]\n",
      "Training...:   2%|▏         | 6/274 [00:00<00:04, 59.10it/s]"
     ]
    },
    {
     "name": "stdout",
     "output_type": "stream",
     "text": [
      "Epoch: 02 | Epoch Time: 0m 6s\n",
      "\tTrain Loss: 0.060 | Train Acc: 60.97%\n",
      "\t Val. Loss: 0.069 |  Val. Acc: 57.29%\n"
     ]
    },
    {
     "name": "stderr",
     "output_type": "stream",
     "text": [
      "Training...: 100%|██████████| 274/274 [00:04<00:00, 59.15it/s]\n",
      "Training...:   3%|▎         | 7/274 [00:00<00:04, 59.58it/s]"
     ]
    },
    {
     "name": "stdout",
     "output_type": "stream",
     "text": [
      "Epoch: 03 | Epoch Time: 0m 5s\n",
      "\tTrain Loss: 0.053 | Train Acc: 62.03%\n",
      "\t Val. Loss: 0.027 |  Val. Acc: 66.55%\n"
     ]
    },
    {
     "name": "stderr",
     "output_type": "stream",
     "text": [
      "Training...: 100%|██████████| 274/274 [00:04<00:00, 59.60it/s]\n",
      "Training...:   2%|▏         | 6/274 [00:00<00:04, 57.83it/s]"
     ]
    },
    {
     "name": "stdout",
     "output_type": "stream",
     "text": [
      "Epoch: 04 | Epoch Time: 0m 5s\n",
      "\tTrain Loss: 0.052 | Train Acc: 61.82%\n",
      "\t Val. Loss: 0.032 |  Val. Acc: 64.88%\n"
     ]
    },
    {
     "name": "stderr",
     "output_type": "stream",
     "text": [
      "Training...: 100%|██████████| 274/274 [00:04<00:00, 58.78it/s]\n",
      "Training...:   3%|▎         | 4/137 [00:00<00:04, 32.16it/s]"
     ]
    },
    {
     "name": "stdout",
     "output_type": "stream",
     "text": [
      "Epoch: 05 | Epoch Time: 0m 5s\n",
      "\tTrain Loss: 0.055 | Train Acc: 61.48%\n",
      "\t Val. Loss: 0.065 |  Val. Acc: 57.88%\n"
     ]
    },
    {
     "name": "stderr",
     "output_type": "stream",
     "text": [
      "Training...: 100%|██████████| 137/137 [00:04<00:00, 32.82it/s]\n",
      "Training...:   3%|▎         | 4/137 [00:00<00:04, 32.13it/s]"
     ]
    },
    {
     "name": "stdout",
     "output_type": "stream",
     "text": [
      "Epoch: 01 | Epoch Time: 0m 5s\n",
      "\tTrain Loss: 0.056 | Train Acc: 55.63%\n",
      "\t Val. Loss: 0.113 |  Val. Acc: 51.51%\n"
     ]
    },
    {
     "name": "stderr",
     "output_type": "stream",
     "text": [
      "Training...: 100%|██████████| 137/137 [00:04<00:00, 32.35it/s]\n",
      "Training...:   3%|▎         | 4/137 [00:00<00:04, 31.82it/s]"
     ]
    },
    {
     "name": "stdout",
     "output_type": "stream",
     "text": [
      "Epoch: 02 | Epoch Time: 0m 5s\n",
      "\tTrain Loss: 0.046 | Train Acc: 59.27%\n",
      "\t Val. Loss: 0.023 |  Val. Acc: 64.84%\n"
     ]
    },
    {
     "name": "stderr",
     "output_type": "stream",
     "text": [
      "Training...: 100%|██████████| 137/137 [00:04<00:00, 32.30it/s]\n",
      "Training...:   3%|▎         | 4/137 [00:00<00:04, 32.46it/s]"
     ]
    },
    {
     "name": "stdout",
     "output_type": "stream",
     "text": [
      "Epoch: 03 | Epoch Time: 0m 5s\n",
      "\tTrain Loss: 0.041 | Train Acc: 60.90%\n",
      "\t Val. Loss: 0.091 |  Val. Acc: 53.28%\n"
     ]
    },
    {
     "name": "stderr",
     "output_type": "stream",
     "text": [
      "Training...: 100%|██████████| 137/137 [00:04<00:00, 32.61it/s]\n",
      "Training...:   3%|▎         | 4/137 [00:00<00:03, 33.79it/s]"
     ]
    },
    {
     "name": "stdout",
     "output_type": "stream",
     "text": [
      "Epoch: 04 | Epoch Time: 0m 5s\n",
      "\tTrain Loss: 0.041 | Train Acc: 61.39%\n",
      "\t Val. Loss: 0.028 |  Val. Acc: 64.36%\n"
     ]
    },
    {
     "name": "stderr",
     "output_type": "stream",
     "text": [
      "Training...: 100%|██████████| 137/137 [00:04<00:00, 32.67it/s]\n",
      "Training...:   1%|▏         | 1/69 [00:00<00:06,  9.89it/s]"
     ]
    },
    {
     "name": "stdout",
     "output_type": "stream",
     "text": [
      "Epoch: 05 | Epoch Time: 0m 5s\n",
      "\tTrain Loss: 0.041 | Train Acc: 61.21%\n",
      "\t Val. Loss: 0.043 |  Val. Acc: 60.59%\n"
     ]
    },
    {
     "name": "stderr",
     "output_type": "stream",
     "text": [
      "Training...: 100%|██████████| 69/69 [00:04<00:00, 16.90it/s]\n",
      "Training...:   3%|▎         | 2/69 [00:00<00:04, 14.41it/s]"
     ]
    },
    {
     "name": "stdout",
     "output_type": "stream",
     "text": [
      "Epoch: 01 | Epoch Time: 0m 5s\n",
      "\tTrain Loss: 0.031 | Train Acc: 52.06%\n",
      "\t Val. Loss: 0.033 |  Val. Acc: 53.95%\n"
     ]
    },
    {
     "name": "stderr",
     "output_type": "stream",
     "text": [
      "Training...: 100%|██████████| 69/69 [00:04<00:00, 16.95it/s]\n",
      "Training...:   3%|▎         | 2/69 [00:00<00:03, 17.71it/s]"
     ]
    },
    {
     "name": "stdout",
     "output_type": "stream",
     "text": [
      "Epoch: 02 | Epoch Time: 0m 5s\n",
      "\tTrain Loss: 0.023 | Train Acc: 56.89%\n",
      "\t Val. Loss: 0.021 |  Val. Acc: 56.56%\n"
     ]
    },
    {
     "name": "stderr",
     "output_type": "stream",
     "text": [
      "Training...: 100%|██████████| 69/69 [00:04<00:00, 17.01it/s]\n",
      "Training...:   3%|▎         | 2/69 [00:00<00:03, 16.78it/s]"
     ]
    },
    {
     "name": "stdout",
     "output_type": "stream",
     "text": [
      "Epoch: 03 | Epoch Time: 0m 5s\n",
      "\tTrain Loss: 0.023 | Train Acc: 57.91%\n",
      "\t Val. Loss: 0.014 |  Val. Acc: 64.36%\n"
     ]
    },
    {
     "name": "stderr",
     "output_type": "stream",
     "text": [
      "Training...: 100%|██████████| 69/69 [00:04<00:00, 17.05it/s]\n",
      "Training...:   3%|▎         | 2/69 [00:00<00:03, 16.84it/s]"
     ]
    },
    {
     "name": "stdout",
     "output_type": "stream",
     "text": [
      "Epoch: 04 | Epoch Time: 0m 5s\n",
      "\tTrain Loss: 0.020 | Train Acc: 60.19%\n",
      "\t Val. Loss: 0.013 |  Val. Acc: 63.37%\n"
     ]
    },
    {
     "name": "stderr",
     "output_type": "stream",
     "text": [
      "Training...: 100%|██████████| 69/69 [00:04<00:00, 17.14it/s]\n",
      "Training...:   3%|▎         | 1/35 [00:00<00:03,  8.64it/s]"
     ]
    },
    {
     "name": "stdout",
     "output_type": "stream",
     "text": [
      "Epoch: 05 | Epoch Time: 0m 5s\n",
      "\tTrain Loss: 0.019 | Train Acc: 60.41%\n",
      "\t Val. Loss: 0.016 |  Val. Acc: 63.48%\n"
     ]
    },
    {
     "name": "stderr",
     "output_type": "stream",
     "text": [
      "Training...: 100%|██████████| 35/35 [00:04<00:00,  8.55it/s]\n",
      "Training...:   3%|▎         | 1/35 [00:00<00:03,  9.04it/s]"
     ]
    },
    {
     "name": "stdout",
     "output_type": "stream",
     "text": [
      "Epoch: 01 | Epoch Time: 0m 5s\n",
      "\tTrain Loss: 0.018 | Train Acc: 50.97%\n",
      "\t Val. Loss: 0.012 |  Val. Acc: 51.83%\n"
     ]
    },
    {
     "name": "stderr",
     "output_type": "stream",
     "text": [
      "Training...: 100%|██████████| 35/35 [00:04<00:00,  8.67it/s]\n",
      "Training...:   3%|▎         | 1/35 [00:00<00:03,  8.74it/s]"
     ]
    },
    {
     "name": "stdout",
     "output_type": "stream",
     "text": [
      "Epoch: 02 | Epoch Time: 0m 5s\n",
      "\tTrain Loss: 0.015 | Train Acc: 53.53%\n",
      "\t Val. Loss: 0.031 |  Val. Acc: 51.27%\n"
     ]
    },
    {
     "name": "stderr",
     "output_type": "stream",
     "text": [
      "Training...: 100%|██████████| 35/35 [00:04<00:00,  8.68it/s]\n",
      "Training...:   3%|▎         | 1/35 [00:00<00:03,  9.16it/s]"
     ]
    },
    {
     "name": "stdout",
     "output_type": "stream",
     "text": [
      "Epoch: 03 | Epoch Time: 0m 5s\n",
      "\tTrain Loss: 0.013 | Train Acc: 55.25%\n",
      "\t Val. Loss: 0.022 |  Val. Acc: 53.40%\n"
     ]
    },
    {
     "name": "stderr",
     "output_type": "stream",
     "text": [
      "Training...: 100%|██████████| 35/35 [00:04<00:00,  8.62it/s]\n",
      "Training...:   3%|▎         | 1/35 [00:00<00:03,  8.79it/s]"
     ]
    },
    {
     "name": "stdout",
     "output_type": "stream",
     "text": [
      "Epoch: 04 | Epoch Time: 0m 5s\n",
      "\tTrain Loss: 0.013 | Train Acc: 56.79%\n",
      "\t Val. Loss: 0.012 |  Val. Acc: 55.11%\n"
     ]
    },
    {
     "name": "stderr",
     "output_type": "stream",
     "text": [
      "Training...: 100%|██████████| 35/35 [00:04<00:00,  8.68it/s]\n"
     ]
    },
    {
     "name": "stdout",
     "output_type": "stream",
     "text": [
      "Epoch: 05 | Epoch Time: 0m 5s\n",
      "\tTrain Loss: 0.012 | Train Acc: 58.20%\n",
      "\t Val. Loss: 0.008 |  Val. Acc: 62.51%\n"
     ]
    }
   ],
   "source": [
    "batch_sizes = [1, 2, 4, 8, 16, 32, 64, 128, 256, 512]\n",
    "train_times, valid_accus, models = [], [], []\n",
    "for batch_size in batch_sizes:\n",
    "    model, train_time, best_valid_accu = experiment(\n",
    "        train_data,\n",
    "        valid_data,\n",
    "        batch_size=batch_size,\n",
    "        num_epoch=5,\n",
    "        name=f\"batch-{batch_size}\",\n",
    "    )\n",
    "    train_times.append(train_time)\n",
    "    valid_accus.append(best_valid_accu)\n",
    "    models.append(model)"
   ]
  },
  {
   "cell_type": "code",
   "execution_count": 35,
   "metadata": {},
   "outputs": [],
   "source": [
    "from sklearn import preprocessing\n",
    "\n",
    "normalized_times = preprocessing.normalize([train_times])[0]\n",
    "normalized_accus = preprocessing.normalize([valid_accus])[0]"
   ]
  },
  {
   "cell_type": "code",
   "execution_count": 36,
   "metadata": {},
   "outputs": [],
   "source": [
    "time_accu_ratio = [\n",
    "    time / normalized_accus[i] for i, time in enumerate(normalized_times)\n",
    "]\n",
    "best_batch_idx = time_accu_ratio.index(min(time_accu_ratio))\n",
    "best_batch_size = batch_sizes[best_batch_idx]"
   ]
  },
  {
   "cell_type": "code",
   "execution_count": 37,
   "metadata": {},
   "outputs": [
    {
     "data": {
      "text/plain": [
       "([237.16697812080383,\n",
       "  127.91698050498962,\n",
       "  72.77229452133179,\n",
       "  47.09130525588989,\n",
       "  34.710697889328,\n",
       "  30.842952251434326,\n",
       "  29.660320281982422,\n",
       "  27.257216930389404,\n",
       "  26.264262914657593,\n",
       "  26.29830765724182],\n",
       " [0.7030666666666666,\n",
       "  0.6270666666666667,\n",
       "  0.6498666666666667,\n",
       "  0.6108,\n",
       "  0.6706666666666666,\n",
       "  0.6556000000635783,\n",
       "  0.6654666666666667,\n",
       "  0.6483999998410542,\n",
       "  0.6337333333969116,\n",
       "  0.6250666663805644],\n",
       " [2.3723672442917536,\n",
       "  1.4346259785024542,\n",
       "  0.7875280185186369,\n",
       "  0.5422079820896278,\n",
       "  0.3639827743073434,\n",
       "  0.33085766735938854,\n",
       "  0.3134539426703731,\n",
       "  0.29563967177161427,\n",
       "  0.2914626258054295,\n",
       "  0.29588685333441156])"
      ]
     },
     "execution_count": 37,
     "metadata": {},
     "output_type": "execute_result"
    }
   ],
   "source": [
    "train_times, valid_accus, time_accu_ratio"
   ]
  },
  {
   "cell_type": "code",
   "execution_count": 38,
   "metadata": {},
   "outputs": [],
   "source": [
    "import numpy as np"
   ]
  },
  {
   "cell_type": "code",
   "execution_count": 39,
   "metadata": {},
   "outputs": [
    {
     "name": "stderr",
     "output_type": "stream",
     "text": [
      "Training...: 100%|██████████| 69/69 [00:04<00:00, 16.26it/s]\n",
      "Training...:   3%|▎         | 2/69 [00:00<00:04, 16.51it/s]"
     ]
    },
    {
     "name": "stdout",
     "output_type": "stream",
     "text": [
      "Epoch: 01 | Epoch Time: 0m 5s\n",
      "\tTrain Loss: 0.022 | Train Acc: 47.26%\n",
      "\t Val. Loss: 0.022 |  Val. Acc: 49.13%\n"
     ]
    },
    {
     "name": "stderr",
     "output_type": "stream",
     "text": [
      "Training...: 100%|██████████| 69/69 [00:04<00:00, 17.06it/s]\n",
      "Training...:   3%|▎         | 2/69 [00:00<00:04, 15.97it/s]"
     ]
    },
    {
     "name": "stdout",
     "output_type": "stream",
     "text": [
      "Epoch: 02 | Epoch Time: 0m 5s\n",
      "\tTrain Loss: 0.022 | Train Acc: 47.26%\n",
      "\t Val. Loss: 0.023 |  Val. Acc: 49.11%\n"
     ]
    },
    {
     "name": "stderr",
     "output_type": "stream",
     "text": [
      "Training...: 100%|██████████| 69/69 [00:04<00:00, 16.57it/s]\n",
      "Training...:   3%|▎         | 2/69 [00:00<00:03, 16.83it/s]"
     ]
    },
    {
     "name": "stdout",
     "output_type": "stream",
     "text": [
      "Epoch: 03 | Epoch Time: 0m 5s\n",
      "\tTrain Loss: 0.022 | Train Acc: 47.26%\n",
      "\t Val. Loss: 0.023 |  Val. Acc: 49.09%\n"
     ]
    },
    {
     "name": "stderr",
     "output_type": "stream",
     "text": [
      "Training...: 100%|██████████| 69/69 [00:04<00:00, 16.76it/s]\n",
      "Training...:   3%|▎         | 2/69 [00:00<00:03, 17.55it/s]"
     ]
    },
    {
     "name": "stdout",
     "output_type": "stream",
     "text": [
      "Epoch: 04 | Epoch Time: 0m 5s\n",
      "\tTrain Loss: 0.022 | Train Acc: 47.24%\n",
      "\t Val. Loss: 0.023 |  Val. Acc: 49.09%\n"
     ]
    },
    {
     "name": "stderr",
     "output_type": "stream",
     "text": [
      "Training...: 100%|██████████| 69/69 [00:04<00:00, 16.86it/s]\n",
      "Training...:   3%|▎         | 2/69 [00:00<00:04, 15.19it/s]"
     ]
    },
    {
     "name": "stdout",
     "output_type": "stream",
     "text": [
      "Epoch: 05 | Epoch Time: 0m 5s\n",
      "\tTrain Loss: 0.022 | Train Acc: 47.24%\n",
      "\t Val. Loss: 0.022 |  Val. Acc: 49.09%\n"
     ]
    },
    {
     "name": "stderr",
     "output_type": "stream",
     "text": [
      "Training...: 100%|██████████| 69/69 [00:04<00:00, 16.60it/s]\n",
      "Training...:   3%|▎         | 2/69 [00:00<00:04, 13.77it/s]"
     ]
    },
    {
     "name": "stdout",
     "output_type": "stream",
     "text": [
      "Epoch: 01 | Epoch Time: 0m 5s\n",
      "\tTrain Loss: 0.024 | Train Acc: 50.53%\n",
      "\t Val. Loss: 0.024 |  Val. Acc: 50.47%\n"
     ]
    },
    {
     "name": "stderr",
     "output_type": "stream",
     "text": [
      "Training...: 100%|██████████| 69/69 [00:04<00:00, 15.68it/s]\n",
      "Training...:   3%|▎         | 2/69 [00:00<00:04, 14.12it/s]"
     ]
    },
    {
     "name": "stdout",
     "output_type": "stream",
     "text": [
      "Epoch: 02 | Epoch Time: 0m 5s\n",
      "\tTrain Loss: 0.024 | Train Acc: 50.46%\n",
      "\t Val. Loss: 0.024 |  Val. Acc: 50.37%\n"
     ]
    },
    {
     "name": "stderr",
     "output_type": "stream",
     "text": [
      "Training...: 100%|██████████| 69/69 [00:04<00:00, 16.57it/s]\n",
      "Training...:   3%|▎         | 2/69 [00:00<00:03, 16.77it/s]"
     ]
    },
    {
     "name": "stdout",
     "output_type": "stream",
     "text": [
      "Epoch: 03 | Epoch Time: 0m 5s\n",
      "\tTrain Loss: 0.024 | Train Acc: 50.52%\n",
      "\t Val. Loss: 0.024 |  Val. Acc: 50.39%\n"
     ]
    },
    {
     "name": "stderr",
     "output_type": "stream",
     "text": [
      "Training...: 100%|██████████| 69/69 [00:04<00:00, 16.48it/s]\n",
      "Training...:   3%|▎         | 2/69 [00:00<00:04, 15.94it/s]"
     ]
    },
    {
     "name": "stdout",
     "output_type": "stream",
     "text": [
      "Epoch: 04 | Epoch Time: 0m 5s\n",
      "\tTrain Loss: 0.023 | Train Acc: 50.59%\n",
      "\t Val. Loss: 0.024 |  Val. Acc: 50.53%\n"
     ]
    },
    {
     "name": "stderr",
     "output_type": "stream",
     "text": [
      "Training...: 100%|██████████| 69/69 [00:04<00:00, 16.30it/s]\n",
      "Training...:   3%|▎         | 2/69 [00:00<00:05, 12.64it/s]"
     ]
    },
    {
     "name": "stdout",
     "output_type": "stream",
     "text": [
      "Epoch: 05 | Epoch Time: 0m 5s\n",
      "\tTrain Loss: 0.023 | Train Acc: 50.65%\n",
      "\t Val. Loss: 0.023 |  Val. Acc: 50.49%\n"
     ]
    },
    {
     "name": "stderr",
     "output_type": "stream",
     "text": [
      "Training...: 100%|██████████| 69/69 [00:04<00:00, 16.29it/s]\n",
      "Training...:   3%|▎         | 2/69 [00:00<00:04, 15.73it/s]"
     ]
    },
    {
     "name": "stdout",
     "output_type": "stream",
     "text": [
      "Epoch: 01 | Epoch Time: 0m 5s\n",
      "\tTrain Loss: 0.062 | Train Acc: 50.08%\n",
      "\t Val. Loss: 0.061 |  Val. Acc: 49.47%\n"
     ]
    },
    {
     "name": "stderr",
     "output_type": "stream",
     "text": [
      "Training...: 100%|██████████| 69/69 [00:04<00:00, 16.46it/s]\n",
      "Training...:   3%|▎         | 2/69 [00:00<00:04, 13.87it/s]"
     ]
    },
    {
     "name": "stdout",
     "output_type": "stream",
     "text": [
      "Epoch: 02 | Epoch Time: 0m 5s\n",
      "\tTrain Loss: 0.057 | Train Acc: 50.00%\n",
      "\t Val. Loss: 0.055 |  Val. Acc: 49.48%\n"
     ]
    },
    {
     "name": "stderr",
     "output_type": "stream",
     "text": [
      "Training...: 100%|██████████| 69/69 [00:04<00:00, 16.48it/s]\n",
      "Training...:   3%|▎         | 2/69 [00:00<00:04, 16.29it/s]"
     ]
    },
    {
     "name": "stdout",
     "output_type": "stream",
     "text": [
      "Epoch: 03 | Epoch Time: 0m 5s\n",
      "\tTrain Loss: 0.052 | Train Acc: 49.91%\n",
      "\t Val. Loss: 0.050 |  Val. Acc: 49.49%\n"
     ]
    },
    {
     "name": "stderr",
     "output_type": "stream",
     "text": [
      "Training...: 100%|██████████| 69/69 [00:04<00:00, 16.71it/s]\n",
      "Training...:   3%|▎         | 2/69 [00:00<00:04, 16.37it/s]"
     ]
    },
    {
     "name": "stdout",
     "output_type": "stream",
     "text": [
      "Epoch: 04 | Epoch Time: 0m 5s\n",
      "\tTrain Loss: 0.047 | Train Acc: 49.86%\n",
      "\t Val. Loss: 0.045 |  Val. Acc: 49.39%\n"
     ]
    },
    {
     "name": "stderr",
     "output_type": "stream",
     "text": [
      "Training...: 100%|██████████| 69/69 [00:04<00:00, 16.73it/s]\n",
      "Training...:   3%|▎         | 2/69 [00:00<00:04, 13.85it/s]"
     ]
    },
    {
     "name": "stdout",
     "output_type": "stream",
     "text": [
      "Epoch: 05 | Epoch Time: 0m 5s\n",
      "\tTrain Loss: 0.042 | Train Acc: 49.79%\n",
      "\t Val. Loss: 0.041 |  Val. Acc: 49.16%\n"
     ]
    },
    {
     "name": "stderr",
     "output_type": "stream",
     "text": [
      "Training...: 100%|██████████| 69/69 [00:04<00:00, 16.91it/s]\n",
      "Training...:   3%|▎         | 2/69 [00:00<00:04, 16.17it/s]"
     ]
    },
    {
     "name": "stdout",
     "output_type": "stream",
     "text": [
      "Epoch: 01 | Epoch Time: 0m 5s\n",
      "\tTrain Loss: 0.038 | Train Acc: 50.22%\n",
      "\t Val. Loss: 0.023 |  Val. Acc: 49.99%\n"
     ]
    },
    {
     "name": "stderr",
     "output_type": "stream",
     "text": [
      "Training...: 100%|██████████| 69/69 [00:04<00:00, 16.51it/s]\n",
      "Training...:   3%|▎         | 2/69 [00:00<00:04, 16.27it/s]"
     ]
    },
    {
     "name": "stdout",
     "output_type": "stream",
     "text": [
      "Epoch: 02 | Epoch Time: 0m 5s\n",
      "\tTrain Loss: 0.018 | Train Acc: 50.58%\n",
      "\t Val. Loss: 0.018 |  Val. Acc: 50.32%\n"
     ]
    },
    {
     "name": "stderr",
     "output_type": "stream",
     "text": [
      "Training...: 100%|██████████| 69/69 [00:04<00:00, 16.56it/s]\n",
      "Training...:   3%|▎         | 2/69 [00:00<00:04, 14.16it/s]"
     ]
    },
    {
     "name": "stdout",
     "output_type": "stream",
     "text": [
      "Epoch: 03 | Epoch Time: 0m 5s\n",
      "\tTrain Loss: 0.017 | Train Acc: 50.59%\n",
      "\t Val. Loss: 0.017 |  Val. Acc: 50.49%\n"
     ]
    },
    {
     "name": "stderr",
     "output_type": "stream",
     "text": [
      "Training...: 100%|██████████| 69/69 [00:04<00:00, 16.58it/s]\n",
      "Training...:   3%|▎         | 2/69 [00:00<00:04, 15.04it/s]"
     ]
    },
    {
     "name": "stdout",
     "output_type": "stream",
     "text": [
      "Epoch: 04 | Epoch Time: 0m 5s\n",
      "\tTrain Loss: 0.016 | Train Acc: 50.61%\n",
      "\t Val. Loss: 0.017 |  Val. Acc: 50.57%\n"
     ]
    },
    {
     "name": "stderr",
     "output_type": "stream",
     "text": [
      "Training...: 100%|██████████| 69/69 [00:04<00:00, 16.74it/s]\n",
      "Training...:   3%|▎         | 2/69 [00:00<00:04, 13.69it/s]"
     ]
    },
    {
     "name": "stdout",
     "output_type": "stream",
     "text": [
      "Epoch: 05 | Epoch Time: 0m 5s\n",
      "\tTrain Loss: 0.016 | Train Acc: 50.82%\n",
      "\t Val. Loss: 0.017 |  Val. Acc: 50.60%\n"
     ]
    },
    {
     "name": "stderr",
     "output_type": "stream",
     "text": [
      "Training...: 100%|██████████| 69/69 [00:04<00:00, 16.57it/s]\n",
      "Training...:   3%|▎         | 2/69 [00:00<00:04, 16.09it/s]"
     ]
    },
    {
     "name": "stdout",
     "output_type": "stream",
     "text": [
      "Epoch: 01 | Epoch Time: 0m 5s\n",
      "\tTrain Loss: 0.016 | Train Acc: 55.23%\n",
      "\t Val. Loss: 0.015 |  Val. Acc: 55.13%\n"
     ]
    },
    {
     "name": "stderr",
     "output_type": "stream",
     "text": [
      "Training...: 100%|██████████| 69/69 [00:04<00:00, 16.54it/s]\n",
      "Training...:   3%|▎         | 2/69 [00:00<00:03, 16.82it/s]"
     ]
    },
    {
     "name": "stdout",
     "output_type": "stream",
     "text": [
      "Epoch: 02 | Epoch Time: 0m 5s\n",
      "\tTrain Loss: 0.013 | Train Acc: 56.57%\n",
      "\t Val. Loss: 0.012 |  Val. Acc: 56.01%\n"
     ]
    },
    {
     "name": "stderr",
     "output_type": "stream",
     "text": [
      "Training...: 100%|██████████| 69/69 [00:04<00:00, 16.83it/s]\n",
      "Training...:   3%|▎         | 2/69 [00:00<00:04, 14.57it/s]"
     ]
    },
    {
     "name": "stdout",
     "output_type": "stream",
     "text": [
      "Epoch: 03 | Epoch Time: 0m 5s\n",
      "\tTrain Loss: 0.011 | Train Acc: 57.69%\n",
      "\t Val. Loss: 0.010 |  Val. Acc: 56.89%\n"
     ]
    },
    {
     "name": "stderr",
     "output_type": "stream",
     "text": [
      "Training...: 100%|██████████| 69/69 [00:04<00:00, 16.79it/s]\n",
      "Training...:   3%|▎         | 2/69 [00:00<00:04, 16.56it/s]"
     ]
    },
    {
     "name": "stdout",
     "output_type": "stream",
     "text": [
      "Epoch: 04 | Epoch Time: 0m 5s\n",
      "\tTrain Loss: 0.009 | Train Acc: 58.69%\n",
      "\t Val. Loss: 0.009 |  Val. Acc: 57.69%\n"
     ]
    },
    {
     "name": "stderr",
     "output_type": "stream",
     "text": [
      "Training...: 100%|██████████| 69/69 [00:04<00:00, 16.61it/s]\n",
      "Training...:   3%|▎         | 2/69 [00:00<00:03, 17.52it/s]"
     ]
    },
    {
     "name": "stdout",
     "output_type": "stream",
     "text": [
      "Epoch: 05 | Epoch Time: 0m 5s\n",
      "\tTrain Loss: 0.008 | Train Acc: 59.41%\n",
      "\t Val. Loss: 0.008 |  Val. Acc: 58.56%\n"
     ]
    },
    {
     "name": "stderr",
     "output_type": "stream",
     "text": [
      "Training...: 100%|██████████| 69/69 [00:04<00:00, 15.65it/s]\n",
      "Training...:   3%|▎         | 2/69 [00:00<00:03, 17.18it/s]"
     ]
    },
    {
     "name": "stdout",
     "output_type": "stream",
     "text": [
      "Epoch: 01 | Epoch Time: 0m 5s\n",
      "\tTrain Loss: 0.027 | Train Acc: 52.78%\n",
      "\t Val. Loss: 0.023 |  Val. Acc: 55.05%\n"
     ]
    },
    {
     "name": "stderr",
     "output_type": "stream",
     "text": [
      "Training...: 100%|██████████| 69/69 [00:04<00:00, 16.90it/s]\n",
      "Training...:   3%|▎         | 2/69 [00:00<00:03, 17.32it/s]"
     ]
    },
    {
     "name": "stdout",
     "output_type": "stream",
     "text": [
      "Epoch: 02 | Epoch Time: 0m 5s\n",
      "\tTrain Loss: 0.022 | Train Acc: 56.37%\n",
      "\t Val. Loss: 0.028 |  Val. Acc: 53.36%\n"
     ]
    },
    {
     "name": "stderr",
     "output_type": "stream",
     "text": [
      "Training...: 100%|██████████| 69/69 [00:04<00:00, 16.86it/s]\n",
      "Training...:   3%|▎         | 2/69 [00:00<00:03, 16.87it/s]"
     ]
    },
    {
     "name": "stdout",
     "output_type": "stream",
     "text": [
      "Epoch: 03 | Epoch Time: 0m 5s\n",
      "\tTrain Loss: 0.021 | Train Acc: 57.23%\n",
      "\t Val. Loss: 0.017 |  Val. Acc: 60.44%\n"
     ]
    },
    {
     "name": "stderr",
     "output_type": "stream",
     "text": [
      "Training...: 100%|██████████| 69/69 [00:04<00:00, 16.82it/s]\n",
      "Training...:   3%|▎         | 2/69 [00:00<00:03, 17.91it/s]"
     ]
    },
    {
     "name": "stdout",
     "output_type": "stream",
     "text": [
      "Epoch: 04 | Epoch Time: 0m 5s\n",
      "\tTrain Loss: 0.020 | Train Acc: 58.02%\n",
      "\t Val. Loss: 0.015 |  Val. Acc: 61.55%\n"
     ]
    },
    {
     "name": "stderr",
     "output_type": "stream",
     "text": [
      "Training...: 100%|██████████| 69/69 [00:04<00:00, 16.94it/s]\n",
      "Training...:   3%|▎         | 2/69 [00:00<00:04, 14.51it/s]"
     ]
    },
    {
     "name": "stdout",
     "output_type": "stream",
     "text": [
      "Epoch: 05 | Epoch Time: 0m 5s\n",
      "\tTrain Loss: 0.019 | Train Acc: 59.43%\n",
      "\t Val. Loss: 0.009 |  Val. Acc: 68.21%\n"
     ]
    },
    {
     "name": "stderr",
     "output_type": "stream",
     "text": [
      "Training...: 100%|██████████| 69/69 [00:04<00:00, 16.82it/s]\n",
      "Training...:   3%|▎         | 2/69 [00:00<00:03, 18.03it/s]"
     ]
    },
    {
     "name": "stdout",
     "output_type": "stream",
     "text": [
      "Epoch: 01 | Epoch Time: 0m 5s\n",
      "\tTrain Loss: 0.141 | Train Acc: 54.37%\n",
      "\t Val. Loss: 0.053 |  Val. Acc: 62.16%\n"
     ]
    },
    {
     "name": "stderr",
     "output_type": "stream",
     "text": [
      "Training...: 100%|██████████| 69/69 [00:04<00:00, 16.94it/s]\n",
      "Training...:   3%|▎         | 2/69 [00:00<00:03, 17.50it/s]"
     ]
    },
    {
     "name": "stdout",
     "output_type": "stream",
     "text": [
      "Epoch: 02 | Epoch Time: 0m 5s\n",
      "\tTrain Loss: 0.044 | Train Acc: 61.06%\n",
      "\t Val. Loss: 0.029 |  Val. Acc: 60.91%\n"
     ]
    },
    {
     "name": "stderr",
     "output_type": "stream",
     "text": [
      "Training...: 100%|██████████| 69/69 [00:04<00:00, 16.85it/s]\n",
      "Training...:   3%|▎         | 2/69 [00:00<00:03, 17.07it/s]"
     ]
    },
    {
     "name": "stdout",
     "output_type": "stream",
     "text": [
      "Epoch: 03 | Epoch Time: 0m 5s\n",
      "\tTrain Loss: 0.024 | Train Acc: 62.57%\n",
      "\t Val. Loss: 0.022 |  Val. Acc: 59.09%\n"
     ]
    },
    {
     "name": "stderr",
     "output_type": "stream",
     "text": [
      "Training...: 100%|██████████| 69/69 [00:04<00:00, 16.93it/s]\n",
      "Training...:   3%|▎         | 2/69 [00:00<00:04, 16.09it/s]"
     ]
    },
    {
     "name": "stdout",
     "output_type": "stream",
     "text": [
      "Epoch: 04 | Epoch Time: 0m 5s\n",
      "\tTrain Loss: 0.015 | Train Acc: 62.09%\n",
      "\t Val. Loss: 0.009 |  Val. Acc: 63.91%\n"
     ]
    },
    {
     "name": "stderr",
     "output_type": "stream",
     "text": [
      "Training...: 100%|██████████| 69/69 [00:04<00:00, 17.12it/s]\n",
      "Training...:   3%|▎         | 2/69 [00:00<00:03, 17.91it/s]"
     ]
    },
    {
     "name": "stdout",
     "output_type": "stream",
     "text": [
      "Epoch: 05 | Epoch Time: 0m 5s\n",
      "\tTrain Loss: 0.010 | Train Acc: 61.98%\n",
      "\t Val. Loss: 0.008 |  Val. Acc: 61.95%\n"
     ]
    },
    {
     "name": "stderr",
     "output_type": "stream",
     "text": [
      "Training...: 100%|██████████| 69/69 [00:04<00:00, 17.08it/s]\n",
      "Training...:   3%|▎         | 2/69 [00:00<00:04, 15.51it/s]"
     ]
    },
    {
     "name": "stdout",
     "output_type": "stream",
     "text": [
      "Epoch: 01 | Epoch Time: 0m 5s\n",
      "\tTrain Loss: 0.323 | Train Acc: 58.29%\n",
      "\t Val. Loss: 0.072 |  Val. Acc: 57.61%\n"
     ]
    },
    {
     "name": "stderr",
     "output_type": "stream",
     "text": [
      "Training...: 100%|██████████| 69/69 [00:04<00:00, 16.88it/s]\n",
      "Training...:   3%|▎         | 2/69 [00:00<00:03, 16.83it/s]"
     ]
    },
    {
     "name": "stdout",
     "output_type": "stream",
     "text": [
      "Epoch: 02 | Epoch Time: 0m 5s\n",
      "\tTrain Loss: 0.038 | Train Acc: 62.54%\n",
      "\t Val. Loss: 0.046 |  Val. Acc: 61.12%\n"
     ]
    },
    {
     "name": "stderr",
     "output_type": "stream",
     "text": [
      "Training...: 100%|██████████| 69/69 [00:04<00:00, 16.92it/s]\n",
      "Training...:   3%|▎         | 2/69 [00:00<00:04, 16.55it/s]"
     ]
    },
    {
     "name": "stdout",
     "output_type": "stream",
     "text": [
      "Epoch: 03 | Epoch Time: 0m 5s\n",
      "\tTrain Loss: 0.035 | Train Acc: 61.99%\n",
      "\t Val. Loss: 0.057 |  Val. Acc: 58.33%\n"
     ]
    },
    {
     "name": "stderr",
     "output_type": "stream",
     "text": [
      "Training...: 100%|██████████| 69/69 [00:04<00:00, 17.01it/s]\n",
      "Training...:   3%|▎         | 2/69 [00:00<00:03, 17.37it/s]"
     ]
    },
    {
     "name": "stdout",
     "output_type": "stream",
     "text": [
      "Epoch: 04 | Epoch Time: 0m 5s\n",
      "\tTrain Loss: 0.028 | Train Acc: 64.29%\n",
      "\t Val. Loss: 0.030 |  Val. Acc: 63.93%\n"
     ]
    },
    {
     "name": "stderr",
     "output_type": "stream",
     "text": [
      "Training...: 100%|██████████| 69/69 [00:04<00:00, 16.83it/s]\n",
      "Training...:   3%|▎         | 2/69 [00:00<00:03, 17.33it/s]"
     ]
    },
    {
     "name": "stdout",
     "output_type": "stream",
     "text": [
      "Epoch: 05 | Epoch Time: 0m 5s\n",
      "\tTrain Loss: 0.023 | Train Acc: 65.57%\n",
      "\t Val. Loss: 0.032 |  Val. Acc: 62.40%\n"
     ]
    },
    {
     "name": "stderr",
     "output_type": "stream",
     "text": [
      "Training...: 100%|██████████| 69/69 [00:04<00:00, 16.80it/s]\n",
      "Training...:   3%|▎         | 2/69 [00:00<00:03, 17.62it/s]"
     ]
    },
    {
     "name": "stdout",
     "output_type": "stream",
     "text": [
      "Epoch: 01 | Epoch Time: 0m 5s\n",
      "\tTrain Loss: nan | Train Acc: 13.37%\n",
      "\t Val. Loss: nan |  Val. Acc: 0.00%\n"
     ]
    },
    {
     "name": "stderr",
     "output_type": "stream",
     "text": [
      "Training...: 100%|██████████| 69/69 [00:04<00:00, 16.95it/s]\n",
      "Training...:   3%|▎         | 2/69 [00:00<00:04, 16.69it/s]"
     ]
    },
    {
     "name": "stdout",
     "output_type": "stream",
     "text": [
      "Epoch: 02 | Epoch Time: 0m 5s\n",
      "\tTrain Loss: nan | Train Acc: 0.00%\n",
      "\t Val. Loss: nan |  Val. Acc: 0.00%\n"
     ]
    },
    {
     "name": "stderr",
     "output_type": "stream",
     "text": [
      "Training...: 100%|██████████| 69/69 [00:04<00:00, 16.91it/s]\n",
      "Training...:   3%|▎         | 2/69 [00:00<00:05, 13.04it/s]"
     ]
    },
    {
     "name": "stdout",
     "output_type": "stream",
     "text": [
      "Epoch: 03 | Epoch Time: 0m 5s\n",
      "\tTrain Loss: nan | Train Acc: 0.00%\n",
      "\t Val. Loss: nan |  Val. Acc: 0.00%\n"
     ]
    },
    {
     "name": "stderr",
     "output_type": "stream",
     "text": [
      "Training...: 100%|██████████| 69/69 [00:04<00:00, 16.96it/s]\n",
      "Training...:   3%|▎         | 2/69 [00:00<00:04, 16.66it/s]"
     ]
    },
    {
     "name": "stdout",
     "output_type": "stream",
     "text": [
      "Epoch: 04 | Epoch Time: 0m 5s\n",
      "\tTrain Loss: nan | Train Acc: 0.00%\n",
      "\t Val. Loss: nan |  Val. Acc: 0.00%\n"
     ]
    },
    {
     "name": "stderr",
     "output_type": "stream",
     "text": [
      "Training...: 100%|██████████| 69/69 [00:04<00:00, 17.04it/s]\n",
      "Training...:   3%|▎         | 2/69 [00:00<00:03, 17.85it/s]"
     ]
    },
    {
     "name": "stdout",
     "output_type": "stream",
     "text": [
      "Epoch: 05 | Epoch Time: 0m 5s\n",
      "\tTrain Loss: nan | Train Acc: 0.00%\n",
      "\t Val. Loss: nan |  Val. Acc: 0.00%\n"
     ]
    },
    {
     "name": "stderr",
     "output_type": "stream",
     "text": [
      "Training...: 100%|██████████| 69/69 [00:04<00:00, 16.86it/s]\n",
      "Training...:   3%|▎         | 2/69 [00:00<00:03, 16.84it/s]"
     ]
    },
    {
     "name": "stdout",
     "output_type": "stream",
     "text": [
      "Epoch: 01 | Epoch Time: 0m 5s\n",
      "\tTrain Loss: nan | Train Acc: 7.19%\n",
      "\t Val. Loss: nan |  Val. Acc: 0.00%\n"
     ]
    },
    {
     "name": "stderr",
     "output_type": "stream",
     "text": [
      "Training...: 100%|██████████| 69/69 [00:04<00:00, 16.93it/s]\n",
      "Training...:   3%|▎         | 2/69 [00:00<00:03, 17.51it/s]"
     ]
    },
    {
     "name": "stdout",
     "output_type": "stream",
     "text": [
      "Epoch: 02 | Epoch Time: 0m 5s\n",
      "\tTrain Loss: nan | Train Acc: 0.00%\n",
      "\t Val. Loss: nan |  Val. Acc: 0.00%\n"
     ]
    },
    {
     "name": "stderr",
     "output_type": "stream",
     "text": [
      "Training...: 100%|██████████| 69/69 [00:04<00:00, 16.84it/s]\n",
      "Training...:   3%|▎         | 2/69 [00:00<00:03, 16.98it/s]"
     ]
    },
    {
     "name": "stdout",
     "output_type": "stream",
     "text": [
      "Epoch: 03 | Epoch Time: 0m 5s\n",
      "\tTrain Loss: nan | Train Acc: 0.00%\n",
      "\t Val. Loss: nan |  Val. Acc: 0.00%\n"
     ]
    },
    {
     "name": "stderr",
     "output_type": "stream",
     "text": [
      "Training...: 100%|██████████| 69/69 [00:04<00:00, 16.91it/s]\n",
      "Training...:   3%|▎         | 2/69 [00:00<00:04, 14.33it/s]"
     ]
    },
    {
     "name": "stdout",
     "output_type": "stream",
     "text": [
      "Epoch: 04 | Epoch Time: 0m 5s\n",
      "\tTrain Loss: nan | Train Acc: 0.00%\n",
      "\t Val. Loss: nan |  Val. Acc: 0.00%\n"
     ]
    },
    {
     "name": "stderr",
     "output_type": "stream",
     "text": [
      "Training...: 100%|██████████| 69/69 [00:04<00:00, 16.83it/s]\n",
      "Training...:   3%|▎         | 2/69 [00:00<00:03, 18.62it/s]"
     ]
    },
    {
     "name": "stdout",
     "output_type": "stream",
     "text": [
      "Epoch: 05 | Epoch Time: 0m 5s\n",
      "\tTrain Loss: nan | Train Acc: 0.00%\n",
      "\t Val. Loss: nan |  Val. Acc: 0.00%\n"
     ]
    },
    {
     "name": "stderr",
     "output_type": "stream",
     "text": [
      "Training...: 100%|██████████| 69/69 [00:04<00:00, 16.96it/s]\n",
      "Training...:   3%|▎         | 2/69 [00:00<00:03, 16.86it/s]"
     ]
    },
    {
     "name": "stdout",
     "output_type": "stream",
     "text": [
      "Epoch: 01 | Epoch Time: 0m 5s\n",
      "\tTrain Loss: nan | Train Acc: 4.96%\n",
      "\t Val. Loss: nan |  Val. Acc: 0.00%\n"
     ]
    },
    {
     "name": "stderr",
     "output_type": "stream",
     "text": [
      "Training...: 100%|██████████| 69/69 [00:04<00:00, 16.93it/s]\n",
      "Training...:   3%|▎         | 2/69 [00:00<00:04, 15.17it/s]"
     ]
    },
    {
     "name": "stdout",
     "output_type": "stream",
     "text": [
      "Epoch: 02 | Epoch Time: 0m 5s\n",
      "\tTrain Loss: nan | Train Acc: 0.00%\n",
      "\t Val. Loss: nan |  Val. Acc: 0.00%\n"
     ]
    },
    {
     "name": "stderr",
     "output_type": "stream",
     "text": [
      "Training...: 100%|██████████| 69/69 [00:04<00:00, 17.00it/s]\n",
      "Training...:   3%|▎         | 2/69 [00:00<00:04, 16.73it/s]"
     ]
    },
    {
     "name": "stdout",
     "output_type": "stream",
     "text": [
      "Epoch: 03 | Epoch Time: 0m 5s\n",
      "\tTrain Loss: nan | Train Acc: 0.00%\n",
      "\t Val. Loss: nan |  Val. Acc: 0.00%\n"
     ]
    },
    {
     "name": "stderr",
     "output_type": "stream",
     "text": [
      "Training...: 100%|██████████| 69/69 [00:04<00:00, 17.00it/s]\n",
      "Training...:   3%|▎         | 2/69 [00:00<00:04, 15.17it/s]"
     ]
    },
    {
     "name": "stdout",
     "output_type": "stream",
     "text": [
      "Epoch: 04 | Epoch Time: 0m 5s\n",
      "\tTrain Loss: nan | Train Acc: 0.00%\n",
      "\t Val. Loss: nan |  Val. Acc: 0.00%\n"
     ]
    },
    {
     "name": "stderr",
     "output_type": "stream",
     "text": [
      "Training...: 100%|██████████| 69/69 [00:04<00:00, 17.13it/s]\n"
     ]
    },
    {
     "name": "stdout",
     "output_type": "stream",
     "text": [
      "Epoch: 05 | Epoch Time: 0m 5s\n",
      "\tTrain Loss: nan | Train Acc: 0.00%\n",
      "\t Val. Loss: nan |  Val. Acc: 0.00%\n"
     ]
    }
   ],
   "source": [
    "learning_rates = np.logspace(-8, 2, num=11)\n",
    "lr_tuning_valid_accus, lr_tuning_models = [], []\n",
    "for lr in learning_rates:\n",
    "    model, _, best_valid_accu = experiment(\n",
    "        train_data,\n",
    "        valid_data,\n",
    "        learning_rate=lr,\n",
    "        batch_size=best_batch_size,\n",
    "        num_epoch=5,\n",
    "        name=f\"lr-{lr}\",\n",
    "    )\n",
    "    lr_tuning_valid_accus.append(best_valid_accu)\n",
    "    lr_tuning_models.append(model)"
   ]
  },
  {
   "cell_type": "code",
   "execution_count": 40,
   "metadata": {},
   "outputs": [
    {
     "data": {
      "text/plain": [
       "[0.4909333330790202,\n",
       " 0.5049333333333333,\n",
       " 0.491600000111262,\n",
       " 0.5060000000953674,\n",
       " 0.5856000000635783,\n",
       " 0.6821333333651225,\n",
       " 0.6194666665712992,\n",
       " 0.6393333330790202,\n",
       " 0,\n",
       " 0,\n",
       " 0]"
      ]
     },
     "execution_count": 40,
     "metadata": {},
     "output_type": "execute_result"
    }
   ],
   "source": [
    "lr_tuning_valid_accus"
   ]
  },
  {
   "cell_type": "code",
   "execution_count": 41,
   "metadata": {},
   "outputs": [],
   "source": [
    "best_lr_idx = lr_tuning_valid_accus.index(max(lr_tuning_valid_accus))\n",
    "best_lr = learning_rates[best_lr_idx]"
   ]
  },
  {
   "cell_type": "code",
   "execution_count": null,
   "metadata": {},
   "outputs": [],
   "source": []
  },
  {
   "cell_type": "code",
   "execution_count": 42,
   "metadata": {},
   "outputs": [
    {
     "name": "stderr",
     "output_type": "stream",
     "text": [
      "<ipython-input-42-2cede8043e33>:7: MatplotlibDeprecationWarning: The 'basex' parameter of __init__() has been renamed 'base' since Matplotlib 3.3; support for the old name will be dropped two minor releases later.\n",
      "  time_vs_batch_ax.set_xscale(\"log\", basex=2)\n",
      "<ipython-input-42-2cede8043e33>:14: MatplotlibDeprecationWarning: The 'basex' parameter of __init__() has been renamed 'base' since Matplotlib 3.3; support for the old name will be dropped two minor releases later.\n",
      "  accu_vs_batch_ax.set_xscale(\"log\", basex=2)\n"
     ]
    },
    {
     "data": {
      "image/png": "[encoded data removed]",
      "text/plain": [
       "<Figure size 1080x360 with 2 Axes>"
      ]
     },
     "metadata": {
      "needs_background": "light"
     },
     "output_type": "display_data"
    }
   ],
   "source": [
    "from matplotlib import pyplot as plt\n",
    "\n",
    "batch_fig, axes = plt.subplots(1, 2, figsize=(15, 5))\n",
    "time_vs_batch_ax, accu_vs_batch_ax = axes[0], axes[1]\n",
    "\n",
    "# Plot the comparison between training time and batch size\n",
    "time_vs_batch_ax.set_xscale(\"log\", basex=2)\n",
    "time_vs_batch_ax.set_xlabel(\"Batch Size\")\n",
    "time_vs_batch_ax.set_ylabel(\"Training Time\")\n",
    "time_vs_batch_ax.set_title(\"Training Time v.s. Batch Size\")\n",
    "time_vs_batch_ax.plot(batch_sizes, train_times)\n",
    "\n",
    "# Plot the comparison between Dev set accuracy and batch size\n",
    "accu_vs_batch_ax.set_xscale(\"log\", basex=2)\n",
    "accu_vs_batch_ax.set_xlabel(\"Batch Size\")\n",
    "accu_vs_batch_ax.set_ylabel(\"Accuracy on Dev\")\n",
    "accu_vs_batch_ax.set_title(\"Accuracy v.s. Batch Size\")\n",
    "accu_vs_batch_ax.plot(batch_sizes, valid_accus)\n",
    "\n",
    "batch_fig.savefig(\"batch_fig.jpg\")"
   ]
  },
  {
   "cell_type": "code",
   "execution_count": 43,
   "metadata": {},
   "outputs": [
    {
     "data": {
      "image/png": "[encoded data removed]",
      "text/plain": [
       "<Figure size 432x288 with 1 Axes>"
      ]
     },
     "metadata": {
      "needs_background": "light"
     },
     "output_type": "display_data"
    }
   ],
   "source": [
    "# Plot the comparison between Dev set accuracy and learning rate\n",
    "lr_fig, accu_vs_lr_ax = plt.subplots()\n",
    "accu_vs_lr_ax.set_xscale(\"log\")\n",
    "accu_vs_lr_ax.set_xlabel(\"Learning Rate\")\n",
    "accu_vs_lr_ax.set_ylabel(\"Accuracy on Dev\")\n",
    "accu_vs_lr_ax.set_title(\"Accuracy v.s. Learning Rate\")\n",
    "accu_vs_lr_ax.plot(learning_rates, lr_tuning_valid_accus)\n",
    "\n",
    "lr_fig.savefig(\"lr_fig.jpg\")"
   ]
  },
  {
   "cell_type": "code",
   "execution_count": 45,
   "metadata": {},
   "outputs": [
    {
     "name": "stderr",
     "output_type": "stream",
     "text": [
      "Training...: 100%|██████████| 98/98 [00:07<00:00, 13.83it/s]\n",
      "Training...:   2%|▏         | 2/98 [00:00<00:07, 13.06it/s]"
     ]
    },
    {
     "name": "stdout",
     "output_type": "stream",
     "text": [
      "Epoch: 01 | Epoch Time: 0m 11s\n",
      "\tTrain Loss: 0.025 | Train Acc: 53.58%\n",
      "\t Val. Loss: 0.024 |  Val. Acc: 55.03%\n"
     ]
    },
    {
     "name": "stderr",
     "output_type": "stream",
     "text": [
      "Training...: 100%|██████████| 98/98 [00:07<00:00, 13.02it/s]\n",
      "Training...:   2%|▏         | 2/98 [00:00<00:07, 13.27it/s]"
     ]
    },
    {
     "name": "stdout",
     "output_type": "stream",
     "text": [
      "Epoch: 02 | Epoch Time: 0m 11s\n",
      "\tTrain Loss: 0.020 | Train Acc: 58.03%\n",
      "\t Val. Loss: 0.016 |  Val. Acc: 61.41%\n"
     ]
    },
    {
     "name": "stderr",
     "output_type": "stream",
     "text": [
      "Training...: 100%|██████████| 98/98 [00:07<00:00, 13.30it/s]\n",
      "Training...:   2%|▏         | 2/98 [00:00<00:08, 11.61it/s]"
     ]
    },
    {
     "name": "stdout",
     "output_type": "stream",
     "text": [
      "Epoch: 03 | Epoch Time: 0m 11s\n",
      "\tTrain Loss: 0.018 | Train Acc: 59.43%\n",
      "\t Val. Loss: 0.017 |  Val. Acc: 60.65%\n"
     ]
    },
    {
     "name": "stderr",
     "output_type": "stream",
     "text": [
      "Training...: 100%|██████████| 98/98 [00:07<00:00, 13.43it/s]\n",
      "Training...:   2%|▏         | 2/98 [00:00<00:06, 13.85it/s]"
     ]
    },
    {
     "name": "stdout",
     "output_type": "stream",
     "text": [
      "Epoch: 04 | Epoch Time: 0m 11s\n",
      "\tTrain Loss: 0.018 | Train Acc: 59.72%\n",
      "\t Val. Loss: 0.013 |  Val. Acc: 64.80%\n"
     ]
    },
    {
     "name": "stderr",
     "output_type": "stream",
     "text": [
      "Training...: 100%|██████████| 98/98 [00:07<00:00, 13.60it/s]\n"
     ]
    },
    {
     "name": "stdout",
     "output_type": "stream",
     "text": [
      "Epoch: 05 | Epoch Time: 0m 11s\n",
      "\tTrain Loss: 0.017 | Train Acc: 61.11%\n",
      "\t Val. Loss: 0.015 |  Val. Acc: 62.70%\n"
     ]
    }
   ],
   "source": [
    "model, _, best_valid_accu = experiment(\n",
    "    all_train_data,\n",
    "    all_train_data,\n",
    "    learning_rate=best_lr,\n",
    "    batch_size=best_batch_size,\n",
    "    num_epoch=5,\n",
    "    name=f\"best\",\n",
    ")"
   ]
  },
  {
   "cell_type": "code",
   "execution_count": 91,
   "metadata": {},
   "outputs": [
    {
     "name": "stdout",
     "output_type": "stream",
     "text": [
      "Test Loss: 0.798 | Test Acc: 64.39%\n"
     ]
    }
   ],
   "source": [
    "# load the best model and evaluate the test set\n",
    "model.load_state_dict(torch.load(\"model-best.pt\"))\n",
    "\n",
    "test_loader = DataLoader(\n",
    "    dataset=test_data, batch_size=4, collate_fn=collate_batch, shuffle=True\n",
    ")\n",
    "test_loss, test_acc = evaluate(model, criterion, dataloader=test_loader)\n",
    "print(f\"Test Loss: {test_loss:.3f} | Test Acc: {test_acc*100:.2f}%\")"
   ]
  },
  {
   "cell_type": "code",
   "execution_count": 134,
   "metadata": {},
   "outputs": [],
   "source": [
    "# for mapping indexes to seq/labels\n",
    "def idx2word_seq(raw_indexes, dataset):\n",
    "    batch_seq = []\n",
    "    for idx in raw_indexes:\n",
    "        batch_seq.append(\" \".join(dataset.X[idx]))\n",
    "    return batch_seq\n",
    "\n",
    "\n",
    "def idx2labels(indexes):\n",
    "    batch_seq = []\n",
    "    for idx in indexes:\n",
    "        batch_seq.append(output_vocab.lookup_word(idx))\n",
    "    return batch_seq"
   ]
  },
  {
   "cell_type": "code",
   "execution_count": 159,
   "metadata": {},
   "outputs": [],
   "source": [
    "# generate output for val set and test set with the best model\n",
    "\n",
    "valid_text, valid_label, valid_correct = [], [], []\n",
    "test_text, test_label, test_correct = [], [], []\n",
    "for X, y,idx in valid_loader:\n",
    "    predictions = model(X)\n",
    "    rounded_preds = torch.round(torch.sigmoid(predictions.squeeze(1)))\n",
    "    correct = rounded_preds == y.T\n",
    "    valid_text += idx2word_seq(idx, test_data)\n",
    "    valid_label += idx2labels(rounded_preds.int().squeeze().cpu().detach().numpy())\n",
    "    valid_correct += [c.item() for c in correct]\n",
    "    \n",
    "for X, y, idx in test_loader:\n",
    "    predictions = model(X)\n",
    "    rounded_preds = torch.round(torch.sigmoid(predictions.squeeze(1)))\n",
    "    correct = rounded_preds == y.T\n",
    "    test_text += idx2word_seq(idx, test_data)\n",
    "    test_label += idx2labels(rounded_preds.int().squeeze().cpu().detach().numpy())\n",
    "    test_correct += [c.item() for c in correct]"
   ]
  },
  {
   "cell_type": "code",
   "execution_count": 163,
   "metadata": {},
   "outputs": [],
   "source": [
    "import pandas as pd\n",
    "\n",
    "# output the prediction results as csv files\n",
    "\n",
    "lr_dev_pred_df = pd.DataFrame(data={\n",
    "    \"text\": valid_text,\n",
    "    \"label\": valid_label,\n",
    "    \"correctness\": valid_correct\n",
    "})\n",
    "\n",
    "lr_test_pred_df = pd.DataFrame(data={\n",
    "    \"text\": test_text,\n",
    "    \"label\": test_label,\n",
    "    \"correctness\": test_correct\n",
    "})"
   ]
  },
  {
   "cell_type": "code",
   "execution_count": 162,
   "metadata": {},
   "outputs": [],
   "source": [
    "lr_dev_pred_df.to_csv(\"logistic_regression_dev_output.csv\", index=False)"
   ]
  },
  {
   "cell_type": "code",
   "execution_count": 164,
   "metadata": {},
   "outputs": [],
   "source": [
    "lr_test_pred_df.to_csv(\"logistic_regression_test_output.csv\", index=False)"
   ]
  },
  {
   "cell_type": "code",
   "execution_count": null,
   "metadata": {},
   "outputs": [],
   "source": []
  }
 ],
 "metadata": {
  "kernelspec": {
   "display_name": "Python 3",
   "language": "python",
   "name": "python3"
  },
  "language_info": {
   "codemirror_mode": {
    "name": "ipython",
    "version": 3
   },
   "file_extension": ".py",
   "mimetype": "text/x-python",
   "name": "python",
   "nbconvert_exporter": "python",
   "pygments_lexer": "ipython3",
   "version": "3.8.2"
  }
 },
 "nbformat": 4,
 "nbformat_minor": 4
}
