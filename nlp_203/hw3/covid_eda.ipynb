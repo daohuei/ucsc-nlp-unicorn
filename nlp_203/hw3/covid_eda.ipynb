{
 "cells": [
  {
   "cell_type": "code",
   "execution_count": 2,
   "id": "a4386204-72c7-421f-80b3-3c99c57813b0",
   "metadata": {},
   "outputs": [],
   "source": [
    "import json\n",
    "\n",
    "def load_json_file_to_dict(file_name):\n",
    "    return json.load(open(file_name))\n",
    "data_dict = load_json_file_to_dict(\"data/covid-qa/covid-qa-dev.json\")\n",
    "\n",
    "\n",
    "data = data_dict[\"data\"]\n",
    "sample_article = data[0]\n",
    "sample_paragraph = sample_article['paragraphs'][0]"
   ]
  },
  {
   "cell_type": "code",
   "execution_count": 3,
   "id": "b0a6e23d-fcd1-4fb6-9a0b-bfb1432d51f5",
   "metadata": {},
   "outputs": [
    {
     "data": {
      "text/plain": [
       "('# of articles: ', 21)"
      ]
     },
     "execution_count": 3,
     "metadata": {},
     "output_type": "execute_result"
    }
   ],
   "source": [
    "\"# of articles: \", len(data)"
   ]
  },
  {
   "cell_type": "code",
   "execution_count": 4,
   "id": "91519294-7e72-478e-9acc-993fbeb935ba",
   "metadata": {},
   "outputs": [
    {
     "data": {
      "text/plain": [
       "('# of paragraphs of 1st article: ', 1)"
      ]
     },
     "execution_count": 4,
     "metadata": {},
     "output_type": "execute_result"
    }
   ],
   "source": [
    "# qas: question/answer sentence\n",
    "# context: the article in string\n",
    "# document_id: id of the article in integer\n",
    "\"# of paragraphs of 1st article: \", len(sample_article['paragraphs'])"
   ]
  },
  {
   "cell_type": "code",
   "execution_count": 7,
   "id": "3e4147ad-ac88-46b0-8721-b2870c056519",
   "metadata": {},
   "outputs": [
    {
     "data": {
      "text/plain": [
       "dict_keys(['qas', 'context', 'document_id'])"
      ]
     },
     "execution_count": 7,
     "metadata": {},
     "output_type": "execute_result"
    }
   ],
   "source": [
    "sample_article['paragraphs'][0].keys()"
   ]
  },
  {
   "cell_type": "code",
   "execution_count": 76,
   "id": "e3dd1c0e-a72f-49e3-af3d-6751d48faa85",
   "metadata": {},
   "outputs": [
    {
     "data": {
      "text/plain": [
       "('sample for QA pair',\n",
       " {'question': 'When is this especially true?',\n",
       "  'id': '3963',\n",
       "  'answers': [{'text': 'when not all exacerbation events occurred during the viral infection but may also occur well after viral clearance (Kim et al., 2008; Stolz et al., 2019) in particular the late onset of a bacterial infection',\n",
       "    'answer_start': 15414}],\n",
       "  'is_impossible': False})"
      ]
     },
     "execution_count": 76,
     "metadata": {},
     "output_type": "execute_result"
    }
   ],
   "source": [
    "# question: sentence of the question\n",
    "# answers: list of the answer, each has text: answer response and answer_start: position of answer start in the article\n",
    "# is_impossible: bool value for whether the question is impossible to answer\n",
    "\"sample for QA pair\", sample_paragraph['qas'][0]"
   ]
  },
  {
   "cell_type": "code",
   "execution_count": 77,
   "id": "995eb49a-5755-46d5-8873-ecd5fadac52d",
   "metadata": {},
   "outputs": [],
   "source": [
    "def divide(a, b, round_val=6):\n",
    "    val = a / b if b != 0 else 0\n",
    "    return round(val, round_val)"
   ]
  },
  {
   "cell_type": "code",
   "execution_count": 78,
   "id": "55469c5d-806e-4a5a-abda-cf8938c60401",
   "metadata": {},
   "outputs": [],
   "source": [
    "from collections import Counter"
   ]
  },
  {
   "cell_type": "code",
   "execution_count": 79,
   "id": "75bc947e-6a35-489b-b7d2-f4e637b12342",
   "metadata": {},
   "outputs": [],
   "source": [
    "def count_stats(data_dict):\n",
    "    stats_counter = Counter()\n",
    "    stats_counter[\"article_count\"] += len(data_dict['data'])\n",
    "    for article in data_dict['data']:\n",
    "        stats_counter[\"paragraph_count\"] += len(article['paragraphs'])\n",
    "        for paragraph in article['paragraphs']:\n",
    "            stats_counter[\"qa_count\"] += len(paragraph['qas'])\n",
    "            for qa_pair in paragraph['qas']:\n",
    "                stats_counter[\"answer_count\"] += len(qa_pair[\"answers\"])\n",
    "                if qa_pair[\"is_impossible\"]:\n",
    "                    stats_counter[\"impossible_count\"] += 1\n",
    "\n",
    "    stats_counter[\"avg_paragraph\"] = divide(stats_counter[\"paragraph_count\"], stats_counter[\"article_count\"])\n",
    "    stats_counter[\"avg_qa\"] = divide(stats_counter[\"qa_count\"], stats_counter[\"paragraph_count\"])\n",
    "    stats_counter[\"avg_answer\"] = divide(stats_counter[\"answer_count\"], stats_counter[\"qa_count\"])\n",
    "    return stats_counter"
   ]
  },
  {
   "cell_type": "code",
   "execution_count": 80,
   "id": "90e8e881-941c-4e97-a6eb-71f0dc553543",
   "metadata": {},
   "outputs": [
    {
     "data": {
      "text/plain": [
       "Counter({'article_count': 21,\n",
       "         'paragraph_count': 21,\n",
       "         'qa_count': 375,\n",
       "         'answer_count': 375,\n",
       "         'avg_paragraph': 1.0,\n",
       "         'avg_qa': 17.857143,\n",
       "         'avg_answer': 1.0})"
      ]
     },
     "execution_count": 80,
     "metadata": {},
     "output_type": "execute_result"
    }
   ],
   "source": [
    "count_stats(data_dict)"
   ]
  },
  {
   "cell_type": "code",
   "execution_count": 81,
   "id": "f2ea48dc-ed98-473c-b32f-635f83c9f48d",
   "metadata": {},
   "outputs": [
    {
     "data": {
      "text/plain": [
       "('Train data stats: ',\n",
       " Counter({'article_count': 103,\n",
       "          'paragraph_count': 103,\n",
       "          'qa_count': 1417,\n",
       "          'answer_count': 1417,\n",
       "          'avg_paragraph': 1.0,\n",
       "          'avg_qa': 13.757282,\n",
       "          'avg_answer': 1.0}))"
      ]
     },
     "execution_count": 81,
     "metadata": {},
     "output_type": "execute_result"
    }
   ],
   "source": [
    "data_dict = load_json_file_to_dict(\"data/covid-qa/covid-qa-train.json\")\n",
    "\"Train data stats: \", count_stats(data_dict)"
   ]
  },
  {
   "cell_type": "code",
   "execution_count": 82,
   "id": "20a3408e-4e38-4f3b-aff5-0ce21af5b689",
   "metadata": {},
   "outputs": [
    {
     "data": {
      "text/plain": [
       "('Dev data stats: ',\n",
       " Counter({'article_count': 21,\n",
       "          'paragraph_count': 21,\n",
       "          'qa_count': 203,\n",
       "          'answer_count': 203,\n",
       "          'avg_paragraph': 1.0,\n",
       "          'avg_qa': 9.666667,\n",
       "          'avg_answer': 1.0}))"
      ]
     },
     "execution_count": 82,
     "metadata": {},
     "output_type": "execute_result"
    }
   ],
   "source": [
    "data_dict = load_json_file_to_dict(\"data/covid-qa/covid-qa-dev.json\")\n",
    "\"Dev data stats: \", count_stats(data_dict)"
   ]
  },
  {
   "cell_type": "code",
   "execution_count": 83,
   "id": "f8bec17c-eaf7-47da-ab0c-1205f3b57a07",
   "metadata": {},
   "outputs": [
    {
     "data": {
      "text/plain": [
       "('Test data stats: ',\n",
       " Counter({'article_count': 21,\n",
       "          'paragraph_count': 21,\n",
       "          'qa_count': 375,\n",
       "          'answer_count': 375,\n",
       "          'avg_paragraph': 1.0,\n",
       "          'avg_qa': 17.857143,\n",
       "          'avg_answer': 1.0}))"
      ]
     },
     "execution_count": 83,
     "metadata": {},
     "output_type": "execute_result"
    }
   ],
   "source": [
    "data_dict = load_json_file_to_dict(\"data/covid-qa/covid-qa-test.json\")\n",
    "\"Test data stats: \", count_stats(data_dict)"
   ]
  }
 ],
 "metadata": {
  "kernelspec": {
   "display_name": "Python 3 (ipykernel)",
   "language": "python",
   "name": "python3"
  },
  "language_info": {
   "codemirror_mode": {
    "name": "ipython",
    "version": 3
   },
   "file_extension": ".py",
   "mimetype": "text/x-python",
   "name": "python",
   "nbconvert_exporter": "python",
   "pygments_lexer": "ipython3",
   "version": "3.8.13"
  }
 },
 "nbformat": 4,
 "nbformat_minor": 5
}
