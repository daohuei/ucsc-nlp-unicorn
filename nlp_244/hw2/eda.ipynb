{
 "cells": [
  {
   "cell_type": "code",
   "execution_count": 1,
   "metadata": {},
   "outputs": [],
   "source": [
    "from datasets import load_dataset"
   ]
  },
  {
   "cell_type": "code",
   "execution_count": 2,
   "metadata": {},
   "outputs": [],
   "source": [
    "import torch\n",
    "from torch import nn\n",
    "from torch.nn import functional as F"
   ]
  },
  {
   "cell_type": "code",
   "execution_count": 3,
   "metadata": {},
   "outputs": [
    {
     "name": "stderr",
     "output_type": "stream",
     "text": [
      "Using custom data configuration default\n",
      "Reusing dataset emotion (/Users/daohuei/.cache/huggingface/datasets/emotion/default/0.0.0/348f63ca8e27b3713b6c04d723efe6d824a56fb3d1449794716c0f0296072705)\n"
     ]
    },
    {
     "data": {
      "application/vnd.jupyter.widget-view+json": {
       "model_id": "62ebd2c8137c4e07bdfb114f4893d1f8",
       "version_major": 2,
       "version_minor": 0
      },
      "text/plain": [
       "  0%|          | 0/3 [00:00<?, ?it/s]"
      ]
     },
     "metadata": {},
     "output_type": "display_data"
    }
   ],
   "source": [
    "dataset = load_dataset(\"emotion\")"
   ]
  },
  {
   "cell_type": "code",
   "execution_count": 6,
   "metadata": {},
   "outputs": [
    {
     "data": {
      "text/plain": [
       "DatasetDict({\n",
       "    train: Dataset({\n",
       "        features: ['text', 'label'],\n",
       "        num_rows: 16000\n",
       "    })\n",
       "    validation: Dataset({\n",
       "        features: ['text', 'label'],\n",
       "        num_rows: 2000\n",
       "    })\n",
       "    test: Dataset({\n",
       "        features: ['text', 'label'],\n",
       "        num_rows: 2000\n",
       "    })\n",
       "})"
      ]
     },
     "execution_count": 6,
     "metadata": {},
     "output_type": "execute_result"
    }
   ],
   "source": [
    "dataset"
   ]
  },
  {
   "cell_type": "code",
   "execution_count": null,
   "metadata": {},
   "outputs": [],
   "source": []
  },
  {
   "cell_type": "code",
   "execution_count": 4,
   "metadata": {},
   "outputs": [],
   "source": [
    "from transformers import AutoModelForMaskedLM, AutoTokenizer\n",
    "\n",
    "distil_bert = AutoModelForMaskedLM.from_pretrained(\"distilbert-base-uncased\")\n",
    "distil_bert_tokenizer = AutoTokenizer.from_pretrained(\"distilbert-base-uncased\")"
   ]
  },
  {
   "cell_type": "code",
   "execution_count": null,
   "metadata": {},
   "outputs": [],
   "source": []
  },
  {
   "cell_type": "code",
   "execution_count": 5,
   "metadata": {},
   "outputs": [],
   "source": [
    "class_mapping = [\"sad\", \"joy\", \"love\", \"anger\", \"fear\", \"surprise\"]"
   ]
  },
  {
   "cell_type": "code",
   "execution_count": 9,
   "metadata": {},
   "outputs": [],
   "source": [
    "class_idxs = [\n",
    "    distil_bert_tokenizer(class_adj)[\"input_ids\"][1] for class_adj in class_mapping\n",
    "]"
   ]
  },
  {
   "cell_type": "code",
   "execution_count": 10,
   "metadata": {},
   "outputs": [
    {
     "data": {
      "text/plain": [
       "[6517, 6569, 2293, 4963, 3571, 4474]"
      ]
     },
     "execution_count": 10,
     "metadata": {},
     "output_type": "execute_result"
    }
   ],
   "source": [
    "class_idxs"
   ]
  },
  {
   "cell_type": "code",
   "execution_count": null,
   "metadata": {},
   "outputs": [],
   "source": []
  },
  {
   "cell_type": "code",
   "execution_count": 18,
   "metadata": {},
   "outputs": [
    {
     "data": {
      "text/plain": [
       "('i started feeling sentimental about dolls i had as a child and so began a collection of vintage barbie dolls from the sixties. emotion is [MASK].',\n",
       " 'sad')"
      ]
     },
     "execution_count": 18,
     "metadata": {},
     "output_type": "execute_result"
    }
   ],
   "source": [
    "template = \". emotion is [MASK].\"\n",
    "# template = \" It has the emotion of [MASK].\"\n",
    "# template = \" It feels [MASK].\"\n",
    "# template = \" It is [MASK].\"\n",
    "# template = \" It has the feeling of [MASK].\"\n",
    "\n",
    "sample_idx = 18\n",
    "sample_text = dataset[\"train\"][\"text\"][sample_idx]\n",
    "sample_label = dataset[\"train\"][\"label\"][sample_idx]\n",
    "\n",
    "prompt_input = sample_text + template\n",
    "tokenized_text = distil_bert_tokenizer(\n",
    "    prompt_input, truncation=True, padding=True, return_tensors=\"pt\"\n",
    ")\n",
    "\n",
    "prompt_input, class_mapping[sample_label]"
   ]
  },
  {
   "cell_type": "code",
   "execution_count": 26,
   "metadata": {},
   "outputs": [
    {
     "data": {
      "text/plain": [
       "'i started feeling sentimental about dolls i had as a child and so began a collection of vintage barbie dolls from the sixties. emotion is overwhelming.'"
      ]
     },
     "execution_count": 26,
     "metadata": {},
     "output_type": "execute_result"
    }
   ],
   "source": [
    "output = distil_bert(**tokenized_text, output_hidden_states=True)\n",
    "output_tokens = output.logits[:, 1:-1, :].argmax(-1).squeeze(0)\n",
    "output_sent_logit = output.logits[:, -3, :].squeeze(0)\n",
    "output_pred_token = output_sent_logit.argmax(-1)\n",
    "output_sent_token = output_sent_logit[class_idxs].argmax(-1)\n",
    "output_pred_word = distil_bert_tokenizer.decode(output_pred_token)\n",
    "distil_bert_tokenizer.decode(output_tokens)"
   ]
  },
  {
   "cell_type": "code",
   "execution_count": 27,
   "metadata": {},
   "outputs": [
    {
     "data": {
      "text/plain": [
       "('love', 'sad')"
      ]
     },
     "execution_count": 27,
     "metadata": {},
     "output_type": "execute_result"
    }
   ],
   "source": [
    "class_mapping[output_sent_token], class_mapping[sample_label]"
   ]
  },
  {
   "cell_type": "code",
   "execution_count": 22,
   "metadata": {},
   "outputs": [],
   "source": [
    "def get_encoding_from_bert(word):\n",
    "    tokenized_text = distil_bert_tokenizer(\n",
    "        word, truncation=True, padding=True, return_tensors=\"pt\"\n",
    "    )\n",
    "    output = distil_bert(**tokenized_text, output_hidden_states=True)\n",
    "    cls_output = output.hidden_states[-1][0, 0, :]\n",
    "    \n",
    "    return cls_output"
   ]
  },
  {
   "cell_type": "code",
   "execution_count": 23,
   "metadata": {},
   "outputs": [
    {
     "data": {
      "text/plain": [
       "('fear', 'sad')"
      ]
     },
     "execution_count": 23,
     "metadata": {},
     "output_type": "execute_result"
    }
   ],
   "source": [
    "encoding = get_encoding_from_bert(output_pred_word)\n",
    "emotion_encodings = []\n",
    "for emotion in class_mapping:\n",
    "    emotion_encoding = get_encoding_from_bert(emotion)\n",
    "    emotion_encodings.append(emotion_encoding)\n",
    "emotion_encodings = torch.stack(emotion_encodings)\n",
    "sent_idx = F.cosine_similarity(encoding, emotion_encodings, dim=1).argmax(-1)\n",
    "class_mapping[sent_idx], class_mapping[sample_label]"
   ]
  },
  {
   "cell_type": "code",
   "execution_count": null,
   "metadata": {},
   "outputs": [],
   "source": []
  }
 ],
 "metadata": {
  "kernelspec": {
   "display_name": "Python 3 (ipykernel)",
   "language": "python",
   "name": "python3"
  },
  "language_info": {
   "codemirror_mode": {
    "name": "ipython",
    "version": 3
   },
   "file_extension": ".py",
   "mimetype": "text/x-python",
   "name": "python",
   "nbconvert_exporter": "python",
   "pygments_lexer": "ipython3",
   "version": "3.8.13"
  }
 },
 "nbformat": 4,
 "nbformat_minor": 4
}
