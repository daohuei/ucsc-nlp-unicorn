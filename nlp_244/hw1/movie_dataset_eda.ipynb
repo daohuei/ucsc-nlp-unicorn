{
 "cells": [
  {
   "cell_type": "code",
   "execution_count": 125,
   "metadata": {},
   "outputs": [],
   "source": [
    "import pandas as pd\n",
    "\n",
    "# train: contains gold labels and input text\n",
    "# test: only contains input text\n",
    "# hw1_labels_dev.txt is actually just the label for train data, which is useless(not sure why it is provided)\n",
    "\n",
    "DATA_PATH = {\n",
    "    \"train\": \"data/hw1_train.xlsx\",\n",
    "    \"test\": \"data/hw1_test.xlsx\",\n",
    "}\n",
    "\n",
    "train_df = pd.read_excel(DATA_PATH[\"train\"])\n",
    "test_df = pd.read_excel(DATA_PATH[\"test\"])"
   ]
  },
  {
   "cell_type": "code",
   "execution_count": 127,
   "metadata": {},
   "outputs": [],
   "source": [
    "# fix typo: I-movie => I_movie\n",
    "train_df[\"IOB Slot tags\"] = train_df[\"IOB Slot tags\"].apply(\n",
    "    lambda tags: tags.replace(\"I-movie\", \"I_movie\")\n",
    ")"
   ]
  },
  {
   "cell_type": "code",
   "execution_count": 188,
   "metadata": {},
   "outputs": [
    {
     "name": "stdout",
     "output_type": "stream",
     "text": [
      "Number of Data Examples\n",
      "Train: 2253\n",
      "Test: 981\n",
      "Number of Intent Data Examples\n",
      "Train: 1941\n",
      "Number of Slot Data Examples\n",
      "Train: 2253\n"
     ]
    }
   ],
   "source": [
    "# number of data examples for train/test\n",
    "train_num = len(train_df)\n",
    "test_num = len(test_df)\n",
    "intent_train_num = len(train_df[\"Core Relations\"].dropna())\n",
    "slot_train_num = len(train_df[\"IOB Slot tags\"].dropna())\n",
    "print(\"Number of Data Examples\")\n",
    "print(\"Train:\", train_num)\n",
    "print(\"Test:\", test_num)\n",
    "print(\"Number of Intent Data Examples\")\n",
    "print(\"Train:\", intent_train_num)\n",
    "print(\"Number of Slot Data Examples\")\n",
    "print(\"Train:\", slot_train_num)"
   ]
  },
  {
   "cell_type": "code",
   "execution_count": 129,
   "metadata": {},
   "outputs": [
    {
     "name": "stdout",
     "output_type": "stream",
     "text": [
      "SeqLen: Min, Avg, Max\n",
      "Train: 1 6.292498890368398 21\n",
      "Test: 1 6.539245667686035 22\n"
     ]
    }
   ],
   "source": [
    "# sequence length\n",
    "#     min\n",
    "#     max\n",
    "#     average\n",
    "\n",
    "# tokenize with splitting by space\n",
    "def tokenize(utterance):\n",
    "    return utterance.split()\n",
    "\n",
    "\n",
    "train_df[\"tokens\"] = train_df[\"utterances\"].apply(tokenize)\n",
    "test_df[\"tokens\"] = test_df[\"utterances\"].apply(tokenize)\n",
    "\n",
    "train_lens = train_df[\"tokens\"].apply(len)\n",
    "test_lens = test_df[\"tokens\"].apply(len)\n",
    "\n",
    "print(\"SeqLen: Min, Avg, Max\")\n",
    "print(\"Train:\", train_lens.min(), train_lens.mean(), train_lens.max())\n",
    "print(\"Test:\", test_lens.min(), test_lens.mean(), test_lens.max())"
   ]
  },
  {
   "cell_type": "code",
   "execution_count": 130,
   "metadata": {},
   "outputs": [
    {
     "data": {
      "text/plain": [
       "<AxesSubplot:ylabel='Frequency'>"
      ]
     },
     "execution_count": 130,
     "metadata": {},
     "output_type": "execute_result"
    },
    {
     "data": {
      "image/png": "[encoded data removed]",
      "text/plain": [
       "<Figure size 432x288 with 1 Axes>"
      ]
     },
     "metadata": {
      "needs_background": "light"
     },
     "output_type": "display_data"
    }
   ],
   "source": [
    "train_lens.plot.hist(bins=12, alpha=0.5)\n",
    "test_lens.plot.hist(bins=12, alpha=0.5)"
   ]
  },
  {
   "cell_type": "code",
   "execution_count": 164,
   "metadata": {},
   "outputs": [
    {
     "data": {
      "text/plain": [
       "('Intent Label Stat: ',\n",
       " OrderedDict([('movie.starring.actor', 340),\n",
       "              ('movie.directed_by', 335),\n",
       "              ('movie.country', 222),\n",
       "              ('movie.language', 218),\n",
       "              ('movie.rating', 208),\n",
       "              ('movie.initial_release_date', 180),\n",
       "              ('movie.produced_by', 173),\n",
       "              ('movie.genre', 128),\n",
       "              ('movie.subjects', 94),\n",
       "              ('movie.production_companies', 93),\n",
       "              ('movie.estimated_budget', 68),\n",
       "              ('movie.gross_revenue', 31),\n",
       "              ('movie.starring.character', 22),\n",
       "              ('actor.gender', 8),\n",
       "              ('gr.amount', 5),\n",
       "              ('person.date_of_birth', 4),\n",
       "              ('movie.music', 3),\n",
       "              ('movie.locations', 3)]))"
      ]
     },
     "execution_count": 164,
     "metadata": {},
     "output_type": "execute_result"
    }
   ],
   "source": [
    "# intent labels type/count\n",
    "from collections import Counter, OrderedDict\n",
    "\n",
    "relation_counter = Counter()\n",
    "\n",
    "multi_relation_counts = []\n",
    "\n",
    "for relation_str in train_df[\"Core Relations\"].dropna():\n",
    "    relations = relation_str.split()\n",
    "    relation_counter.update(relations)\n",
    "\n",
    "    # counting the mutliple labels number\n",
    "    multi_relation_counts.append(len(relations))\n",
    "\n",
    "relation_counter = OrderedDict(relation_counter.most_common())\n",
    "\"Intent Label Stat: \", relation_counter"
   ]
  },
  {
   "cell_type": "code",
   "execution_count": 165,
   "metadata": {},
   "outputs": [
    {
     "data": {
      "text/plain": [
       "<BarContainer object of 18 artists>"
      ]
     },
     "execution_count": 165,
     "metadata": {},
     "output_type": "execute_result"
    },
    {
     "data": {
      "image/png": "[encoded data removed]",
      "text/plain": [
       "<Figure size 432x288 with 1 Axes>"
      ]
     },
     "metadata": {
      "needs_background": "light"
     },
     "output_type": "display_data"
    }
   ],
   "source": [
    "import matplotlib.pyplot as plt\n",
    "\n",
    "plt.xticks(rotation=\"vertical\")\n",
    "plt.bar(relation_counter.keys(), relation_counter.values())"
   ]
  },
  {
   "cell_type": "code",
   "execution_count": 166,
   "metadata": {},
   "outputs": [
    {
     "name": "stdout",
     "output_type": "stream",
     "text": [
      "OrderedDict([(1, 1754), (2, 181), (3, 5), (4, 1)])\n"
     ]
    },
    {
     "data": {
      "image/png": "[encoded data removed]",
      "text/plain": [
       "<Figure size 432x288 with 1 Axes>"
      ]
     },
     "metadata": {
      "needs_background": "light"
     },
     "output_type": "display_data"
    }
   ],
   "source": [
    "# intent multi-label count\n",
    "multi_relation_counter = OrderedDict(Counter(multi_relation_counts).most_common())\n",
    "plt.xticks(rotation=\"vertical\")\n",
    "plt.bar(\n",
    "    [str(k) for k in multi_relation_counter.keys()], multi_relation_counter.values()\n",
    ")\n",
    "print(multi_relation_counter)"
   ]
  },
  {
   "cell_type": "code",
   "execution_count": 167,
   "metadata": {},
   "outputs": [
    {
     "data": {
      "text/plain": [
       "('Slot Label Stat: ',\n",
       " OrderedDict([('O', 10243),\n",
       "              ('I_movie', 1094),\n",
       "              ('B_movie', 981),\n",
       "              ('B_director', 180),\n",
       "              ('B_person', 177),\n",
       "              ('I_person', 166),\n",
       "              ('B_producer', 164),\n",
       "              ('I_director', 163),\n",
       "              ('B_country', 153),\n",
       "              ('B_mpaa_rating', 140),\n",
       "              ('B_language', 119),\n",
       "              ('I_producer', 114),\n",
       "              ('B_cast', 105),\n",
       "              ('I_cast', 104),\n",
       "              ('B_subject', 95),\n",
       "              ('B_genre', 71),\n",
       "              ('I_subject', 33),\n",
       "              ('I_language', 17),\n",
       "              ('B_char', 15),\n",
       "              ('I_country', 12),\n",
       "              ('I_mpaa_rating', 12),\n",
       "              ('I_char', 5),\n",
       "              ('I_genre', 5),\n",
       "              ('B_release_year', 4),\n",
       "              ('I_release_year', 3),\n",
       "              ('B_location', 2)]))"
      ]
     },
     "execution_count": 167,
     "metadata": {},
     "output_type": "execute_result"
    }
   ],
   "source": [
    "# NE slot type/count\n",
    "\n",
    "slot_counter = Counter()\n",
    "\n",
    "for slot_str in train_df[\"IOB Slot tags\"].dropna():\n",
    "    slots = slot_str.split()\n",
    "    slot_counter.update(slots)\n",
    "\n",
    "slot_counter = OrderedDict(slot_counter.most_common())\n",
    "\"Slot Label Stat: \", slot_counter"
   ]
  },
  {
   "cell_type": "code",
   "execution_count": 168,
   "metadata": {},
   "outputs": [
    {
     "name": "stdout",
     "output_type": "stream",
     "text": [
      "Vocab Size\n",
      "Train:  1147\n",
      "Test:  934\n"
     ]
    }
   ],
   "source": [
    "# vocab size for train\n",
    "least_freq = 0\n",
    "\n",
    "train_vocab = Counter([token for tokens in train_df[\"tokens\"] for token in tokens])\n",
    "test_vocab = Counter([token for tokens in test_df[\"tokens\"] for token in tokens])\n",
    "\n",
    "train_vocab = OrderedDict(\n",
    "    [(k, v) for k, v in train_vocab.most_common() if v > least_freq]\n",
    ")\n",
    "test_vocab = OrderedDict(\n",
    "    [(k, v) for k, v in test_vocab.most_common() if v > least_freq]\n",
    ")\n",
    "\n",
    "\n",
    "print(\"Vocab Size\")\n",
    "print(\"Train: \", len(train_vocab))\n",
    "print(\"Test: \", len(test_vocab))"
   ]
  },
  {
   "cell_type": "code",
   "execution_count": 169,
   "metadata": {},
   "outputs": [
    {
     "data": {
      "text/plain": [
       "[<matplotlib.lines.Line2D at 0x7fd4aa107640>]"
      ]
     },
     "execution_count": 169,
     "metadata": {},
     "output_type": "execute_result"
    },
    {
     "data": {
      "image/png": "[encoded data removed]",
      "text/plain": [
       "<Figure size 432x288 with 1 Axes>"
      ]
     },
     "metadata": {
      "needs_background": "light"
     },
     "output_type": "display_data"
    }
   ],
   "source": [
    "plt.plot(train_vocab.values())\n",
    "plt.plot(test_vocab.values())"
   ]
  },
  {
   "cell_type": "code",
   "execution_count": 207,
   "metadata": {},
   "outputs": [
    {
     "name": "stdout",
     "output_type": "stream",
     "text": [
      "Intent train set split amount:\n",
      "1378 563\n"
     ]
    }
   ],
   "source": [
    "# splitting data and print the amount of train and dev split\n",
    "# Intent Detection\n",
    "def split_train_val_intent(df):\n",
    "    train_intent_df = (\n",
    "        df[[\"utterances\", \"Core Relations\"]].copy().dropna(subset=[\"Core Relations\"])\n",
    "    )\n",
    "    val_intent_df = train_intent_df.sample(0)\n",
    "    for intent in train_intent_df[\"Core Relations\"].unique():\n",
    "        intent_idx = train_intent_df[\"Core Relations\"] == intent\n",
    "        intent_size = len(train_intent_df[intent_idx])\n",
    "        val_intent_size = int(intent_size * 0.3)\n",
    "        train_intent_size = intent_size - val_intent_size\n",
    "        val_intent_df = pd.concat(\n",
    "            [val_intent_df, train_intent_df[intent_idx].sample(val_intent_size)]\n",
    "        )\n",
    "    train_intent_df = train_intent_df.drop(val_intent_df.index)\n",
    "    return train_intent_df, val_intent_df\n",
    "\n",
    "\n",
    "train_intent_df, val_intent_df = split_train_val_intent(train_df)\n",
    "\n",
    "print(\"Intent train set split amount:\")\n",
    "print(len(train_intent_df), len(val_intent_df))"
   ]
  },
  {
   "cell_type": "code",
   "execution_count": 208,
   "metadata": {},
   "outputs": [
    {
     "name": "stdout",
     "output_type": "stream",
     "text": [
      "Slot train set split amount:\n",
      "1602 651\n"
     ]
    }
   ],
   "source": [
    "# Slot Tagging\n",
    "def split_train_val_slot(df):\n",
    "    train_slot_df = (\n",
    "        df[[\"utterances\", \"IOB Slot tags\"]].copy().dropna(subset=[\"IOB Slot tags\"])\n",
    "    )\n",
    "    train_slot_df[\"slot_set\"] = train_slot_df[\"IOB Slot tags\"].apply(\n",
    "        lambda slot_text: \" \".join(sorted(list(set(slot_text.split()))))\n",
    "    )\n",
    "    val_slot_df = train_slot_df.sample(0)\n",
    "    for slot_set_type in train_slot_df[\"slot_set\"].unique():\n",
    "        slot_idx = train_slot_df[\"slot_set\"] == slot_set_type\n",
    "        slot_size = len(train_slot_df[slot_idx])\n",
    "        val_slot_size = int(slot_size * 0.3)\n",
    "        train_slot_size = slot_size - val_slot_size\n",
    "        val_slot_df = pd.concat(\n",
    "            [val_slot_df, train_slot_df[slot_idx].sample(val_slot_size)]\n",
    "        )\n",
    "    train_slot_df = train_slot_df.drop(val_slot_df.index)\n",
    "    return train_slot_df, val_slot_df\n",
    "\n",
    "\n",
    "train_slot_df, val_slot_df = split_train_val_slot(train_df)\n",
    "\n",
    "print(\"Slot train set split amount:\")\n",
    "print(len(train_slot_df), len(val_slot_df))"
   ]
  },
  {
   "cell_type": "code",
   "execution_count": 240,
   "metadata": {},
   "outputs": [],
   "source": [
    "def build_counter(df, key):\n",
    "    counter = Counter()\n",
    "    if key == \"Core Relations\":\n",
    "        for label in df[key].dropna():\n",
    "            labels = label.split()\n",
    "            counter.update(labels)\n",
    "    else:\n",
    "        counter = Counter(df[key])\n",
    "    return OrderedDict(counter.most_common())"
   ]
  },
  {
   "cell_type": "code",
   "execution_count": 253,
   "metadata": {},
   "outputs": [],
   "source": [
    "# sampling and augment the data for solving label imbalance issue\n",
    "# Intent Detection\n",
    "\n",
    "\n",
    "def balance_intent_data(df):\n",
    "    relation_counter = build_counter(df, \"Core Relations\")\n",
    "\n",
    "    avg_count = int(sum(relation_counter.values()) / len(relation_counter.values()))\n",
    "    sample_df = df.sample(0)\n",
    "\n",
    "    for k, v in relation_counter.items():\n",
    "        if v >= avg_count:\n",
    "            continue\n",
    "        # to be sample amount\n",
    "        sample_count = avg_count - v\n",
    "\n",
    "        idx_of_label_k = df[\"Core Relations\"].apply(lambda label: k in label)\n",
    "\n",
    "        # if sample amount if larger, then sample all the value until it exceed the sample count\n",
    "        while sample_count > relation_counter[k]:\n",
    "            temp_df = df[idx_of_label_k].sample(relation_counter[k])\n",
    "            sample_df = pd.concat([sample_df, temp_df])\n",
    "            sample_count -= relation_counter[k]\n",
    "\n",
    "        sample_df = pd.concat([sample_df, df[idx_of_label_k].sample(sample_count)])\n",
    "    balance_df = pd.concat([df.copy(), sample_df])\n",
    "\n",
    "    return balance_df\n",
    "\n",
    "\n",
    "relation_df = train_intent_df[[\"utterances\", \"Core Relations\"]].dropna()\n",
    "balance_relation_df = balance_intent_data(relation_df)"
   ]
  },
  {
   "cell_type": "code",
   "execution_count": 254,
   "metadata": {},
   "outputs": [
    {
     "data": {
      "text/plain": [
       "OrderedDict([('movie.starring.actor', 374),\n",
       "             ('movie.directed_by', 265),\n",
       "             ('movie.country', 186),\n",
       "             ('movie.gross_revenue', 164),\n",
       "             ('movie.language', 155),\n",
       "             ('movie.rating', 149),\n",
       "             ('movie.initial_release_date', 132),\n",
       "             ('movie.produced_by', 122),\n",
       "             ('movie.genre', 98),\n",
       "             ('gr.amount', 96),\n",
       "             ('movie.starring.character', 84),\n",
       "             ('actor.gender', 84),\n",
       "             ('person.date_of_birth', 84),\n",
       "             ('movie.estimated_budget', 84),\n",
       "             ('movie.music', 84),\n",
       "             ('movie.locations', 84),\n",
       "             ('movie.production_companies', 84),\n",
       "             ('movie.subjects', 84)])"
      ]
     },
     "execution_count": 254,
     "metadata": {},
     "output_type": "execute_result"
    }
   ],
   "source": [
    "build_counter(balance_relation_df, \"Core Relations\")"
   ]
  },
  {
   "cell_type": "code",
   "execution_count": 255,
   "metadata": {},
   "outputs": [],
   "source": [
    "def balance_slot_data(df):\n",
    "    slot_counter = build_counter(df, \"slot_set\")\n",
    "    avg_count = int(sum(slot_counter.values()) / len(slot_counter.values()))\n",
    "    sample_df = df.sample(0)\n",
    "\n",
    "    for k, v in slot_counter.items():\n",
    "        if v >= avg_count:\n",
    "            continue\n",
    "        if k == \"O\":\n",
    "            continue\n",
    "        # to be sample amount\n",
    "        sample_count = avg_count - v\n",
    "\n",
    "        idx_of_label_k = df[\"slot_set\"].apply(lambda label: k == label)\n",
    "\n",
    "        # if sample amount if larger, then sample all the value until it exceed the sample count\n",
    "        while sample_count > slot_counter[k]:\n",
    "            temp_df = df[idx_of_label_k].sample(slot_counter[k])\n",
    "            sample_df = pd.concat([sample_df, temp_df])\n",
    "            sample_count -= slot_counter[k]\n",
    "\n",
    "        sample_df = pd.concat([sample_df, df[idx_of_label_k].sample(sample_count)])\n",
    "    balance_df = pd.concat([df.copy(), sample_df])\n",
    "\n",
    "    return balance_df\n",
    "\n",
    "\n",
    "slot_df = train_slot_df[[\"utterances\", \"IOB Slot tags\", \"slot_set\"]].dropna()\n",
    "balance_slot_df = balance_slot_data(slot_df)"
   ]
  },
  {
   "cell_type": "code",
   "execution_count": 256,
   "metadata": {},
   "outputs": [
    {
     "data": {
      "text/plain": [
       "OrderedDict([('B_movie I_movie O', 430),\n",
       "             ('B_movie O', 224),\n",
       "             ('B_person I_person O', 111),\n",
       "             ('B_director I_director O', 106),\n",
       "             ('B_country O', 91),\n",
       "             ('B_mpaa_rating O', 86),\n",
       "             ('O', 79),\n",
       "             ('B_producer I_producer O', 70),\n",
       "             ('B_language O', 70),\n",
       "             ('B_cast I_cast O', 68),\n",
       "             ('B_producer O', 45),\n",
       "             ('B_subject O', 43),\n",
       "             ('B_genre O', 28),\n",
       "             ('B_char B_movie I_movie O', 25),\n",
       "             ('B_char O', 25),\n",
       "             ('B_char B_movie O', 25),\n",
       "             ('B_char B_movie I_char I_movie O', 25),\n",
       "             ('B_char I_char O', 25),\n",
       "             ('B_director B_movie I_director O', 25),\n",
       "             ('B_release_year I_release_year O', 25),\n",
       "             ('B_location O', 25),\n",
       "             ('B_country B_director I_country I_director O', 25),\n",
       "             ('B_director O', 25),\n",
       "             ('B_cast B_director I_cast I_director O', 25),\n",
       "             ('B_country I_country O', 25),\n",
       "             ('I_movie O', 25),\n",
       "             ('B_director B_movie I_director I_movie O', 25),\n",
       "             ('B_country B_genre O', 25),\n",
       "             ('B_mpaa_rating I_mpaa_rating O', 25),\n",
       "             ('B_genre B_mpaa_rating I_mpaa_rating O', 25),\n",
       "             ('B_cast B_movie I_cast I_movie O', 25),\n",
       "             ('B_language I_language O', 25),\n",
       "             ('B_movie I_movie', 25),\n",
       "             ('B_genre B_language O', 25),\n",
       "             ('B_genre I_genre O', 25),\n",
       "             ('B_subject I_subject O', 25),\n",
       "             ('B_genre I_country O', 25),\n",
       "             ('B_genre B_language B_mpaa_rating O', 25),\n",
       "             ('B_genre B_language I_language O', 25),\n",
       "             ('B_movie', 25),\n",
       "             ('B_director B_genre I_director O', 25),\n",
       "             ('B_genre B_movie O', 25),\n",
       "             ('B_person O', 25),\n",
       "             ('B_cast B_movie I_cast O', 25),\n",
       "             ('B_director B_movie I_director', 25),\n",
       "             ('B_director B_mpaa_rating I_director O', 25),\n",
       "             ('B_genre B_movie I_movie O', 25),\n",
       "             ('B_cast B_release_year I_cast O', 25),\n",
       "             ('B_cast O', 25),\n",
       "             ('B_cast B_mpaa_rating I_cast O', 25),\n",
       "             ('B_producer B_release_year I_producer O', 25),\n",
       "             ('B_director B_movie I_director I_movie', 25),\n",
       "             ('B_genre B_subject O', 25),\n",
       "             ('B_subject', 25),\n",
       "             ('B_char I_char', 25),\n",
       "             ('B_genre B_mpaa_rating O', 25),\n",
       "             ('B_mpaa_rating B_producer O', 25),\n",
       "             ('B_genre B_release_year O', 25),\n",
       "             ('B_country B_movie I_movie O', 25),\n",
       "             ('B_person I_person', 25),\n",
       "             ('B_movie B_person I_person O', 25),\n",
       "             ('B_country B_movie O', 25)])"
      ]
     },
     "execution_count": 256,
     "metadata": {},
     "output_type": "execute_result"
    }
   ],
   "source": [
    "build_counter(balance_slot_df, \"slot_set\")"
   ]
  }
 ],
 "metadata": {
  "kernelspec": {
   "display_name": "Python 3",
   "language": "python",
   "name": "python3"
  },
  "language_info": {
   "codemirror_mode": {
    "name": "ipython",
    "version": 3
   },
   "file_extension": ".py",
   "mimetype": "text/x-python",
   "name": "python",
   "nbconvert_exporter": "python",
   "pygments_lexer": "ipython3",
   "version": "3.8.10"
  }
 },
 "nbformat": 4,
 "nbformat_minor": 4
}
